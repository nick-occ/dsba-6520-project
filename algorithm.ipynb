{
 "cells": [
  {
   "cell_type": "raw",
   "id": "956b9ade-77eb-45f5-bc6d-c1779433126d",
   "metadata": {},
   "source": [
    "call gds.graph.create('nypd-comp-rank', ['Location', 'Complaint'],{\n",
    "    LOCATED_AT: {}\n",
    "})"
   ]
  },
  {
   "cell_type": "raw",
   "id": "b5002996-932e-4e0f-b43a-b4e150c572fd",
   "metadata": {},
   "source": [
    "CALL gds.pageRank.stream('nypd-comp-rank') YIELD nodeId, score AS pageRank\n",
    "MATCH (n)<-[l:LOCATED_AT]-()\n",
    "WITH gds.util.asNode(nodeId) AS n, pageRank as page_rank, count(l) as interactions\n",
    "where n.location is not null\n",
    "with n.location as loc, page_rank, interactions\n",
    "ORDER BY page_rank DESC \n",
    "call apoc.spatial.reverseGeocode(loc['y'],loc['x']) yield location\n",
    "return location.description as address, page_rank\n",
    "order by page_rank desc limit 20"
   ]
  }
 ],
 "metadata": {
  "kernelspec": {
   "display_name": "Python 3",
   "language": "python",
   "name": "python3"
  },
  "language_info": {
   "codemirror_mode": {
    "name": "ipython",
    "version": 3
   },
   "file_extension": ".py",
   "mimetype": "text/x-python",
   "name": "python",
   "nbconvert_exporter": "python",
   "pygments_lexer": "ipython3",
   "version": "3.8.5"
  }
 },
 "nbformat": 4,
 "nbformat_minor": 5
}
