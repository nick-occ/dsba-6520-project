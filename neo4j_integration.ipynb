{
 "cells": [
  {
   "cell_type": "code",
   "execution_count": 1,
   "id": "d008ff72-5e8e-4b24-8451-c58a6cdbb89e",
   "metadata": {},
   "outputs": [],
   "source": [
    "from neo4j import GraphDatabase\n",
    "import pandas as pd\n",
    "import collections\n",
    "from collections import Counter\n",
    "import itertools \n",
    "import datetime\n",
    "from datetime import date, timedelta\n",
    "import json\n",
    "\n",
    "from branca.colormap import linear\n",
    "from ipyleaflet import Map, Heatmap, basemaps, WidgetControl, GeoJSON, Choropleth, SplitMapControl, LegendControl, Marker, Polyline, AwesomeIcon, LayersControl\n",
    "import ipywidgets as widgets"
   ]
  },
  {
   "cell_type": "markdown",
   "id": "4b7d4af4-972c-4325-962c-aae8819182a2",
   "metadata": {},
   "source": [
    "# Neo4J DB Connection"
   ]
  },
  {
   "cell_type": "code",
   "execution_count": 2,
   "id": "b7d76f4d-ba08-4c16-9623-492a9e410ea1",
   "metadata": {},
   "outputs": [],
   "source": [
    "uri = \"bolt://localhost:7687\""
   ]
  },
  {
   "cell_type": "code",
   "execution_count": 3,
   "id": "79ccbfab-3231-4a13-92a3-0a26e59bd83e",
   "metadata": {},
   "outputs": [],
   "source": [
    "driver = GraphDatabase.driver(uri, auth=(\"neo4j\", \"SFi5gS09lHiMfu9VuJTg\"))"
   ]
  },
  {
   "cell_type": "markdown",
   "id": "aaf94d46-f3dc-40a6-8a13-97e3f4e79726",
   "metadata": {},
   "source": [
    "# Functions"
   ]
  },
  {
   "cell_type": "code",
   "execution_count": 4,
   "id": "c390a7a5-ec6e-4f39-9d63-ff6df377fbda",
   "metadata": {},
   "outputs": [],
   "source": [
    "def get_offenses(tx, query):\n",
    "    offenses = []\n",
    "    \n",
    "    results = tx.run(query)\n",
    "    for result in results:\n",
    "        offenses.append(result[\"offense\"])\n",
    "    return offenses"
   ]
  },
  {
   "cell_type": "code",
   "execution_count": 5,
   "id": "2e064272-93a3-41bb-9dba-e04fe2ef2c91",
   "metadata": {},
   "outputs": [],
   "source": [
    "def get_all_precincts(tx, query):\n",
    "    precincts = []\n",
    "    \n",
    "    results = tx.run(query)\n",
    "    for result in results:\n",
    "        precincts.append({\n",
    "            'precinct': result['precinct'],\n",
    "            'complaints': result['complaints']\n",
    "        })\n",
    "    return precincts"
   ]
  },
  {
   "cell_type": "code",
   "execution_count": 6,
   "id": "c770a49b-0669-4030-ab28-eb8fe9dcbaad",
   "metadata": {},
   "outputs": [],
   "source": [
    "def get_louvain(tx, query):\n",
    "    locs = []\n",
    "    results = tx.run(query)\n",
    "        \n",
    "    for result in results:\n",
    "        locs.append({\n",
    "            \"location_id\": result['location_id'],\n",
    "            \"latitude\": result['latitude'],\n",
    "            \"longitude\": result['longitude'],\n",
    "            \"community\": result['community']\n",
    "        })\n",
    "    return locs"
   ]
  },
  {
   "cell_type": "code",
   "execution_count": 7,
   "id": "e0a263e0-5b89-4d52-9305-563922bc1ae7",
   "metadata": {},
   "outputs": [],
   "source": [
    "def get_page_rank(tx, query):\n",
    "    locs = []\n",
    "    results = tx.run(query)\n",
    "        \n",
    "    for result in results:\n",
    "        locs.append({\n",
    "            \"location_id\": result['location_id'],\n",
    "            \"latitude\": result['latitude'],\n",
    "            \"longitude\": result['longitude'],\n",
    "            \"score\": result['score']\n",
    "        })\n",
    "    return locs"
   ]
  },
  {
   "cell_type": "code",
   "execution_count": 8,
   "id": "811374fb-9299-4fd5-a0cf-66ba3f9b26aa",
   "metadata": {},
   "outputs": [],
   "source": [
    "def get_nearby_locs(tx, query):\n",
    "    locs = []\n",
    "    results = tx.run(query)\n",
    "        \n",
    "    for result in results:\n",
    "        locs.append({\n",
    "            \"l1\": result['l1'],\n",
    "            \"l2\": result['l2']\n",
    "        })\n",
    "    return locs"
   ]
  },
  {
   "cell_type": "code",
   "execution_count": 9,
   "id": "cead9db9-d1a3-4005-bd9f-fa6c14cafd0c",
   "metadata": {},
   "outputs": [],
   "source": [
    "def get_complaints_by_loc(tx, query):\n",
    "    locs = []\n",
    "    results = tx.run(query)\n",
    "        \n",
    "    for result in results:\n",
    "        locs.append({\n",
    "            \"location_id\": result['location_id'],\n",
    "            \"number_of_complaints\": result['number_of_complaints']\n",
    "        })\n",
    "    return locs"
   ]
  },
  {
   "cell_type": "code",
   "execution_count": 10,
   "id": "0e381014-b844-4ac5-aa57-da5775867314",
   "metadata": {},
   "outputs": [],
   "source": [
    "def get_comp_by_prec_date_offense(tx, query):\n",
    "    data = []\n",
    "    results = tx.run(query)\n",
    "    \n",
    "    for result in results:\n",
    "        data.append({\n",
    "            \"precinct\": result[\"precinct\"],\n",
    "            \"complaint_date\": result[\"complaint_date\"],\n",
    "            \"offense\": result[\"offense\"],\n",
    "            \"complaints\": result[\"complaints\"],\n",
    "            \"complaints_per_100k_sqft\": result[\"complaints_per_100k_sqft\"]\n",
    "        })\n",
    "        \n",
    "    return data"
   ]
  },
  {
   "cell_type": "code",
   "execution_count": 11,
   "id": "6c9e73f0-e8fe-422f-bafe-d6bbd7f065d5",
   "metadata": {},
   "outputs": [],
   "source": [
    "# function called by click event\n",
    "def on_button_clicked(b):\n",
    "    with output:\n",
    "        print(list(offenses_widget.value))\n",
    "        print(date_selection.value)\n",
    "    \n",
    "        cluster_map.clear_layers()\n",
    "        cluster_map.add_layer(basemaps.CartoDB.DarkMatter)\n",
    "    \n",
    "    calculate_clusters(date_selection.value, list(offenses_widget.value))"
   ]
  },
  {
   "cell_type": "code",
   "execution_count": 12,
   "id": "689e4fac-ac45-439d-9fd9-4d0219ab10ed",
   "metadata": {},
   "outputs": [],
   "source": [
    "# function called by click event\n",
    "def on_compare_button_clicked(b):\n",
    "    with output:    \n",
    "        left_choro_map.clear_layers()\n",
    "        right_choro_map.clear_layers()\n",
    "        left_choro_map.add_layer(basemaps.CartoDB.DarkMatter)\n",
    "        right_choro_map.add_layer(basemaps.CartoDB.DarkMatter)\n",
    "    \n",
    "    compare_complaint_dates(date_selection_y_m_l.value, date_selection_y_m_r.value, list(offenses_widget.value))"
   ]
  },
  {
   "cell_type": "code",
   "execution_count": 13,
   "id": "b2ec6101-0fe2-49a3-a51d-57afd028b945",
   "metadata": {
    "tags": []
   },
   "outputs": [],
   "source": [
    "def calculate_clusters(dates, offenses):\n",
    "    \n",
    "    from_date = f\"'{dates[0]}'\"\n",
    "    to_date = f\"'{dates[1]}'\"\n",
    "    \n",
    "    louvain_query = 'CALL gds.louvain.stream({  \\n\\\n",
    "    nodeQuery: \"MATCH (l:Location)<-[:LOCATED_AT]-(c:Complaint)-[:COMMITTED_OFFENSE]->(o:Offense) ' \\\n",
    "    'where o.offense in '+ str(offenses) + ' and c.complaint_date >= ' + from_date + ' and c.complaint_date <= ' + to_date + '  return distinct id(l) as id\",\\n\\\n",
    "    relationshipQuery: \"MATCH (c:Complaint)-[:LOCATED_AT]->(l1:Location)-[:LOCATED_NEARBY]->(l2:Location) return id(l1) as source, id(l2) as target\",\\n\\\n",
    "    validateRelationships: false,\\n\\\n",
    "    maxIterations: 50})\\n\\\n",
    "    yield nodeId, communityId\\n\\\n",
    "    RETURN gds.util.asNode(nodeId).location_id AS location_id, gds.util.asNode(nodeId).latitude AS latitude, gds.util.asNode(nodeId).longitude AS longitude, communityId as community'\n",
    "    \n",
    "    number_of_complaints_query = 'MATCH (l:Location)<-[:LOCATED_AT]-(c:Complaint)-[:COMMITTED_OFFENSE]->(o:Offense) where o.offense in '+ str(offenses) + ' and c.complaint_date >= ' + from_date + ' and c.complaint_date <= ' + to_date + ' return distinct l.location_id as location_id, count(c) as number_of_complaints'\n",
    "    \n",
    "    \n",
    "    with driver.session() as session:\n",
    "        louvain = session.read_transaction(get_louvain, louvain_query)\n",
    "        louvain_df = pd.DataFrame(louvain)\n",
    "        \n",
    "        louvain_df['latitude'] = louvain_df.latitude.astype(float)\n",
    "        louvain_df['longitude'] = louvain_df.longitude.astype(float)\n",
    "        \n",
    "        complaints = session.read_transaction(get_complaints_by_loc, number_of_complaints_query)\n",
    "        complaints_df = pd.DataFrame(complaints)\n",
    "        \n",
    "        df_merge = louvain_df.merge(complaints_df, on=['location_id'])\n",
    "        \n",
    "        clusters = df_merge.groupby('community').agg({'latitude': lambda x: x.mean(), 'longitude': lambda x: x.mean(),'number_of_complaints': lambda x: x.sum()})\n",
    "        \n",
    "        lat_lon = list(clusters.apply(lambda x: (x['latitude'], x['longitude'],x['number_of_complaints']), axis=1))\n",
    "        print(lat_lon)\n",
    "                \n",
    "        cluster_map.add_layer(Heatmap(locations=lat_lon, radius=20))"
   ]
  },
  {
   "cell_type": "code",
   "execution_count": 14,
   "id": "089c59a4-5b98-4321-a27f-6cfdfff0f131",
   "metadata": {},
   "outputs": [],
   "source": [
    "def compare_complaint_dates(left_date, right_date, offenses):\n",
    "    \n",
    "    left_df = comp_prec_df.loc[(comp_prec_df.complaint_date==left_date) & (comp_prec_df.offense.isin(offenses)),['precinct','complaints']]\n",
    "    right_df = comp_prec_df.loc[(comp_prec_df.complaint_date==right_date) & (comp_prec_df.offense.isin(offenses)),['precinct','complaints']]\n",
    "    \n",
    "    left_dict = dict(zip(left_df['precinct'].tolist(), left_df['complaints'].tolist()))\n",
    "    right_dict = dict(zip(right_df['precinct'].tolist(), right_df['complaints'].tolist()))\n",
    "    \n",
    "    \n",
    "    left_dict = dict((x, left_dict.get(x, 0) + all_precincts_dict.get(x, 0)) for x in set(left_dict)|set(all_precincts_dict))\n",
    "    right_dict = dict((x, right_dict.get(x, 0) + all_precincts_dict.get(x, 0)) for x in set(right_dict)|set(all_precincts_dict))\n",
    "    \n",
    "    left_layer = Choropleth(\n",
    "        geo_data=precincts_json,\n",
    "        choro_data=left_dict,\n",
    "        key_on='id',\n",
    "        colormap=linear.YlOrRd_04,\n",
    "        border_color='black',\n",
    "        style={'fillOpacity': 0.8})\n",
    "    \n",
    "    right_layer = Choropleth(\n",
    "        geo_data=precincts_json,\n",
    "        choro_data=right_dict,\n",
    "        key_on='id',\n",
    "        colormap=linear.YlOrRd_04,\n",
    "        border_color='black',\n",
    "        style={'fillOpacity': 0.8})\n",
    "    \n",
    "    \n",
    "    left_choro_map.add_layer(left_layer)\n",
    "    right_choro_map.add_layer(right_layer)\n"
   ]
  },
  {
   "cell_type": "code",
   "execution_count": 15,
   "id": "5cff3723-f441-4903-a261-c4e99356905c",
   "metadata": {},
   "outputs": [],
   "source": [
    "# function called by click event\n",
    "def on_page_rank_button_clicked(b):\n",
    "    with output:    \n",
    "        page_rank_map.clear_layers()\n",
    "        page_rank_map.add_layer(basemaps.CartoDB.DarkMatter)\n",
    "    \n",
    "    page_rank_locations(int_slider.value, list(offenses_widget.value))"
   ]
  },
  {
   "cell_type": "code",
   "execution_count": 16,
   "id": "c5c40af1-66be-4aad-8924-d8fcb438af0d",
   "metadata": {},
   "outputs": [],
   "source": [
    "def add_marker(x):\n",
    "    coord = (x['latitude'], x['longitude'])\n",
    "    \n",
    "    icon1 = AwesomeIcon(\n",
    "        name='bullseye',\n",
    "        marker_color='red',\n",
    "        icon_color='black',\n",
    "        spin=False)\n",
    "    \n",
    "    marker = Marker(icon=icon1,location=coord, title='Location: ' + str(coord)+'\\n'+'Page Rank: ' +str(x['score']), draggable=False)\n",
    "    page_rank_map.add_layer(marker)\n",
    "    "
   ]
  },
  {
   "cell_type": "code",
   "execution_count": 17,
   "id": "dc7f706a-4325-4b9d-8810-08f764071527",
   "metadata": {},
   "outputs": [],
   "source": [
    "def add_nearby_marker(x):\n",
    "    coord = tuple(x['l2'])\n",
    "    \n",
    "    icon1 = AwesomeIcon(\n",
    "        name='map-pin',\n",
    "        marker_color='lightblue',\n",
    "        icon_color='black',\n",
    "        spin=False)\n",
    "    \n",
    "    marker = Marker(icon=icon1, location=coord, draggable=False)\n",
    "    \n",
    "    line = Polyline(locations=[x['l1'],x['l2']],\n",
    "    color=\"white\",\n",
    "    fill=False)\n",
    "    \n",
    "    page_rank_map.add_layer(line)\n",
    "    page_rank_map.add_layer(marker)\n",
    "    "
   ]
  },
  {
   "cell_type": "code",
   "execution_count": 18,
   "id": "60b9842d-a2ec-4a8d-b48a-57b62b1d1575",
   "metadata": {},
   "outputs": [],
   "source": [
    "def page_rank_locations(days_back, offenses):\n",
    "    \n",
    "    latest = datetime.datetime(2021, 3, 31)\n",
    "    d = datetime.timedelta(days = days_back)\n",
    "    a = latest - d\n",
    "    print(a)\n",
    "    from_date = a.strftime('%Y-%m-%d')  \n",
    "    \n",
    "    from_date = f\"'{from_date}'\"\n",
    "    \n",
    "    page_rank_query = 'CALL gds.pageRank.stream({ \\n\\\n",
    "    nodeQuery: \"match (l:Location) return distinct id(l) as id\",\\n \\\n",
    "    relationshipQuery: \"match (o:Offense)<-[:COMMITTED_OFFENSE]-(c:Complaint)-[:LOCATED_AT]->(l:Location)-[:LOCATED_NEARBY]->(l2:Location) where o.offense in ' + str(offenses) + ' and c.complaint_date >= ' + from_date + ' return id(l) as source, id(l2) as target\",\\n\\\n",
    "    validateRelationships: false})\\n\\\n",
    "    YIELD nodeId, score\\n\\\n",
    "    with gds.util.asNode(nodeId).location_id AS location_id, gds.util.asNode(nodeId).latitude AS latitude, gds.util.asNode(nodeId).longitude AS longitude, score\\n\\\n",
    "    where location_id is not null\\n\\\n",
    "    return location_id, latitude, longitude, score\\n\\\n",
    "    order by score desc\\n\\\n",
    "    limit 10'\n",
    "    \n",
    "    print(page_rank_query)\n",
    "    \n",
    "    with driver.session() as session:\n",
    "        page_rank = session.read_transaction(get_page_rank, page_rank_query)\n",
    "        page_rank_df = pd.DataFrame(page_rank)\n",
    "        \n",
    "        page_rank_df['latitude'] = page_rank_df.latitude.astype(float)\n",
    "        page_rank_df['longitude'] = page_rank_df.longitude.astype(float)\n",
    "        \n",
    "        \n",
    "        \n",
    "        nearby_locs_query = 'match (l1:Location)-[ln:LOCATED_NEARBY]-(l2:Location)<-[:LOCATED_AT]-(c:Complaint)-[:COMMITTED_OFFENSE]->(o:Offense) \\n\\\n",
    "        where l1.location_id in '+ str(list(page_rank_df.location_id.unique())) + 'and c.complaint_date >= ' + from_date + ' and o.offense in '+ str(offenses) + ' with \\\n",
    "        apoc.convert.toFloat(l1.latitude) as l1_lat,apoc.convert.toFloat(l1.longitude) as l1_lon, apoc.convert.toFloat(l2.latitude) as l2_lat,apoc.convert.toFloat(l2.longitude) as l2_lon \\\n",
    "        return distinct [l1_lat,l1_lon] as l1,[ l2_lat,l2_lon] as l2'\n",
    "        \n",
    "        nearby_locs = session.read_transaction(get_nearby_locs, nearby_locs_query)\n",
    "        nearby_locs_df = pd.DataFrame(nearby_locs)\n",
    "        \n",
    "        nearby_locs_df.apply(add_nearby_marker, axis=1)\n",
    "        \n",
    "        page_rank_df.apply(add_marker, axis=1)"
   ]
  },
  {
   "cell_type": "markdown",
   "id": "65c714a9-3284-4614-80d0-b791bd0eb258",
   "metadata": {},
   "source": [
    "# Properties"
   ]
  },
  {
   "cell_type": "markdown",
   "id": "e6f78492-1249-46ab-bcd3-c485a43f320d",
   "metadata": {},
   "source": [
    "## Widget Properties"
   ]
  },
  {
   "cell_type": "code",
   "execution_count": 19,
   "id": "061ae672-b9a2-4e15-adf3-0357c442a963",
   "metadata": {},
   "outputs": [],
   "source": [
    "# output widget\n",
    "output = widgets.Output()"
   ]
  },
  {
   "cell_type": "markdown",
   "id": "397fd20c-1a68-4167-9c1e-280dcb02d276",
   "metadata": {},
   "source": [
    "## Map Properties"
   ]
  },
  {
   "cell_type": "code",
   "execution_count": 20,
   "id": "dad28996-2c8e-4c19-8c41-1581f9bd4203",
   "metadata": {},
   "outputs": [],
   "source": [
    "center = [40.7128, -74.0060]\n",
    "zoom = 11"
   ]
  },
  {
   "cell_type": "markdown",
   "id": "318923e6-5381-407b-aaa6-aa97847b5d25",
   "metadata": {},
   "source": [
    "## Date Properties"
   ]
  },
  {
   "cell_type": "markdown",
   "id": "f68ceaa0-20f4-4357-8eb2-6f4b333b4014",
   "metadata": {},
   "source": [
    "sdate = date(2019,1,1)   # start date\n",
    "edate = date(2021,3,31)   # end date\n",
    "\n",
    "date_range = pd.date_range(sdate,edate-timedelta(days=1),freq='d')\n",
    "date_range = [d.strftime('%Y-%m-%d') for d in date_range]\n",
    "\n",
    "date_range2 = pd.date_range(sdate,edate-timedelta(days=1),freq='m')\n",
    "date_range2 = [d.strftime('%Y-%m') for d in date_range2]\n",
    "print(date_range2)"
   ]
  },
  {
   "cell_type": "code",
   "execution_count": 21,
   "id": "c231e735-1afc-4f8d-a175-1d4bc9c40502",
   "metadata": {},
   "outputs": [],
   "source": [
    "# date properties\n",
    "sdate = date(2019,1,1)   # start date\n",
    "edate = date(2021,3,31)   # end date\n",
    "\n",
    "# first map\n",
    "date_range = pd.date_range(sdate,edate-timedelta(days=1),freq='d')\n",
    "date_range = [d.strftime('%Y-%m-%d') for d in date_range]\n",
    "\n",
    "# second map\n",
    "date_range2 = pd.date_range(sdate,edate-timedelta(days=1),freq='m')\n",
    "date_range2 = [d.strftime('%Y-%m') for d in date_range2]"
   ]
  },
  {
   "cell_type": "markdown",
   "id": "fea0051d-1082-4be3-b5ee-888d4005a3f5",
   "metadata": {},
   "source": [
    "# All Precincts Query"
   ]
  },
  {
   "cell_type": "code",
   "execution_count": 22,
   "id": "7713d051-3e0f-4a72-adb7-1bbfd8d5645b",
   "metadata": {},
   "outputs": [],
   "source": [
    "# needed so every entry in the choropleth map has a value, 0 by default\n",
    "all_precincts_query = 'match (p:PrecinctName) return distinct p.precinct as precinct, 0 as complaints'"
   ]
  },
  {
   "cell_type": "code",
   "execution_count": 23,
   "id": "bb6079fa-af9c-47c7-be0d-93bb245660bd",
   "metadata": {},
   "outputs": [],
   "source": [
    "with driver.session() as session:\n",
    "    all_precincts = session.read_transaction(get_all_precincts, all_precincts_query)"
   ]
  },
  {
   "cell_type": "code",
   "execution_count": 24,
   "id": "6d84d23e-333d-4419-9746-20733fdf8d5c",
   "metadata": {},
   "outputs": [
    {
     "data": {
      "text/html": [
       "<div>\n",
       "<style scoped>\n",
       "    .dataframe tbody tr th:only-of-type {\n",
       "        vertical-align: middle;\n",
       "    }\n",
       "\n",
       "    .dataframe tbody tr th {\n",
       "        vertical-align: top;\n",
       "    }\n",
       "\n",
       "    .dataframe thead th {\n",
       "        text-align: right;\n",
       "    }\n",
       "</style>\n",
       "<table border=\"1\" class=\"dataframe\">\n",
       "  <thead>\n",
       "    <tr style=\"text-align: right;\">\n",
       "      <th></th>\n",
       "      <th>precinct</th>\n",
       "      <th>complaints</th>\n",
       "    </tr>\n",
       "  </thead>\n",
       "  <tbody>\n",
       "    <tr>\n",
       "      <th>0</th>\n",
       "      <td>Precinct 75</td>\n",
       "      <td>0</td>\n",
       "    </tr>\n",
       "    <tr>\n",
       "      <th>1</th>\n",
       "      <td>Precinct 110</td>\n",
       "      <td>0</td>\n",
       "    </tr>\n",
       "    <tr>\n",
       "      <th>2</th>\n",
       "      <td>Precinct 52</td>\n",
       "      <td>0</td>\n",
       "    </tr>\n",
       "    <tr>\n",
       "      <th>3</th>\n",
       "      <td>Precinct 43</td>\n",
       "      <td>0</td>\n",
       "    </tr>\n",
       "    <tr>\n",
       "      <th>4</th>\n",
       "      <td>Precinct 46</td>\n",
       "      <td>0</td>\n",
       "    </tr>\n",
       "  </tbody>\n",
       "</table>\n",
       "</div>"
      ],
      "text/plain": [
       "       precinct  complaints\n",
       "0   Precinct 75           0\n",
       "1  Precinct 110           0\n",
       "2   Precinct 52           0\n",
       "3   Precinct 43           0\n",
       "4   Precinct 46           0"
      ]
     },
     "execution_count": 24,
     "metadata": {},
     "output_type": "execute_result"
    }
   ],
   "source": [
    "all_precincts_df = pd.DataFrame(all_precincts)\n",
    "all_precincts_df.head()"
   ]
  },
  {
   "cell_type": "code",
   "execution_count": 25,
   "id": "23cac49f-0cbe-4a70-a1da-04b0d9ff9fe4",
   "metadata": {},
   "outputs": [],
   "source": [
    "all_precincts_dict = dict(zip(all_precincts_df['precinct'].tolist(), all_precincts_df['complaints'].tolist()))"
   ]
  },
  {
   "cell_type": "markdown",
   "id": "90b1ca7b-7e77-44c7-acc2-2031ff7cc2ee",
   "metadata": {},
   "source": [
    "# Load Precincts GeoJSON"
   ]
  },
  {
   "cell_type": "code",
   "execution_count": 26,
   "id": "d25becbe-d58f-4466-ac5c-2228548ef8e7",
   "metadata": {},
   "outputs": [],
   "source": [
    "with open('./data/gis/geojson/Police Precincts.geojson') as file:\n",
    "    precincts_json = json.load(file)"
   ]
  },
  {
   "cell_type": "code",
   "execution_count": 27,
   "id": "cdbb6816-6cdb-4ba7-99d3-dda7aafb4895",
   "metadata": {},
   "outputs": [],
   "source": [
    "for x in precincts_json['features']:\n",
    "    x['precinct'] = 'Precinct ' + x['properties']['precinct']\n",
    "    x['id'] = 'Precinct ' + x['properties']['precinct']\n",
    "    "
   ]
  },
  {
   "cell_type": "markdown",
   "id": "a019c15e-4834-4f6b-b22d-c59060e9712e",
   "metadata": {},
   "source": [
    "# Complaints by Precinct, Date, and Offense"
   ]
  },
  {
   "cell_type": "code",
   "execution_count": 28,
   "id": "459617eb-3722-45cc-ad8f-9caa3b8ab3f8",
   "metadata": {},
   "outputs": [],
   "source": [
    "# comp_by_prec_date_offense_query = 'match (o:GeneralOffense)<-[:COMMITTED_OFFENSE]-(c:Complaint)<-[:REPORTED]-(p:PrecinctName) \\\n",
    "# return p.precinct as precinct, apoc.temporal.format(date(c.complaint_date),\"yyyy-MM\") as complaint_date, o.offense as offense, count(c) as complaints \\\n",
    "# order by precinct'"
   ]
  },
  {
   "cell_type": "code",
   "execution_count": 29,
   "id": "f8c78ffc-b248-45b3-b748-d129d5e776ad",
   "metadata": {},
   "outputs": [],
   "source": [
    "comp_by_prec_date_offense_query = 'match (o:GeneralOffense)<-[:COMMITTED_OFFENSE]-(c:Complaint)<-[:REPORTED]-(p:PrecinctName) \\\n",
    "with p.precinct as precinct, apoc.temporal.format(date(c.complaint_date),\"yyyy-MM\") as complaint_date, o.offense as offense, apoc.convert.toFloat(p.area) as area, count(c) as complaints \\\n",
    "return precinct, complaint_date, offense, complaints, complaints/area  * 100000 as complaints_per_100k_sqft order by precinct'"
   ]
  },
  {
   "cell_type": "code",
   "execution_count": 30,
   "id": "f03263d4-20ed-4a1d-a1c9-3975d17db353",
   "metadata": {},
   "outputs": [],
   "source": [
    "with driver.session() as session:\n",
    "    comp_prec_date_off = session.read_transaction(get_comp_by_prec_date_offense, comp_by_prec_date_offense_query)"
   ]
  },
  {
   "cell_type": "code",
   "execution_count": 31,
   "id": "b23a77cb-f5db-4faa-88a5-f6459e0ff60a",
   "metadata": {},
   "outputs": [],
   "source": [
    "comp_prec_df = pd.DataFrame(comp_prec_date_off)"
   ]
  },
  {
   "cell_type": "code",
   "execution_count": 32,
   "id": "4253852a-c337-4a4f-bc4e-be959731a000",
   "metadata": {},
   "outputs": [
    {
     "data": {
      "text/html": [
       "<div>\n",
       "<style scoped>\n",
       "    .dataframe tbody tr th:only-of-type {\n",
       "        vertical-align: middle;\n",
       "    }\n",
       "\n",
       "    .dataframe tbody tr th {\n",
       "        vertical-align: top;\n",
       "    }\n",
       "\n",
       "    .dataframe thead th {\n",
       "        text-align: right;\n",
       "    }\n",
       "</style>\n",
       "<table border=\"1\" class=\"dataframe\">\n",
       "  <thead>\n",
       "    <tr style=\"text-align: right;\">\n",
       "      <th></th>\n",
       "      <th>precinct</th>\n",
       "      <th>complaint_date</th>\n",
       "      <th>offense</th>\n",
       "      <th>complaints</th>\n",
       "      <th>complaints_per_100k_sqft</th>\n",
       "    </tr>\n",
       "  </thead>\n",
       "  <tbody>\n",
       "    <tr>\n",
       "      <th>0</th>\n",
       "      <td>Precinct 1</td>\n",
       "      <td>2019-04</td>\n",
       "      <td>GRAND LARCENY</td>\n",
       "      <td>66</td>\n",
       "      <td>0.139488</td>\n",
       "    </tr>\n",
       "    <tr>\n",
       "      <th>1</th>\n",
       "      <td>Precinct 1</td>\n",
       "      <td>2020-08</td>\n",
       "      <td>GRAND LARCENY</td>\n",
       "      <td>61</td>\n",
       "      <td>0.128921</td>\n",
       "    </tr>\n",
       "    <tr>\n",
       "      <th>2</th>\n",
       "      <td>Precinct 1</td>\n",
       "      <td>2020-05</td>\n",
       "      <td>CRIMINAL MISCHIEF &amp; RELATED OF</td>\n",
       "      <td>21</td>\n",
       "      <td>0.044383</td>\n",
       "    </tr>\n",
       "    <tr>\n",
       "      <th>3</th>\n",
       "      <td>Precinct 1</td>\n",
       "      <td>2020-01</td>\n",
       "      <td>GRAND LARCENY</td>\n",
       "      <td>94</td>\n",
       "      <td>0.198665</td>\n",
       "    </tr>\n",
       "    <tr>\n",
       "      <th>4</th>\n",
       "      <td>Precinct 1</td>\n",
       "      <td>2020-08</td>\n",
       "      <td>BURGLARY</td>\n",
       "      <td>14</td>\n",
       "      <td>0.029588</td>\n",
       "    </tr>\n",
       "  </tbody>\n",
       "</table>\n",
       "</div>"
      ],
      "text/plain": [
       "     precinct complaint_date                         offense  complaints  \\\n",
       "0  Precinct 1        2019-04                   GRAND LARCENY          66   \n",
       "1  Precinct 1        2020-08                   GRAND LARCENY          61   \n",
       "2  Precinct 1        2020-05  CRIMINAL MISCHIEF & RELATED OF          21   \n",
       "3  Precinct 1        2020-01                   GRAND LARCENY          94   \n",
       "4  Precinct 1        2020-08                        BURGLARY          14   \n",
       "\n",
       "   complaints_per_100k_sqft  \n",
       "0                  0.139488  \n",
       "1                  0.128921  \n",
       "2                  0.044383  \n",
       "3                  0.198665  \n",
       "4                  0.029588  "
      ]
     },
     "execution_count": 32,
     "metadata": {},
     "output_type": "execute_result"
    }
   ],
   "source": [
    "comp_prec_df.head()"
   ]
  },
  {
   "cell_type": "markdown",
   "id": "bd618607-d711-4601-904f-2f849b6e2ba1",
   "metadata": {},
   "source": [
    "# Offenses"
   ]
  },
  {
   "cell_type": "code",
   "execution_count": 33,
   "id": "a263681a-efb9-4170-b4b8-ed90b7fc856c",
   "metadata": {},
   "outputs": [],
   "source": [
    "offenses_query = 'match (o:Offense)<-[:COMMITTED_OFFENSE]-(c:Complaint) \\\n",
    "where c.complaint_date >= ' + \"'2019-01-01'\" + ' and c.complaint_date <= ' + \"'2021-03-31'\" + 'return distinct o.offense as offense'"
   ]
  },
  {
   "cell_type": "code",
   "execution_count": 34,
   "id": "e5d2a04e-bbc8-4d17-997f-95389c1bc377",
   "metadata": {},
   "outputs": [],
   "source": [
    "with driver.session() as session:\n",
    "    offenses = session.read_transaction(get_offenses, offenses_query)"
   ]
  },
  {
   "cell_type": "code",
   "execution_count": 35,
   "id": "da66ed2d-cee1-42e8-ae56-8640c4dd3ce1",
   "metadata": {
    "tags": []
   },
   "outputs": [],
   "source": [
    "offenses = sorted(offenses)"
   ]
  },
  {
   "cell_type": "markdown",
   "id": "9f6cb86a-67f3-434f-8aa0-00f02c0e040c",
   "metadata": {},
   "source": [
    "\n",
    "# Testing"
   ]
  },
  {
   "cell_type": "code",
   "execution_count": 36,
   "id": "db03d1d0-f89e-446e-b2f7-3a7e03e2f397",
   "metadata": {},
   "outputs": [],
   "source": [
    "test_map = Map(basemap=basemaps.CartoDB.DarkMatter, center=center, zoom=zoom, layout=widgets.Layout(width='100%', height='800px'))\n",
    "\n",
    "test_df = comp_prec_df.loc[(comp_prec_df.complaint_date== '2019-02') & (comp_prec_df.offense.isin(['GRAND LARCENY'])),['precinct','complaints']]\n",
    "test_dict = dict(zip(test_df['precinct'].tolist(), test_df['complaints'].tolist()))\n",
    "test_dict = dict((x, test_dict.get(x, 0) + all_precincts_dict.get(x, 0)) for x in set(test_dict)|set(all_precincts_dict))\n",
    "test_layer = Choropleth(\n",
    "        geo_data=precincts_json,\n",
    "        choro_data=test_dict,\n",
    "        key_on='id',\n",
    "        colormap=linear.YlOrRd_04,\n",
    "        value_min=0,\n",
    "        value_max=100,\n",
    "        border_color='black',\n",
    "        style={'fillOpacity': 0.8})\n",
    "\n",
    "\n",
    "test2_df = comp_prec_df.loc[(comp_prec_df.complaint_date== '2021-02') & (comp_prec_df.offense.isin(['GRAND LARCENY'])),['precinct','complaints']]\n",
    "test2_dict = dict(zip(test2_df['precinct'].tolist(), test2_df['complaints'].tolist()))\n",
    "test2_dict = dict((x, test2_dict.get(x, 0) + all_precincts_dict.get(x, 0)) for x in set(test2_dict)|set(all_precincts_dict))\n",
    "test2_layer = Choropleth(\n",
    "        geo_data=precincts_json,\n",
    "        choro_data=test2_dict,\n",
    "        key_on='id',\n",
    "        colormap=linear.YlOrRd_04,\n",
    "        value_min=0,\n",
    "        value_max=100,\n",
    "        border_color='black',\n",
    "        style={'fillOpacity': 0.8})\n",
    "\n",
    "test_map.add_layer(test_layer)"
   ]
  },
  {
   "cell_type": "markdown",
   "id": "46b980a0-f844-4b82-b3c7-76d6648e7cb6",
   "metadata": {},
   "source": [
    "# Cluster Map"
   ]
  },
  {
   "cell_type": "code",
   "execution_count": 37,
   "id": "78c73479-f3d5-49ca-83f6-9c2d0996f9a7",
   "metadata": {},
   "outputs": [],
   "source": [
    "cluster_map = Map(basemap=basemaps.CartoDB.DarkMatter, center=center, zoom=zoom, layout=widgets.Layout(width='100%', height='800px'))\n",
    "heatmap = Heatmap(locations=[], radius=20)\n",
    "\n",
    "# widget to select multiple offenses for the analysis\n",
    "offenses_widget = widgets.SelectMultiple(\n",
    "    options=offenses,\n",
    "    value=[offenses[0]],\n",
    "    description='Offenses',\n",
    "    disabled=False,\n",
    "    layout={'width': '500px'}\n",
    ")\n",
    "\n",
    "# widget to generate the clusters in heat map based on the offenses and dates selected\n",
    "button = widgets.Button(\n",
    "    description='Show Clusters',\n",
    "    disabled=False,\n",
    "    button_style='', # 'success', 'info', 'warning', 'danger' or ''\n",
    "    tooltip='Show clusters',\n",
    "    icon='network-wired' # (FontAwesome names without the `fa-` prefix)\n",
    ")\n",
    "\n",
    "# date select widget to select a range of dates for the analysis\n",
    "date_selection = widgets.SelectionRangeSlider(\n",
    "    options=date_range,\n",
    "    index=(0, len(date_range)-1),\n",
    "    description='Date Range',\n",
    "    disabled=False,\n",
    "    layout={'width': '700px'}\n",
    ")\n",
    "\n",
    "slider = widgets.IntSlider()\n",
    "\n",
    "\n",
    "\n",
    "offenses_control = WidgetControl(widget=offenses_widget, position='bottomleft', display=\"flex\", width=500)\n",
    "date_control = WidgetControl(widget=date_selection, position='bottomright', display=\"flex\", width=700, min_width=500, max_width=1000)\n",
    "button_control = WidgetControl(widget=button, position='topright')\n",
    "# slider_control = WidgetControl(widget=hbox, position='bottomright')  \n",
    "\n",
    "cluster_map.add_control(offenses_control)\n",
    "cluster_map.add_control(date_control)\n",
    "cluster_map.add_control(button_control)\n",
    "# m.add_control(slider_control)\n",
    "\n",
    "# button click event\n",
    "button.on_click(on_button_clicked)"
   ]
  },
  {
   "cell_type": "code",
   "execution_count": 55,
   "id": "1c896353-5799-4147-b020-f10c2b23db06",
   "metadata": {
    "tags": []
   },
   "outputs": [
    {
     "data": {
      "application/vnd.jupyter.widget-view+json": {
       "model_id": "4cb1b0369db448379ceaae1eec4122bd",
       "version_major": 2,
       "version_minor": 0
      },
      "text/plain": [
       "Map(bottom=197522.0, center=[40.7128, -74.006], controls=(ZoomControl(options=['position', 'zoom_in_text', 'zo…"
      ]
     },
     "metadata": {},
     "output_type": "display_data"
    }
   ],
   "source": [
    "cluster_map"
   ]
  },
  {
   "cell_type": "markdown",
   "id": "d8f2f526-fc76-464e-926a-c6b423c34b3a",
   "metadata": {},
   "source": [
    "# Choropleth Map of Complaints"
   ]
  },
  {
   "cell_type": "code",
   "execution_count": 39,
   "id": "2ecb69eb-3218-40a2-a8cc-059c28912c0e",
   "metadata": {},
   "outputs": [],
   "source": [
    "left_choro_map = Map(basemap=basemaps.CartoDB.DarkMatter, center=center, zoom=zoom, layout=widgets.Layout(width='100%', height='800px'))\n",
    "right_choro_map = Map(basemap=basemaps.CartoDB.DarkMatter, center=center, zoom=zoom, layout=widgets.Layout(width='100%', height='800px'))"
   ]
  },
  {
   "cell_type": "code",
   "execution_count": 40,
   "id": "09fe375e-9385-4fc2-9846-ee315c4a1785",
   "metadata": {},
   "outputs": [],
   "source": [
    "legend = LegendControl({\"Low\":\"#e0d987\", \"Medium\":\"#d9822b\", \"High\":\"#c23030\"}, name=\"Legend\", position=\"bottomright\")\n",
    "right_choro_map.add_control(legend)"
   ]
  },
  {
   "cell_type": "code",
   "execution_count": 41,
   "id": "1e6cda46-f79e-48a7-9cd4-e7aaaa6c19a4",
   "metadata": {},
   "outputs": [],
   "source": [
    "left_choro_map.add_control(offenses_control)"
   ]
  },
  {
   "cell_type": "code",
   "execution_count": 42,
   "id": "d3b7448e-698c-4bb2-b9c7-f85827491f20",
   "metadata": {},
   "outputs": [],
   "source": [
    "compare_button = widgets.Button(\n",
    "    description='Compare Dates',\n",
    "    disabled=False,\n",
    "    button_style='', # 'success', 'info', 'warning', 'danger' or ''\n",
    "    tooltip='Compare Complaint Dates',\n",
    "    icon='calendar-alt' # (FontAwesome names without the `fa-` prefix)\n",
    ")\n",
    "\n",
    "compare_button_control = WidgetControl(widget=compare_button, position='topright')\n",
    "compare_button.on_click(on_compare_button_clicked)"
   ]
  },
  {
   "cell_type": "code",
   "execution_count": 43,
   "id": "86c8e9f8-74f7-41ed-9a7b-4c9216f469a8",
   "metadata": {},
   "outputs": [],
   "source": [
    "right_choro_map.add_control(compare_button_control)"
   ]
  },
  {
   "cell_type": "code",
   "execution_count": 44,
   "id": "d54d3167-1948-4279-a83c-710006262522",
   "metadata": {},
   "outputs": [],
   "source": [
    "# date select widget to select a range of dates for the analysis\n",
    "date_selection_y_m_l = widgets.SelectionSlider(\n",
    "    options=date_range2,\n",
    "    index=len(date_range2) -2,\n",
    "    description='Date Range',\n",
    "    disabled=False,\n",
    "    layout={'width': '400px'}\n",
    ")\n",
    "\n",
    "date_selection_y_m_r = widgets.SelectionSlider(\n",
    "    options=date_range2,\n",
    "    index=len(date_range2)-1,\n",
    "    description='Date Range',\n",
    "    disabled=False,\n",
    "    layout={'width': '400px'}\n",
    ")\n",
    "\n",
    "date_y_m_left_control = WidgetControl(widget=date_selection_y_m_l, position='topleft', display=\"flex\", width=400, min_width=400)\n",
    "date_y_m_right_control = WidgetControl(widget=date_selection_y_m_r, position='topleft', display=\"flex\", width=400, min_width=400)\n",
    "\n",
    "left_choro_map.add_control(date_y_m_left_control)\n",
    "right_choro_map.add_control(date_y_m_right_control)"
   ]
  },
  {
   "cell_type": "code",
   "execution_count": 45,
   "id": "6a3f4eb1-9181-4493-90e6-be333b7c35ba",
   "metadata": {},
   "outputs": [
    {
     "data": {
      "application/vnd.jupyter.widget-view+json": {
       "model_id": "eccd6ca0bc674c5b8e9f2cb5a867d0bf",
       "version_major": 2,
       "version_minor": 0
      },
      "text/plain": [
       "HBox(children=(Map(center=[40.7128, -74.006], controls=(ZoomControl(options=['position', 'zoom_in_text', 'zoom…"
      ]
     },
     "metadata": {},
     "output_type": "display_data"
    }
   ],
   "source": [
    "widgets.HBox([left_choro_map, right_choro_map])"
   ]
  },
  {
   "cell_type": "markdown",
   "id": "c3489e9e-2da6-4850-bdf7-cbb6de315319",
   "metadata": {},
   "source": [
    "# Central Locations of Offenses"
   ]
  },
  {
   "cell_type": "code",
   "execution_count": 46,
   "id": "4780f197-4c90-4916-bba7-07780772a40b",
   "metadata": {},
   "outputs": [],
   "source": [
    "page_rank_map = Map(basemap=basemaps.CartoDB.DarkMatter, center=center, zoom=zoom, layout=widgets.Layout(width='100%', height='800px'))"
   ]
  },
  {
   "cell_type": "code",
   "execution_count": 47,
   "id": "bbedb951-81a5-44cd-8b82-2258a0a5f153",
   "metadata": {},
   "outputs": [],
   "source": [
    "page_rank_map.add_control(offenses_control)"
   ]
  },
  {
   "cell_type": "code",
   "execution_count": 48,
   "id": "f2614251-70e9-42eb-a397-37e094fa7dfd",
   "metadata": {},
   "outputs": [],
   "source": [
    "int_slider = widgets.IntSlider(\n",
    "    value=30,\n",
    "    min=0,\n",
    "    max=90,\n",
    "    step=1,\n",
    "    description='Days Back:',\n",
    "    disabled=False,\n",
    "    continuous_update=False,\n",
    "    orientation='horizontal',\n",
    "    readout=True,\n",
    "    readout_format='d',\n",
    ")"
   ]
  },
  {
   "cell_type": "code",
   "execution_count": 49,
   "id": "df9ea49c-1eb0-4854-99ec-16a592537eed",
   "metadata": {},
   "outputs": [],
   "source": [
    "int_slider_control = WidgetControl(widget=int_slider, position='topright', display=\"flex\", width=700)"
   ]
  },
  {
   "cell_type": "code",
   "execution_count": 50,
   "id": "0b8f5c66-4e7c-4def-af2d-b00728ebec33",
   "metadata": {},
   "outputs": [],
   "source": [
    "page_rank_map.add_control(int_slider_control)"
   ]
  },
  {
   "cell_type": "code",
   "execution_count": 51,
   "id": "9c95b1eb-0e7e-49d3-9d14-bdf2e43864a6",
   "metadata": {},
   "outputs": [],
   "source": [
    "page_rank_button = widgets.Button(\n",
    "    description='Get Locations',\n",
    "    disabled=False,\n",
    "    button_style='success', # 'success', 'info', 'warning', 'danger' or ''\n",
    "    tooltip='Get Central Locations',\n",
    "    icon='fa-location-arrow'\n",
    ")\n"
   ]
  },
  {
   "cell_type": "code",
   "execution_count": 52,
   "id": "7683f796-c96f-4904-9ef7-b27ccb9e2427",
   "metadata": {},
   "outputs": [],
   "source": [
    "page_rank_button_control = WidgetControl(widget=page_rank_button, position='topright')\n",
    "page_rank_button.on_click(on_page_rank_button_clicked)"
   ]
  },
  {
   "cell_type": "code",
   "execution_count": 53,
   "id": "a82b4494-b613-472f-9192-e635de0b1dcb",
   "metadata": {},
   "outputs": [],
   "source": [
    "page_rank_map.add_control(page_rank_button_control)"
   ]
  },
  {
   "cell_type": "code",
   "execution_count": 54,
   "id": "1c240fbe-50e5-4e82-82d7-a09166ed5660",
   "metadata": {},
   "outputs": [
    {
     "data": {
      "application/vnd.jupyter.widget-view+json": {
       "model_id": "084d09f93301463990b65beaf057e4ca",
       "version_major": 2,
       "version_minor": 0
      },
      "text/plain": [
       "Map(center=[40.7128, -74.006], controls=(ZoomControl(options=['position', 'zoom_in_text', 'zoom_in_title', 'zo…"
      ]
     },
     "metadata": {},
     "output_type": "display_data"
    }
   ],
   "source": [
    "page_rank_map"
   ]
  }
 ],
 "metadata": {
  "kernelspec": {
   "display_name": "Python 3",
   "language": "python",
   "name": "python3"
  },
  "language_info": {
   "codemirror_mode": {
    "name": "ipython",
    "version": 3
   },
   "file_extension": ".py",
   "mimetype": "text/x-python",
   "name": "python",
   "nbconvert_exporter": "python",
   "pygments_lexer": "ipython3",
   "version": "3.8.5"
  },
  "toc-autonumbering": true
 },
 "nbformat": 4,
 "nbformat_minor": 5
}
