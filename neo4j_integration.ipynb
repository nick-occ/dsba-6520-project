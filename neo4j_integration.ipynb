{
 "cells": [
  {
   "cell_type": "code",
   "execution_count": 1,
   "id": "d008ff72-5e8e-4b24-8451-c58a6cdbb89e",
   "metadata": {},
   "outputs": [],
   "source": [
    "from neo4j import GraphDatabase\n",
    "import pandas as pd\n",
    "import datetime\n",
    "from datetime import date, timedelta\n",
    "from random import uniform\n",
    "from ipyleaflet import Map, Heatmap, basemaps, WidgetControl\n",
    "import ipywidgets as widgets"
   ]
  },
  {
   "cell_type": "code",
   "execution_count": 2,
   "id": "b7d76f4d-ba08-4c16-9623-492a9e410ea1",
   "metadata": {},
   "outputs": [],
   "source": [
    "uri = \"bolt://localhost:7687\""
   ]
  },
  {
   "cell_type": "code",
   "execution_count": 3,
   "id": "79ccbfab-3231-4a13-92a3-0a26e59bd83e",
   "metadata": {},
   "outputs": [],
   "source": [
    "driver = GraphDatabase.driver(uri, auth=(\"neo4j\", \"SFi5gS09lHiMfu9VuJTg\"))"
   ]
  },
  {
   "cell_type": "code",
   "execution_count": 4,
   "id": "87f741de-8367-4425-9df9-8b956bb11608",
   "metadata": {},
   "outputs": [],
   "source": [
    "# output widget\n",
    "output = widgets.Output()"
   ]
  },
  {
   "cell_type": "code",
   "execution_count": 5,
   "id": "6c7c5c57-61d7-4ef7-940f-9a2e7f037bce",
   "metadata": {},
   "outputs": [],
   "source": [
    "def get_complaints(tx, from_date, to_date, offense):\n",
    "    complaints = []\n",
    "    \n",
    "    result = tx.run(\n",
    "        \"MATCH (o:Offense)<-[:COMMITTED_OFFENSE]-(c:Complaint)-[:LOCATED_AT]->(l:Location) \\\n",
    "        WHERE c.complaint_date >= $from_date and c.complaint_date <= $to_date and o.offense in $offense \\\n",
    "        RETURN l.louvain[-1] as community, count(c) as number_of_complaints \\\n",
    "        ORDER BY number_of_complaints desc\",\n",
    "        from_date=from_date,\n",
    "        to_date=to_date,\n",
    "        offense=offense,\n",
    "    )\n",
    "    \n",
    "    for record in result:\n",
    "        complaints.append({\n",
    "            \"community\": record[\"community\"],\n",
    "            \"complaints\": record[\"number_of_complaints\"]\n",
    "        })\n",
    "        \n",
    "    return complaints"
   ]
  },
  {
   "cell_type": "code",
   "execution_count": 6,
   "id": "036eeb8d-d7e8-43bb-b6a0-10161e9fd1e7",
   "metadata": {},
   "outputs": [],
   "source": [
    "def get_central_locations(tx, from_date, to_date, offense):\n",
    "    locations = []\n",
    "    \n",
    "    result = tx.run(\n",
    "        \"MATCH (o:Offense)<-[:COMMITTED_OFFENSE]-(c:Complaint)-[:LOCATED_AT]->(l:Location) \\\n",
    "        WHERE c.complaint_date >= $from_date and c.complaint_date <= $to_date and o.offense in $offense \\\n",
    "        with l.louvain[-1] as community, max(l.pagerank) as pagerank \\\n",
    "        match(l:Location) \\\n",
    "        where l.pagerank = pagerank and l.louvain[-1] = community \\\n",
    "        return  apoc.convert.toFloat(l.latitude) as latitude, apoc.convert.toFloat(l.longitude) as longitude, community\",\n",
    "        from_date=from_date,\n",
    "        to_date=to_date,\n",
    "        offense=offense,\n",
    "    )\n",
    "    \n",
    "    for record in result:\n",
    "        locations.append({\n",
    "            \"latitude\": record[\"latitude\"],\n",
    "            \"longitude\": record[\"longitude\"],\n",
    "            \"community\": record[\"community\"]\n",
    "        })\n",
    "        \n",
    "    return locations"
   ]
  },
  {
   "cell_type": "code",
   "execution_count": 7,
   "id": "c390a7a5-ec6e-4f39-9d63-ff6df377fbda",
   "metadata": {},
   "outputs": [],
   "source": [
    "def get_offenses(tx):\n",
    "    offenses = []\n",
    "    \n",
    "    result = tx.run(\n",
    "        \"MATCH (o:Offense) \\\n",
    "        return  o.offense as offense\")\n",
    "    for record in result:\n",
    "        offenses.append(record[\"offense\"])\n",
    "    return offenses"
   ]
  },
  {
   "cell_type": "code",
   "execution_count": 8,
   "id": "c770a49b-0669-4030-ab28-eb8fe9dcbaad",
   "metadata": {},
   "outputs": [],
   "source": [
    "def get_louvain(tx, query):\n",
    "    locs = []\n",
    "    results = tx.run(query)\n",
    "        \n",
    "    for result in results:\n",
    "        locs.append({\n",
    "            \"location_id\": result['location_id'],\n",
    "            \"latitude\": result['latitude'],\n",
    "            \"longitude\": result['longitude'],\n",
    "            \"community\": result['community']\n",
    "        })\n",
    "    return locs"
   ]
  },
  {
   "cell_type": "code",
   "execution_count": 9,
   "id": "cead9db9-d1a3-4005-bd9f-fa6c14cafd0c",
   "metadata": {},
   "outputs": [],
   "source": [
    "def get_complaints_by_loc(tx, query):\n",
    "    locs = []\n",
    "    results = tx.run(query)\n",
    "        \n",
    "    for result in results:\n",
    "        locs.append({\n",
    "            \"location_id\": result['location_id'],\n",
    "            \"number_of_complaints\": result['number_of_complaints']\n",
    "        })\n",
    "    return locs"
   ]
  },
  {
   "cell_type": "code",
   "execution_count": 10,
   "id": "dad28996-2c8e-4c19-8c41-1581f9bd4203",
   "metadata": {},
   "outputs": [],
   "source": [
    "# map properties\n",
    "\n",
    "center = [40.7128, -74.0060]\n",
    "zoom = 9.5\n",
    "m = Map(basemap=basemaps.CartoDB.Positron, center=center, zoom=zoom)\n",
    "heatmap = Heatmap(locations=[], radius=20)"
   ]
  },
  {
   "cell_type": "code",
   "execution_count": 11,
   "id": "592fb6d4-cfd2-4a26-a75c-d28554e6c0f2",
   "metadata": {
    "tags": []
   },
   "outputs": [],
   "source": [
    "# def calculate_clusters(dates, offenses):\n",
    "#     with driver.session() as session:\n",
    "#         complaints = session.read_transaction(get_complaints, str(dates[0]), str(dates[1]), offenses)\n",
    "#         complaints_df = pd.DataFrame(complaints)\n",
    "        \n",
    "#         locations = session.read_transaction(get_central_locations, dates[0], dates[1], offenses)\n",
    "#         loc_df = pd.DataFrame(locations)\n",
    "        \n",
    "#         df = complaints_df.merge(loc_df, how='outer', on='community')\n",
    "        \n",
    "#         try:\n",
    "#             m.remove_layer()\n",
    "#         except:\n",
    "#             pass\n",
    "        \n",
    "#         lat_lon = list(df.apply(lambda x: (x['latitude'], x['longitude'],x['complaints']), axis=1))\n",
    "                \n",
    "#         m.add_layer(Heatmap(locations=lat_lon, radius=20))\n",
    "    \n",
    "    "
   ]
  },
  {
   "cell_type": "code",
   "execution_count": 12,
   "id": "b2ec6101-0fe2-49a3-a51d-57afd028b945",
   "metadata": {},
   "outputs": [],
   "source": [
    "def calculate_clusters2(dates, offenses):\n",
    "    \n",
    "    from_date = f\"'{dates[0]}'\"\n",
    "    to_date = f\"'{dates[1]}'\"\n",
    "    \n",
    "    louvain_query = 'CALL gds.louvain.stream({  \\n\\\n",
    "    nodeQuery: \"MATCH (l:Location)<-[:LOCATED_AT]-(c:Complaint)-[:COMMITTED_OFFENSE]->(o:Offense) ' \\\n",
    "    'where o.offense in '+ str(offenses) + ' and c.complaint_date >= ' + from_date + ' and c.complaint_date <= ' + to_date + '  return distinct id(l) as id\",\\n\\\n",
    "    relationshipQuery: \"MATCH (c:Complaint)-[:LOCATED_AT]->(l1:Location)-[:LOCATED_NEARBY]->(l2:Location) return id(l1) as source, id(l2) as target\",\\n\\\n",
    "    validateRelationships: false,\\n\\\n",
    "    maxIterations: 50})\\n\\\n",
    "    yield nodeId, communityId\\n\\\n",
    "    RETURN gds.util.asNode(nodeId).location_id AS location_id, gds.util.asNode(nodeId).latitude AS latitude, gds.util.asNode(nodeId).longitude AS longitude, communityId as community'\n",
    "    \n",
    "    number_of_complaints_query = 'MATCH (l:Location)<-[:LOCATED_AT]-(c:Complaint)-[:COMMITTED_OFFENSE]->(o:Offense) where o.offense in '+ str(offenses) + ' and c.complaint_date >= ' + from_date + ' and c.complaint_date <= ' + to_date + ' return distinct l.location_id as location_id, count(c) as number_of_complaints'\n",
    "    \n",
    "    \n",
    "    with driver.session() as session:\n",
    "        louvain = session.read_transaction(get_louvain, louvain_query)\n",
    "        louvain_df = pd.DataFrame(louvain)\n",
    "        \n",
    "        louvain_df['latitude'] = louvain_df.latitude.astype(float)\n",
    "        louvain_df['longitude'] = louvain_df.longitude.astype(float)\n",
    "        \n",
    "        complaints = session.read_transaction(get_complaints_by_loc, number_of_complaints_query)\n",
    "        complaints_df = pd.DataFrame(complaints)\n",
    "        \n",
    "        df_merge = louvain_df.merge(complaints_df, on=['location_id'])\n",
    "        \n",
    "        clusters = df_merge.groupby('community').agg({'latitude': lambda x: x.mean(), 'longitude': lambda x: x.mean(),'number_of_complaints': lambda x: x.sum()})\n",
    "        \n",
    "        try:\n",
    "            m.remove_layer()\n",
    "        except:\n",
    "            pass\n",
    "        \n",
    "        lat_lon = list(clusters.apply(lambda x: (x['latitude'], x['longitude'],x['number_of_complaints']), axis=1))\n",
    "                \n",
    "        m.add_layer(Heatmap(locations=lat_lon, radius=20))"
   ]
  },
  {
   "cell_type": "code",
   "execution_count": 13,
   "id": "e5d2a04e-bbc8-4d17-997f-95389c1bc377",
   "metadata": {},
   "outputs": [],
   "source": [
    "with driver.session() as session:\n",
    "    offenses = session.read_transaction(get_offenses)"
   ]
  },
  {
   "cell_type": "code",
   "execution_count": 14,
   "id": "da66ed2d-cee1-42e8-ae56-8640c4dd3ce1",
   "metadata": {
    "tags": []
   },
   "outputs": [],
   "source": [
    "offenses = sorted(offenses)"
   ]
  },
  {
   "cell_type": "code",
   "execution_count": 15,
   "id": "983d95a9-6d96-4724-baa4-df9f9d88caac",
   "metadata": {},
   "outputs": [],
   "source": [
    "# date properties\n",
    "sdate = date(2019,1,1)   # start date\n",
    "edate = date(2021,3,31)   # end date\n",
    "\n",
    "date_range = pd.date_range(sdate,edate-timedelta(days=1),freq='d')\n",
    "date_range = [d.strftime('%Y-%m-%d') for d in date_range]"
   ]
  },
  {
   "cell_type": "code",
   "execution_count": 16,
   "id": "6c9e73f0-e8fe-422f-bafe-d6bbd7f065d5",
   "metadata": {},
   "outputs": [],
   "source": [
    "# function called by click event\n",
    "def on_button_clicked(b):\n",
    "    with output:\n",
    "        print(list(offenses_widget.value))\n",
    "        print(date_selection.value)\n",
    "    \n",
    "        m.clear_layers()\n",
    "        m.add_layer(basemaps.CartoDB.Positron)\n",
    "    \n",
    "    calculate_clusters2(date_selection.value, list(offenses_widget.value))"
   ]
  },
  {
   "cell_type": "code",
   "execution_count": 17,
   "id": "78c73479-f3d5-49ca-83f6-9c2d0996f9a7",
   "metadata": {},
   "outputs": [],
   "source": [
    "# analysis widget components\n",
    "\n",
    "# widget to select multiple offenses for the analysis\n",
    "offenses_widget = widgets.SelectMultiple(\n",
    "    options=offenses,\n",
    "    value=[offenses[0]],\n",
    "    description='Offenses',\n",
    "    disabled=False,\n",
    "    layout={'width': '500px'}\n",
    ")\n",
    "\n",
    "# widget to generate the clusters in heat map based on the offenses and dates selected\n",
    "button = widgets.Button(\n",
    "    description='Show Clusters',\n",
    "    disabled=False,\n",
    "    button_style='', # 'success', 'info', 'warning', 'danger' or ''\n",
    "    tooltip='Show clusters',\n",
    "    icon='network-wired' # (FontAwesome names without the `fa-` prefix)\n",
    ")\n",
    "\n",
    "# date select widget to select a range of dates for the analysis\n",
    "date_selection = widgets.SelectionRangeSlider(\n",
    "    options=date_range,\n",
    "    index=(0, len(date_range)-1),\n",
    "    description='Date Range',\n",
    "    disabled=False,\n",
    "    layout={'width': '700px'}\n",
    ")\n",
    "\n",
    "play = widgets.Play(\n",
    "    value=0,\n",
    "    min=0,\n",
    "    max=100,\n",
    "    interval=500,\n",
    "    step=1,\n",
    "    description=\"Press play\",\n",
    "    disabled=False\n",
    ")\n",
    "slider = widgets.IntSlider()\n",
    "widgets.jslink((play, 'value'), (slider, 'value'))\n",
    "hbox = widgets.HBox([play,date_selection])\n",
    "\n",
    "offenses_control = WidgetControl(widget=offenses_widget, position='bottomleft', display=\"flex\", width=500)\n",
    "date_control = WidgetControl(widget=date_selection, position='bottomright', display=\"flex\", width=700, min_width=500, max_width=1000)\n",
    "button_control = WidgetControl(widget=button, position='topright')\n",
    "slider_control = WidgetControl(widget=hbox, position='bottomright')        \n",
    "m.add_control(offenses_control)\n",
    "# m.add_control(date_control)\n",
    "m.add_control(button_control)\n",
    "m.add_control(slider_control)\n",
    "\n",
    "# button click event\n",
    "button.on_click(on_button_clicked)"
   ]
  },
  {
   "cell_type": "code",
   "execution_count": 18,
   "id": "1c896353-5799-4147-b020-f10c2b23db06",
   "metadata": {},
   "outputs": [
    {
     "data": {
      "application/vnd.jupyter.widget-view+json": {
       "model_id": "f27b887b52eb4c54b83500e56ef0ed70",
       "version_major": 2,
       "version_minor": 0
      },
      "text/plain": [
       "Map(center=[40.7128, -74.006], controls=(ZoomControl(options=['position', 'zoom_in_text', 'zoom_in_title', 'zo…"
      ]
     },
     "metadata": {},
     "output_type": "display_data"
    }
   ],
   "source": [
    "m"
   ]
  },
  {
   "cell_type": "code",
   "execution_count": 23,
   "id": "9eb198ac-2a11-4c24-b5df-1a8f4261f222",
   "metadata": {},
   "outputs": [],
   "source": [
    "def callback(change):\n",
    "    print(change)\n",
    "    # you can also get the value with play._playing\n",
    "    if change['new']:\n",
    "        dates = [d.strftime('%Y-%m-%d') for d in pd.date_range(date.fromisoformat(date_selection.value[0]),date.fromisoformat(date_selection.value[1]),freq='d')]\n",
    "        play.max = len(dates)-1\n",
    "        m.clear_layers()\n",
    "        m.add_layer(basemaps.CartoDB.Positron)\n",
    "        calculate_clusters2((dates[play.value],dates[play.value]), list(offenses_widget.value))\n",
    "        \n",
    "play.observe(callback, names=['_playing'])"
   ]
  },
  {
   "cell_type": "code",
   "execution_count": null,
   "id": "e9bcda91-c7ff-4bb7-b3c3-d00654f2e651",
   "metadata": {},
   "outputs": [],
   "source": []
  }
 ],
 "metadata": {
  "kernelspec": {
   "display_name": "Python 3",
   "language": "python",
   "name": "python3"
  },
  "language_info": {
   "codemirror_mode": {
    "name": "ipython",
    "version": 3
   },
   "file_extension": ".py",
   "mimetype": "text/x-python",
   "name": "python",
   "nbconvert_exporter": "python",
   "pygments_lexer": "ipython3",
   "version": "3.8.5"
  },
  "toc-autonumbering": true
 },
 "nbformat": 4,
 "nbformat_minor": 5
}
