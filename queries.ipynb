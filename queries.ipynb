{
 "cells": [
  {
   "cell_type": "raw",
   "id": "4778127c-6035-4a1c-8626-ad6f47051e6b",
   "metadata": {},
   "source": [
    "MATCH(p:PrecinctName)-[:REPORTED]->(c:Complaint)\n",
    "where c.complaint_date >= \"2021-01-01\"\n",
    "return p.precinct as precinct, p.patrol_boro as patrol_boro, count(c) as number_of_complaints, apoc.convert.toFloat(p.area) as area, count(c)/apoc.convert.toFloat(p.area) * 100000 as \n",
    "complaints_per_100k_sqft\n",
    "order by complaints_per_100k_sqft desc"
   ]
  },
  {
   "cell_type": "code",
   "execution_count": null,
   "id": "dc0c9271-3a3f-43bf-b828-239fdec2816d",
   "metadata": {},
   "outputs": [],
   "source": [
    "MATCH(p:PrecinctName)-[:REPORTED]->(c:Complaint)-[:COMMITTED_OFFENSE]-(o:Offense)\n",
    "where c.complaint_date >= \"2021-01-01\"\n",
    "with p.precinct as precinct, p.area as area, o.offense as offense, count(c) as complaints\n",
    "order by precinct, complaints desc\n",
    "with precinct, area, offense, complaints, complaints/apoc.convert.toFloat(area) * 100000 as complaints_per_100k_sqft\n",
    "order by complaints desc\n",
    "with precinct, collect({offense:offense, complaint:complaints,complaints_per_100k_sqft:complaints_per_100k_sqft, area: area})[..5] as top_5_offenses unwind top_5_offenses as o\n",
    "return precinct, o.offense as offense, o.complaint as number_of_complaints, o.area as area, o.complaints_per_100k_sqft as complaints_per_100k_sqft\n",
    "order by precinct, complaints_per_100k_sqft desc"
   ]
  },
  {
   "cell_type": "code",
   "execution_count": null,
   "id": "20088dcb-17b8-4416-a976-cda884c574ec",
   "metadata": {},
   "outputs": [],
   "source": [
    "match (p:PrecinctName)-[:REPORTED]->(c:Complaint)\n",
    "with p.precinct as precinct, p.patrol_boro as patrol_boro, date(c.complaint_date).year as year, count(c) as complaints\n",
    "order by year\n",
    "where year in [2019,2020]\n",
    "with precinct, patrol_boro, collect(year) as years, collect(complaints) as complaints_per_year\n",
    "return  precinct, patrol_boro, years, complaints_per_year, complaints_per_year[1] - complaints_per_year[0] as difference_19_20\n",
    "order by difference_19_20 desc"
   ]
  },
  {
   "cell_type": "code",
   "execution_count": null,
   "id": "1167415a-9acd-4e87-b26f-14e2e0a47c2c",
   "metadata": {},
   "outputs": [],
   "source": [
    "match(p:PrecinctName)-[:REPORTED]->(c:Complaint)-[:LOCATED_AT]->(l:Location)\n",
    "with p.precinct as precinct, count(c) as complaints, l.location as location\n",
    "order by precinct, complaints desc\n",
    "with precinct, collect({location:location,complaint:complaints})[..5] as top_5_locations unwind top_5_locations as l\n",
    "return precinct,  l.location as location, l.complaint as number_of_complaints\n",
    "order by precinct, number_of_complaints desc"
   ]
  }
 ],
 "metadata": {
  "kernelspec": {
   "display_name": "Python 3",
   "language": "python",
   "name": "python3"
  },
  "language_info": {
   "codemirror_mode": {
    "name": "ipython",
    "version": 3
   },
   "file_extension": ".py",
   "mimetype": "text/x-python",
   "name": "python",
   "nbconvert_exporter": "python",
   "pygments_lexer": "ipython3",
   "version": "3.8.5"
  }
 },
 "nbformat": 4,
 "nbformat_minor": 5
}
