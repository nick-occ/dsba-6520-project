{
 "cells": [
  {
   "cell_type": "code",
   "execution_count": null,
   "id": "c0768f0c-4b64-483d-96b7-f1ef23ab1b70",
   "metadata": {},
   "outputs": [],
   "source": [
    "// Constraints\n",
    "CREATE CONSTRAINT unique_complaint ON (n:Complaint) ASSERT n.complaint_id IS UNIQUE\n",
    "\n",
    "CREATE CONSTRAINT unique_precinct ON (n:PrecinctName) ASSERT n.precinct IS UNIQUE\n",
    "\n",
    "CREATE CONSTRAINT unique_location ON (n:Location) ASSERT n.location_id IS UNIQUE\n",
    "\n",
    "CREATE CONSTRAINT unique_general_offense ON (n:GeneralOffense) ASSERT n.offense IS UNIQUE\n",
    "\n",
    "CREATE CONSTRAINT unique_specific_offense ON (n:SpecificOffense) ASSERT n.specific_offense IS UNIQUE"
   ]
  },
  {
   "cell_type": "code",
   "execution_count": null,
   "id": "b872a490-0cb1-4641-a73a-abd1193158dd",
   "metadata": {},
   "outputs": [],
   "source": [
    "// Load Complaint nodes\n",
    "LOAD CSV WITH HEADERS FROM \"file:///complaints.csv\" as row\n",
    "CREATE (c:Complaint {\n",
    "    complaint_id: row.complaint_id,\n",
    "    location_of_complaint: row.location_of_complaint,\n",
    "    premises_type: row.premises_type,\n",
    "    complaint_date: row.complaint_date\n",
    "})"
   ]
  },
  {
   "cell_type": "code",
   "execution_count": null,
   "id": "1cb177b2-68c1-4734-aadb-b221ecb29099",
   "metadata": {},
   "outputs": [],
   "source": [
    "// Load PrecinctName nodes and create REPORTED relationship with Complaint\n",
    "LOAD CSV WITH HEADERS FROM \"file:///precincts.csv\" as row\n",
    "MERGE (p:PrecinctName {\n",
    "    precinct: row.precinct,\n",
    "    patrol_boro: row.patrol_boro,\n",
    "    area: row.area})\n",
    "WITH row, p\n",
    "MATCH(c:Complaint {complaint_id: row.complaint_id})\n",
    "MERGE (p)-[:REPORTED]->(c)"
   ]
  },
  {
   "cell_type": "code",
   "execution_count": null,
   "id": "3f6ac1f2-8168-4a0f-9681-c9b31e279253",
   "metadata": {},
   "outputs": [],
   "source": [
    "// Load Location node and create LOCATED_AT relationship with Complaint\n",
    "LOAD CSV WITH HEADERS FROM \"file:///locations.csv\" as row\n",
    "MERGE (l:Location {\n",
    "location: point({\n",
    "latitude:toFloat(row.latitude), \n",
    "longitude:toFloat(row.longitude)}),\n",
    "latitude: row.latitude,\n",
    "longitude: row.longitude,\n",
    "location_id: row.location_id,\n",
    "boro_name: row.boro_name\n",
    "})\n",
    "WITH row, l\n",
    "MATCH(c:Complaint {complaint_id: row.complaint_id})\n",
    "MERGE (c)-[:LOCATED_AT]->(l)"
   ]
  },
  {
   "cell_type": "code",
   "execution_count": null,
   "id": "de33a14f-3d7f-4a66-9b20-dd6a19b516d4",
   "metadata": {},
   "outputs": [],
   "source": [
    "LOAD CSV WITH HEADERS FROM \"file:///locations_near.csv\" AS row\n",
    "//look up the two nodes we want to connect up\n",
    "MATCH (l1:Location {location_id:row.in_location_id}),(l2:Location {location_id:row.near_location_id})\n",
    "//now create a relationship between them\n",
    "CREATE (l1)-[:LOCATED_NEARBY {\n",
    "near_distance: row.near_dist,\n",
    "near_rank: row.near_rank\n",
    "}]->(l2);"
   ]
  },
  {
   "cell_type": "code",
   "execution_count": null,
   "id": "7b05ea00-3028-4e8d-ad33-4173154fa43f",
   "metadata": {},
   "outputs": [],
   "source": [
    "// Load Offense:GeneralOffense node and create COMMITTED_OFFENSE relationship with Complaint\n",
    "LOAD CSV WITH HEADERS FROM \"file:///general_offenses.csv\" as row\n",
    "MERGE (o:Offense:GeneralOffense {\n",
    "    offense: row.offense,\n",
    "    offense_id: row.offense_id\n",
    "\n",
    "})\n",
    "WITH row, o\n",
    "MATCH(c:Complaint {complaint_id: row.complaint_id})\n",
    "MERGE (c)-[:COMMITTED_OFFENSE]->(o)"
   ]
  },
  {
   "cell_type": "code",
   "execution_count": null,
   "id": "b41e6671-86d4-4515-96df-a2fd5a560102",
   "metadata": {},
   "outputs": [],
   "source": [
    "LOAD CSV WITH HEADERS FROM \"file:///specific_offenses.csv\" as row\n",
    "MERGE (s:Offense:SpecificOffense {\n",
    "    offense: row.specific_offense,\n",
    "    offense_id: row.specific_offense_id\n",
    "\n",
    "})\n",
    "WITH row, s\n",
    "MATCH(o:Offense:GeneralOffense {offense_id: row.offense_id})\n",
    "MERGE (o)-[:CLASSIFIED_AS]->(s)"
   ]
  }
 ],
 "metadata": {
  "kernelspec": {
   "display_name": "Python 3",
   "language": "python",
   "name": "python3"
  },
  "language_info": {
   "codemirror_mode": {
    "name": "ipython",
    "version": 3
   },
   "file_extension": ".py",
   "mimetype": "text/x-python",
   "name": "python",
   "nbconvert_exporter": "python",
   "pygments_lexer": "ipython3",
   "version": "3.8.5"
  }
 },
 "nbformat": 4,
 "nbformat_minor": 5
}
