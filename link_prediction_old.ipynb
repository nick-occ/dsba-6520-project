{
 "cells": [
  {
   "cell_type": "code",
   "execution_count": 1,
   "id": "9f306588-4c98-4f9a-99ac-aa6bbb564e6e",
   "metadata": {},
   "outputs": [],
   "source": [
    "import pandas as pd\n",
    "from py2neo import Graph\n",
    "\n",
    "import matplotlib\n",
    "# matplotlib.use('TkAgg')\n",
    "import matplotlib.pyplot as plt\n",
    "import datetime\n",
    "\n",
    "import pyspark as spark\n",
    "\n",
    "from pyspark.ml import Pipeline\n",
    "from pyspark.ml.classification import RandomForestClassifier\n",
    "from pyspark.ml.feature import StringIndexer, VectorAssembler\n",
    "from pyspark.ml.evaluation import BinaryClassificationEvaluator\n",
    "from pyspark.sql.types import *\n",
    "from pyspark.sql import functions as F\n",
    "\n",
    "from sklearn.utils import resample"
   ]
  },
  {
   "cell_type": "code",
   "execution_count": 2,
   "id": "1cb12381-5d7a-4118-bfe7-31dd8b5f488d",
   "metadata": {},
   "outputs": [],
   "source": [
    "graph = Graph(\"bolt://localhost:7687\", auth=(\"neo4j\", \"SFi5gS09lHiMfu9VuJTg\"))"
   ]
  },
  {
   "cell_type": "code",
   "execution_count": 3,
   "id": "1be00173-3603-47ab-b870-f708da84b5c2",
   "metadata": {},
   "outputs": [],
   "source": [
    "date_query = \"match (Offense)-[m:MULTIPLE_COMPLAINTS]-(Location) \\\n",
    "return apoc.temporal.format(date(m.first_complaint),'yyyy-MM') as date, count(*) as count\""
   ]
  },
  {
   "cell_type": "code",
   "execution_count": 4,
   "id": "ebb9aecd-75c1-423e-b74f-46445977a555",
   "metadata": {},
   "outputs": [],
   "source": [
    "by_date = graph.run(date_query).to_data_frame()"
   ]
  },
  {
   "cell_type": "code",
   "execution_count": 125,
   "id": "cfc6618b-1ff5-488f-ae78-2ee21ba9fb9a",
   "metadata": {},
   "outputs": [],
   "source": [
    "by_date = by_date.sort_values('date')"
   ]
  },
  {
   "cell_type": "code",
   "execution_count": 6,
   "id": "f238a0bb-8d59-42e7-8808-b478c9f9c5d8",
   "metadata": {},
   "outputs": [
    {
     "name": "stdout",
     "output_type": "stream",
     "text": [
      "<class 'pandas.core.frame.DataFrame'>\n",
      "Int64Index: 27 entries, 0 to 26\n",
      "Data columns (total 2 columns):\n",
      " #   Column  Non-Null Count  Dtype \n",
      "---  ------  --------------  ----- \n",
      " 0   date    27 non-null     object\n",
      " 1   count   27 non-null     int64 \n",
      "dtypes: int64(1), object(1)\n",
      "memory usage: 648.0+ bytes\n"
     ]
    }
   ],
   "source": [
    "by_date.info()"
   ]
  },
  {
   "cell_type": "code",
   "execution_count": 7,
   "id": "7c390acc-7ae3-41c1-87b3-a5fc264f9c49",
   "metadata": {},
   "outputs": [
    {
     "data": {
      "image/png": "[encoded data removed]",
      "text/plain": [
       "<Figure size 1080x576 with 1 Axes>"
      ]
     },
     "metadata": {},
     "output_type": "display_data"
    }
   ],
   "source": [
    "plt.style.use('fivethirtyeight')\n",
    "ax = by_date.plot(kind='bar', x='date', y='count', legend=None, figsize=(15,8))\n",
    "ax.xaxis.set_label_text(\"\")\n",
    "plt.tight_layout()\n",
    "plt.show()"
   ]
  },
  {
   "cell_type": "code",
   "execution_count": 8,
   "id": "02c8f259-2f43-4840-966b-cceca44fff93",
   "metadata": {},
   "outputs": [],
   "source": [
    "early_complaints = 'MATCH (o:Offense)-[m:MULTIPLE_COMPLAINTS]->(l:Location) \\\n",
    "WHERE apoc.convert.toString(m.first_complaint) < \"2019-12-01\" \\\n",
    "MERGE (o)-[me:EARLY_COMPLAINTS {first_complaint: m.first_complaint}]->(l) \\\n",
    "SET me.previous_complaints = m.previous_complaints'"
   ]
  },
  {
   "cell_type": "code",
   "execution_count": 11,
   "id": "7734b32d-c303-4d1d-95ed-7a1c92e1d858",
   "metadata": {},
   "outputs": [],
   "source": [
    "later_complaints = 'MATCH (o:Offense)-[m:MULTIPLE_COMPLAINTS]->(l:Location) \\\n",
    "WHERE apoc.convert.toString(m.first_complaint) >= \"2019-12-01\" \\\n",
    "MERGE (o)-[me:LATER_COMPLAINTS {first_complaint: m.first_complaint}]->(l) \\\n",
    "SET me.previous_complaints = m.previous_complaints'"
   ]
  },
  {
   "cell_type": "code",
   "execution_count": 12,
   "id": "906fb064-071f-4aa0-ace6-750b98cc9518",
   "metadata": {},
   "outputs": [],
   "source": [
    "mult_complaints_query = \"match (o:Offense)<-[ :COMMITTED_OFFENSE]-(c:Complaint)-[:LOCATED_AT]->(l:Location) \\\n",
    "with c, l, o \\\n",
    "order by l.location_id, c.complaint_date \\\n",
    "with l,o, collect(date(c.complaint_date))[0] as date, count(*) as prev_complaints \\\n",
    "MERGE (o)-[pc:MULTIPLE_COMPLAINTS {first_complaint: date}]->(l) \\\n",
    "set pc.previous_complaints = prev_complaints\""
   ]
  },
  {
   "cell_type": "code",
   "execution_count": 13,
   "id": "21619a8e-eb87-43ac-bd12-4dd9b19e118b",
   "metadata": {},
   "outputs": [],
   "source": [
    "delete_single_complaints = \"MATCH ()-[r:MULTIPLE_COMPLAINTS]->() where r.previous_complaints <= 1 delete r\""
   ]
  },
  {
   "cell_type": "markdown",
   "id": "a6042380-83e4-4f9f-a316-a7c0ee79a37d",
   "metadata": {},
   "source": [
    "# Training Data"
   ]
  },
  {
   "cell_type": "code",
   "execution_count": 14,
   "id": "2a4e2f40-a333-4850-9a98-c67e6c266539",
   "metadata": {},
   "outputs": [],
   "source": [
    "train_existing_links_query = \"MATCH (offense)-[:EARLY_COMPLAINTS]->(loc) RETURN id(offense) AS node1, id(loc) AS node2, 1 AS label\""
   ]
  },
  {
   "cell_type": "code",
   "execution_count": 15,
   "id": "c0081094-1d3a-46b9-9471-40c8dcaa6dd6",
   "metadata": {},
   "outputs": [
    {
     "data": {
      "text/html": [
       "<div>\n",
       "<style scoped>\n",
       "    .dataframe tbody tr th:only-of-type {\n",
       "        vertical-align: middle;\n",
       "    }\n",
       "\n",
       "    .dataframe tbody tr th {\n",
       "        vertical-align: top;\n",
       "    }\n",
       "\n",
       "    .dataframe thead th {\n",
       "        text-align: right;\n",
       "    }\n",
       "</style>\n",
       "<table border=\"1\" class=\"dataframe\">\n",
       "  <thead>\n",
       "    <tr style=\"text-align: right;\">\n",
       "      <th></th>\n",
       "      <th>node1</th>\n",
       "      <th>node2</th>\n",
       "      <th>label</th>\n",
       "    </tr>\n",
       "  </thead>\n",
       "  <tbody>\n",
       "    <tr>\n",
       "      <th>0</th>\n",
       "      <td>270298</td>\n",
       "      <td>653007</td>\n",
       "      <td>1</td>\n",
       "    </tr>\n",
       "    <tr>\n",
       "      <th>1</th>\n",
       "      <td>270298</td>\n",
       "      <td>660983</td>\n",
       "      <td>1</td>\n",
       "    </tr>\n",
       "    <tr>\n",
       "      <th>2</th>\n",
       "      <td>270298</td>\n",
       "      <td>664265</td>\n",
       "      <td>1</td>\n",
       "    </tr>\n",
       "    <tr>\n",
       "      <th>3</th>\n",
       "      <td>270298</td>\n",
       "      <td>655983</td>\n",
       "      <td>1</td>\n",
       "    </tr>\n",
       "    <tr>\n",
       "      <th>4</th>\n",
       "      <td>270298</td>\n",
       "      <td>650496</td>\n",
       "      <td>1</td>\n",
       "    </tr>\n",
       "    <tr>\n",
       "      <th>...</th>\n",
       "      <td>...</td>\n",
       "      <td>...</td>\n",
       "      <td>...</td>\n",
       "    </tr>\n",
       "    <tr>\n",
       "      <th>33973</th>\n",
       "      <td>270322</td>\n",
       "      <td>655709</td>\n",
       "      <td>1</td>\n",
       "    </tr>\n",
       "    <tr>\n",
       "      <th>33974</th>\n",
       "      <td>270322</td>\n",
       "      <td>645687</td>\n",
       "      <td>1</td>\n",
       "    </tr>\n",
       "    <tr>\n",
       "      <th>33975</th>\n",
       "      <td>270322</td>\n",
       "      <td>640106</td>\n",
       "      <td>1</td>\n",
       "    </tr>\n",
       "    <tr>\n",
       "      <th>33976</th>\n",
       "      <td>270324</td>\n",
       "      <td>641422</td>\n",
       "      <td>1</td>\n",
       "    </tr>\n",
       "    <tr>\n",
       "      <th>33977</th>\n",
       "      <td>270325</td>\n",
       "      <td>656722</td>\n",
       "      <td>1</td>\n",
       "    </tr>\n",
       "  </tbody>\n",
       "</table>\n",
       "<p>33978 rows × 3 columns</p>\n",
       "</div>"
      ],
      "text/plain": [
       "        node1   node2  label\n",
       "0      270298  653007      1\n",
       "1      270298  660983      1\n",
       "2      270298  664265      1\n",
       "3      270298  655983      1\n",
       "4      270298  650496      1\n",
       "...       ...     ...    ...\n",
       "33973  270322  655709      1\n",
       "33974  270322  645687      1\n",
       "33975  270322  640106      1\n",
       "33976  270324  641422      1\n",
       "33977  270325  656722      1\n",
       "\n",
       "[33978 rows x 3 columns]"
      ]
     },
     "execution_count": 15,
     "metadata": {},
     "output_type": "execute_result"
    }
   ],
   "source": [
    "train_existing = graph.run(train_existing_links_query).to_data_frame()\n",
    "train_existing"
   ]
  },
  {
   "cell_type": "code",
   "execution_count": 16,
   "id": "422d7033-3d69-4876-93e8-a045c1e8daaf",
   "metadata": {},
   "outputs": [],
   "source": [
    "train_missing_links_query = \"MATCH (o:Offense) WHERE (o)-[:EARLY_COMPLAINTS]-() MATCH (o)-[:EARLY_COMPLAINTS*2]-(l) WHERE not((o)-[:EARLY_COMPLAINTS]-(l)) RETURN id(o) AS node1, id(l) AS node2, 0 AS label\""
   ]
  },
  {
   "cell_type": "code",
   "execution_count": 17,
   "id": "8f408c02-38d4-4835-adfd-e9901bda4a3f",
   "metadata": {},
   "outputs": [],
   "source": [
    "train_missing = graph.run(train_missing_links_query).to_data_frame()"
   ]
  },
  {
   "cell_type": "code",
   "execution_count": 18,
   "id": "2dc97683-5732-43cc-8dbe-622ff7b056bf",
   "metadata": {},
   "outputs": [
    {
     "data": {
      "text/html": [
       "<div>\n",
       "<style scoped>\n",
       "    .dataframe tbody tr th:only-of-type {\n",
       "        vertical-align: middle;\n",
       "    }\n",
       "\n",
       "    .dataframe tbody tr th {\n",
       "        vertical-align: top;\n",
       "    }\n",
       "\n",
       "    .dataframe thead th {\n",
       "        text-align: right;\n",
       "    }\n",
       "</style>\n",
       "<table border=\"1\" class=\"dataframe\">\n",
       "  <thead>\n",
       "    <tr style=\"text-align: right;\">\n",
       "      <th></th>\n",
       "      <th>node1</th>\n",
       "      <th>node2</th>\n",
       "      <th>label</th>\n",
       "    </tr>\n",
       "  </thead>\n",
       "  <tbody>\n",
       "    <tr>\n",
       "      <th>0</th>\n",
       "      <td>270298</td>\n",
       "      <td>270305</td>\n",
       "      <td>0</td>\n",
       "    </tr>\n",
       "    <tr>\n",
       "      <th>1</th>\n",
       "      <td>270298</td>\n",
       "      <td>270303</td>\n",
       "      <td>0</td>\n",
       "    </tr>\n",
       "    <tr>\n",
       "      <th>2</th>\n",
       "      <td>270298</td>\n",
       "      <td>270305</td>\n",
       "      <td>0</td>\n",
       "    </tr>\n",
       "    <tr>\n",
       "      <th>3</th>\n",
       "      <td>270298</td>\n",
       "      <td>270309</td>\n",
       "      <td>0</td>\n",
       "    </tr>\n",
       "    <tr>\n",
       "      <th>4</th>\n",
       "      <td>270298</td>\n",
       "      <td>270301</td>\n",
       "      <td>0</td>\n",
       "    </tr>\n",
       "    <tr>\n",
       "      <th>...</th>\n",
       "      <td>...</td>\n",
       "      <td>...</td>\n",
       "      <td>...</td>\n",
       "    </tr>\n",
       "    <tr>\n",
       "      <th>48311</th>\n",
       "      <td>270324</td>\n",
       "      <td>270303</td>\n",
       "      <td>0</td>\n",
       "    </tr>\n",
       "    <tr>\n",
       "      <th>48312</th>\n",
       "      <td>270324</td>\n",
       "      <td>270305</td>\n",
       "      <td>0</td>\n",
       "    </tr>\n",
       "    <tr>\n",
       "      <th>48313</th>\n",
       "      <td>270324</td>\n",
       "      <td>270311</td>\n",
       "      <td>0</td>\n",
       "    </tr>\n",
       "    <tr>\n",
       "      <th>48314</th>\n",
       "      <td>270325</td>\n",
       "      <td>270304</td>\n",
       "      <td>0</td>\n",
       "    </tr>\n",
       "    <tr>\n",
       "      <th>48315</th>\n",
       "      <td>270325</td>\n",
       "      <td>270305</td>\n",
       "      <td>0</td>\n",
       "    </tr>\n",
       "  </tbody>\n",
       "</table>\n",
       "<p>48316 rows × 3 columns</p>\n",
       "</div>"
      ],
      "text/plain": [
       "        node1   node2  label\n",
       "0      270298  270305      0\n",
       "1      270298  270303      0\n",
       "2      270298  270305      0\n",
       "3      270298  270309      0\n",
       "4      270298  270301      0\n",
       "...       ...     ...    ...\n",
       "48311  270324  270303      0\n",
       "48312  270324  270305      0\n",
       "48313  270324  270311      0\n",
       "48314  270325  270304      0\n",
       "48315  270325  270305      0\n",
       "\n",
       "[48316 rows x 3 columns]"
      ]
     },
     "execution_count": 18,
     "metadata": {},
     "output_type": "execute_result"
    }
   ],
   "source": [
    "train_missing"
   ]
  },
  {
   "cell_type": "code",
   "execution_count": 19,
   "id": "85e18d14-85f7-4633-8e4b-7cdf38481fd9",
   "metadata": {},
   "outputs": [
    {
     "data": {
      "text/html": [
       "<div>\n",
       "<style scoped>\n",
       "    .dataframe tbody tr th:only-of-type {\n",
       "        vertical-align: middle;\n",
       "    }\n",
       "\n",
       "    .dataframe tbody tr th {\n",
       "        vertical-align: top;\n",
       "    }\n",
       "\n",
       "    .dataframe thead th {\n",
       "        text-align: right;\n",
       "    }\n",
       "</style>\n",
       "<table border=\"1\" class=\"dataframe\">\n",
       "  <thead>\n",
       "    <tr style=\"text-align: right;\">\n",
       "      <th></th>\n",
       "      <th>node1</th>\n",
       "      <th>node2</th>\n",
       "      <th>label</th>\n",
       "    </tr>\n",
       "  </thead>\n",
       "  <tbody>\n",
       "    <tr>\n",
       "      <th>23437</th>\n",
       "      <td>270304</td>\n",
       "      <td>270303</td>\n",
       "      <td>0</td>\n",
       "    </tr>\n",
       "    <tr>\n",
       "      <th>38880</th>\n",
       "      <td>270309</td>\n",
       "      <td>270300</td>\n",
       "      <td>0</td>\n",
       "    </tr>\n",
       "    <tr>\n",
       "      <th>40344</th>\n",
       "      <td>270309</td>\n",
       "      <td>270300</td>\n",
       "      <td>0</td>\n",
       "    </tr>\n",
       "    <tr>\n",
       "      <th>40007</th>\n",
       "      <td>270309</td>\n",
       "      <td>270300</td>\n",
       "      <td>0</td>\n",
       "    </tr>\n",
       "    <tr>\n",
       "      <th>14001</th>\n",
       "      <td>270303</td>\n",
       "      <td>270305</td>\n",
       "      <td>0</td>\n",
       "    </tr>\n",
       "    <tr>\n",
       "      <th>...</th>\n",
       "      <td>...</td>\n",
       "      <td>...</td>\n",
       "      <td>...</td>\n",
       "    </tr>\n",
       "    <tr>\n",
       "      <th>28195</th>\n",
       "      <td>270305</td>\n",
       "      <td>270309</td>\n",
       "      <td>0</td>\n",
       "    </tr>\n",
       "    <tr>\n",
       "      <th>16676</th>\n",
       "      <td>270303</td>\n",
       "      <td>270300</td>\n",
       "      <td>0</td>\n",
       "    </tr>\n",
       "    <tr>\n",
       "      <th>24366</th>\n",
       "      <td>270304</td>\n",
       "      <td>270307</td>\n",
       "      <td>0</td>\n",
       "    </tr>\n",
       "    <tr>\n",
       "      <th>17916</th>\n",
       "      <td>270303</td>\n",
       "      <td>270305</td>\n",
       "      <td>0</td>\n",
       "    </tr>\n",
       "    <tr>\n",
       "      <th>31671</th>\n",
       "      <td>270305</td>\n",
       "      <td>270303</td>\n",
       "      <td>0</td>\n",
       "    </tr>\n",
       "  </tbody>\n",
       "</table>\n",
       "<p>33978 rows × 3 columns</p>\n",
       "</div>"
      ],
      "text/plain": [
       "        node1   node2  label\n",
       "23437  270304  270303      0\n",
       "38880  270309  270300      0\n",
       "40344  270309  270300      0\n",
       "40007  270309  270300      0\n",
       "14001  270303  270305      0\n",
       "...       ...     ...    ...\n",
       "28195  270305  270309      0\n",
       "16676  270303  270300      0\n",
       "24366  270304  270307      0\n",
       "17916  270303  270305      0\n",
       "31671  270305  270303      0\n",
       "\n",
       "[33978 rows x 3 columns]"
      ]
     },
     "execution_count": 19,
     "metadata": {},
     "output_type": "execute_result"
    }
   ],
   "source": [
    "train_missing = resample(train_missing, n_samples=33978)\n",
    "train_missing"
   ]
  },
  {
   "cell_type": "code",
   "execution_count": 20,
   "id": "18b99b36-7461-4141-8c9c-802959551fb5",
   "metadata": {},
   "outputs": [],
   "source": [
    "training_df = train_missing.append(train_existing, ignore_index=True)"
   ]
  },
  {
   "cell_type": "code",
   "execution_count": 21,
   "id": "d231c722-0ee4-40de-aa62-b6f78ff6592e",
   "metadata": {},
   "outputs": [],
   "source": [
    "training_df['label'] = training_df.label.astype('category')"
   ]
  },
  {
   "cell_type": "code",
   "execution_count": 22,
   "id": "9290583b-717b-4ca5-8360-6d203c08df69",
   "metadata": {},
   "outputs": [
    {
     "data": {
      "text/plain": [
       "label\n",
       "0    33978\n",
       "1    33978\n",
       "Name: node1, dtype: int64"
      ]
     },
     "execution_count": 22,
     "metadata": {},
     "output_type": "execute_result"
    }
   ],
   "source": [
    "training_df.groupby('label').count()['node1']"
   ]
  },
  {
   "cell_type": "markdown",
   "id": "27ae1a91-87a3-45fe-9c30-a3a62e9be283",
   "metadata": {},
   "source": [
    "# Test Data"
   ]
  },
  {
   "cell_type": "code",
   "execution_count": 23,
   "id": "482e232b-7ba4-44f3-a267-f89c7a6c2593",
   "metadata": {},
   "outputs": [],
   "source": [
    "test_existing_links_query = \"MATCH (offense)-[:LATER_COMPLAINTS]->(loc) \\\n",
    "RETURN id(offense) AS node1, id(loc) AS node2, 1 AS label\""
   ]
  },
  {
   "cell_type": "code",
   "execution_count": 24,
   "id": "c700fd1e-1a16-493e-9ccb-28fb3c4973af",
   "metadata": {},
   "outputs": [
    {
     "data": {
      "text/html": [
       "<div>\n",
       "<style scoped>\n",
       "    .dataframe tbody tr th:only-of-type {\n",
       "        vertical-align: middle;\n",
       "    }\n",
       "\n",
       "    .dataframe tbody tr th {\n",
       "        vertical-align: top;\n",
       "    }\n",
       "\n",
       "    .dataframe thead th {\n",
       "        text-align: right;\n",
       "    }\n",
       "</style>\n",
       "<table border=\"1\" class=\"dataframe\">\n",
       "  <thead>\n",
       "    <tr style=\"text-align: right;\">\n",
       "      <th></th>\n",
       "      <th>node1</th>\n",
       "      <th>node2</th>\n",
       "      <th>label</th>\n",
       "    </tr>\n",
       "  </thead>\n",
       "  <tbody>\n",
       "    <tr>\n",
       "      <th>0</th>\n",
       "      <td>270298</td>\n",
       "      <td>640355</td>\n",
       "      <td>1</td>\n",
       "    </tr>\n",
       "    <tr>\n",
       "      <th>1</th>\n",
       "      <td>270298</td>\n",
       "      <td>692107</td>\n",
       "      <td>1</td>\n",
       "    </tr>\n",
       "    <tr>\n",
       "      <th>2</th>\n",
       "      <td>270298</td>\n",
       "      <td>641273</td>\n",
       "      <td>1</td>\n",
       "    </tr>\n",
       "    <tr>\n",
       "      <th>3</th>\n",
       "      <td>270298</td>\n",
       "      <td>684124</td>\n",
       "      <td>1</td>\n",
       "    </tr>\n",
       "    <tr>\n",
       "      <th>4</th>\n",
       "      <td>270298</td>\n",
       "      <td>660442</td>\n",
       "      <td>1</td>\n",
       "    </tr>\n",
       "    <tr>\n",
       "      <th>...</th>\n",
       "      <td>...</td>\n",
       "      <td>...</td>\n",
       "      <td>...</td>\n",
       "    </tr>\n",
       "    <tr>\n",
       "      <th>13831</th>\n",
       "      <td>270318</td>\n",
       "      <td>643066</td>\n",
       "      <td>1</td>\n",
       "    </tr>\n",
       "    <tr>\n",
       "      <th>13832</th>\n",
       "      <td>270320</td>\n",
       "      <td>642610</td>\n",
       "      <td>1</td>\n",
       "    </tr>\n",
       "    <tr>\n",
       "      <th>13833</th>\n",
       "      <td>270320</td>\n",
       "      <td>644569</td>\n",
       "      <td>1</td>\n",
       "    </tr>\n",
       "    <tr>\n",
       "      <th>13834</th>\n",
       "      <td>270320</td>\n",
       "      <td>641273</td>\n",
       "      <td>1</td>\n",
       "    </tr>\n",
       "    <tr>\n",
       "      <th>13835</th>\n",
       "      <td>270322</td>\n",
       "      <td>668679</td>\n",
       "      <td>1</td>\n",
       "    </tr>\n",
       "  </tbody>\n",
       "</table>\n",
       "<p>13836 rows × 3 columns</p>\n",
       "</div>"
      ],
      "text/plain": [
       "        node1   node2  label\n",
       "0      270298  640355      1\n",
       "1      270298  692107      1\n",
       "2      270298  641273      1\n",
       "3      270298  684124      1\n",
       "4      270298  660442      1\n",
       "...       ...     ...    ...\n",
       "13831  270318  643066      1\n",
       "13832  270320  642610      1\n",
       "13833  270320  644569      1\n",
       "13834  270320  641273      1\n",
       "13835  270322  668679      1\n",
       "\n",
       "[13836 rows x 3 columns]"
      ]
     },
     "execution_count": 24,
     "metadata": {},
     "output_type": "execute_result"
    }
   ],
   "source": [
    "test_existing = graph.run(test_existing_links_query).to_data_frame()\n",
    "test_existing"
   ]
  },
  {
   "cell_type": "code",
   "execution_count": 25,
   "id": "cb6102fe-f2a1-4761-ac65-c7e825990e2f",
   "metadata": {},
   "outputs": [],
   "source": [
    "test_missing_links_query = \"MATCH (o:Offense) WHERE (o)-[:LATER_COMPLAINTS]-() \\\n",
    "MATCH (o)-[:LATER_COMPLAINTS*2]-(l) WHERE not((o)-[:LATER_COMPLAINTS]-(l)) \\\n",
    "RETURN id(o) AS node1, id(l) AS node2, 0 AS label\""
   ]
  },
  {
   "cell_type": "code",
   "execution_count": 26,
   "id": "cfb12dc6-da1c-47c3-8942-1074a6e34c25",
   "metadata": {},
   "outputs": [
    {
     "data": {
      "text/html": [
       "<div>\n",
       "<style scoped>\n",
       "    .dataframe tbody tr th:only-of-type {\n",
       "        vertical-align: middle;\n",
       "    }\n",
       "\n",
       "    .dataframe tbody tr th {\n",
       "        vertical-align: top;\n",
       "    }\n",
       "\n",
       "    .dataframe thead th {\n",
       "        text-align: right;\n",
       "    }\n",
       "</style>\n",
       "<table border=\"1\" class=\"dataframe\">\n",
       "  <thead>\n",
       "    <tr style=\"text-align: right;\">\n",
       "      <th></th>\n",
       "      <th>node1</th>\n",
       "      <th>node2</th>\n",
       "      <th>label</th>\n",
       "    </tr>\n",
       "  </thead>\n",
       "  <tbody>\n",
       "    <tr>\n",
       "      <th>0</th>\n",
       "      <td>270298</td>\n",
       "      <td>270303</td>\n",
       "      <td>0</td>\n",
       "    </tr>\n",
       "    <tr>\n",
       "      <th>1</th>\n",
       "      <td>270298</td>\n",
       "      <td>270307</td>\n",
       "      <td>0</td>\n",
       "    </tr>\n",
       "    <tr>\n",
       "      <th>2</th>\n",
       "      <td>270298</td>\n",
       "      <td>270320</td>\n",
       "      <td>0</td>\n",
       "    </tr>\n",
       "    <tr>\n",
       "      <th>3</th>\n",
       "      <td>270298</td>\n",
       "      <td>270300</td>\n",
       "      <td>0</td>\n",
       "    </tr>\n",
       "    <tr>\n",
       "      <th>4</th>\n",
       "      <td>270298</td>\n",
       "      <td>270303</td>\n",
       "      <td>0</td>\n",
       "    </tr>\n",
       "    <tr>\n",
       "      <th>...</th>\n",
       "      <td>...</td>\n",
       "      <td>...</td>\n",
       "      <td>...</td>\n",
       "    </tr>\n",
       "    <tr>\n",
       "      <th>6165</th>\n",
       "      <td>270320</td>\n",
       "      <td>270305</td>\n",
       "      <td>0</td>\n",
       "    </tr>\n",
       "    <tr>\n",
       "      <th>6166</th>\n",
       "      <td>270320</td>\n",
       "      <td>270303</td>\n",
       "      <td>0</td>\n",
       "    </tr>\n",
       "    <tr>\n",
       "      <th>6167</th>\n",
       "      <td>270320</td>\n",
       "      <td>270312</td>\n",
       "      <td>0</td>\n",
       "    </tr>\n",
       "    <tr>\n",
       "      <th>6168</th>\n",
       "      <td>270320</td>\n",
       "      <td>270312</td>\n",
       "      <td>0</td>\n",
       "    </tr>\n",
       "    <tr>\n",
       "      <th>6169</th>\n",
       "      <td>270322</td>\n",
       "      <td>270301</td>\n",
       "      <td>0</td>\n",
       "    </tr>\n",
       "  </tbody>\n",
       "</table>\n",
       "<p>6170 rows × 3 columns</p>\n",
       "</div>"
      ],
      "text/plain": [
       "       node1   node2  label\n",
       "0     270298  270303      0\n",
       "1     270298  270307      0\n",
       "2     270298  270320      0\n",
       "3     270298  270300      0\n",
       "4     270298  270303      0\n",
       "...      ...     ...    ...\n",
       "6165  270320  270305      0\n",
       "6166  270320  270303      0\n",
       "6167  270320  270312      0\n",
       "6168  270320  270312      0\n",
       "6169  270322  270301      0\n",
       "\n",
       "[6170 rows x 3 columns]"
      ]
     },
     "execution_count": 26,
     "metadata": {},
     "output_type": "execute_result"
    }
   ],
   "source": [
    "test_missing = graph.run(test_missing_links_query).to_data_frame()\n",
    "test_missing"
   ]
  },
  {
   "cell_type": "code",
   "execution_count": 27,
   "id": "d3d4d176-5060-44cb-9cfc-0e4cf7737c80",
   "metadata": {},
   "outputs": [],
   "source": [
    "test_missing = resample(test_missing, n_samples=13836)"
   ]
  },
  {
   "cell_type": "code",
   "execution_count": 28,
   "id": "69434bf4-1363-4421-ac48-7cf256c142e3",
   "metadata": {},
   "outputs": [],
   "source": [
    "test_df = test_missing.append(test_existing, ignore_index=True)"
   ]
  },
  {
   "cell_type": "code",
   "execution_count": 29,
   "id": "4cd60cb3-18b2-4afc-b223-b618bb63da86",
   "metadata": {},
   "outputs": [],
   "source": [
    "test_df['label'] = test_df.label.astype('category')"
   ]
  },
  {
   "cell_type": "code",
   "execution_count": 30,
   "id": "f9a4e293-03fc-48a3-9b61-2de011cdf968",
   "metadata": {},
   "outputs": [
    {
     "data": {
      "text/html": [
       "<div>\n",
       "<style scoped>\n",
       "    .dataframe tbody tr th:only-of-type {\n",
       "        vertical-align: middle;\n",
       "    }\n",
       "\n",
       "    .dataframe tbody tr th {\n",
       "        vertical-align: top;\n",
       "    }\n",
       "\n",
       "    .dataframe thead th {\n",
       "        text-align: right;\n",
       "    }\n",
       "</style>\n",
       "<table border=\"1\" class=\"dataframe\">\n",
       "  <thead>\n",
       "    <tr style=\"text-align: right;\">\n",
       "      <th></th>\n",
       "      <th>node1</th>\n",
       "      <th>node2</th>\n",
       "      <th>label</th>\n",
       "    </tr>\n",
       "  </thead>\n",
       "  <tbody>\n",
       "    <tr>\n",
       "      <th>0</th>\n",
       "      <td>270300</td>\n",
       "      <td>270309</td>\n",
       "      <td>0</td>\n",
       "    </tr>\n",
       "    <tr>\n",
       "      <th>1</th>\n",
       "      <td>270306</td>\n",
       "      <td>270304</td>\n",
       "      <td>0</td>\n",
       "    </tr>\n",
       "    <tr>\n",
       "      <th>2</th>\n",
       "      <td>270312</td>\n",
       "      <td>270301</td>\n",
       "      <td>0</td>\n",
       "    </tr>\n",
       "    <tr>\n",
       "      <th>3</th>\n",
       "      <td>270304</td>\n",
       "      <td>270309</td>\n",
       "      <td>0</td>\n",
       "    </tr>\n",
       "    <tr>\n",
       "      <th>4</th>\n",
       "      <td>270301</td>\n",
       "      <td>270307</td>\n",
       "      <td>0</td>\n",
       "    </tr>\n",
       "    <tr>\n",
       "      <th>...</th>\n",
       "      <td>...</td>\n",
       "      <td>...</td>\n",
       "      <td>...</td>\n",
       "    </tr>\n",
       "    <tr>\n",
       "      <th>27667</th>\n",
       "      <td>270318</td>\n",
       "      <td>643066</td>\n",
       "      <td>1</td>\n",
       "    </tr>\n",
       "    <tr>\n",
       "      <th>27668</th>\n",
       "      <td>270320</td>\n",
       "      <td>642610</td>\n",
       "      <td>1</td>\n",
       "    </tr>\n",
       "    <tr>\n",
       "      <th>27669</th>\n",
       "      <td>270320</td>\n",
       "      <td>644569</td>\n",
       "      <td>1</td>\n",
       "    </tr>\n",
       "    <tr>\n",
       "      <th>27670</th>\n",
       "      <td>270320</td>\n",
       "      <td>641273</td>\n",
       "      <td>1</td>\n",
       "    </tr>\n",
       "    <tr>\n",
       "      <th>27671</th>\n",
       "      <td>270322</td>\n",
       "      <td>668679</td>\n",
       "      <td>1</td>\n",
       "    </tr>\n",
       "  </tbody>\n",
       "</table>\n",
       "<p>27672 rows × 3 columns</p>\n",
       "</div>"
      ],
      "text/plain": [
       "        node1   node2 label\n",
       "0      270300  270309     0\n",
       "1      270306  270304     0\n",
       "2      270312  270301     0\n",
       "3      270304  270309     0\n",
       "4      270301  270307     0\n",
       "...       ...     ...   ...\n",
       "27667  270318  643066     1\n",
       "27668  270320  642610     1\n",
       "27669  270320  644569     1\n",
       "27670  270320  641273     1\n",
       "27671  270322  668679     1\n",
       "\n",
       "[27672 rows x 3 columns]"
      ]
     },
     "execution_count": 30,
     "metadata": {},
     "output_type": "execute_result"
    }
   ],
   "source": [
    "test_df"
   ]
  },
  {
   "cell_type": "code",
   "execution_count": 31,
   "id": "f9bef706-2de3-4f73-9073-f6f50f6484a9",
   "metadata": {},
   "outputs": [
    {
     "data": {
      "text/plain": [
       "label\n",
       "0    13836\n",
       "1    13836\n",
       "Name: node1, dtype: int64"
      ]
     },
     "execution_count": 31,
     "metadata": {},
     "output_type": "execute_result"
    }
   ],
   "source": [
    "test_df.groupby('label').count()['node1']"
   ]
  },
  {
   "cell_type": "code",
   "execution_count": 171,
   "id": "33f75d11-7c25-4d20-b69d-216730482f87",
   "metadata": {},
   "outputs": [],
   "source": [
    "def apply_graphy_training_features(data):\n",
    "    query = \"\"\"\n",
    "    UNWIND $pairs AS pair\n",
    "    MATCH (p1) WHERE id(p1) = pair.node1\n",
    "    MATCH (p2) WHERE id(p2) = pair.node2\n",
    "    RETURN pair.node1 AS node1,\n",
    "    pair.node2 AS node2,\n",
    "    gds.alpha.linkprediction.preferentialAttachment(p1, p2, {\n",
    "    relationshipQuery: \"EARLY_COMPLAINTS\"}) AS prefAttachment\n",
    "    \"\"\"\n",
    "    pairs = [{\"node1\": int(row[0]),\"node2\": int(row[1])} for index, row in data.iterrows()]\n",
    "    features = graph.run(query, {\"pairs\": pairs}).to_data_frame()\n",
    "    return features.merge(data, on=['node1','node2'], how='right')"
   ]
  },
  {
   "cell_type": "code",
   "execution_count": 169,
   "id": "ff89b1a1-44dd-47eb-8968-ff1ebd4ac046",
   "metadata": {},
   "outputs": [],
   "source": [
    "def apply_graphy_test_features(data):\n",
    "    query = \"\"\"\n",
    "    UNWIND $pairs AS pair\n",
    "    MATCH (p1) WHERE id(p1) = pair.node1\n",
    "    MATCH (p2) WHERE id(p2) = pair.node2\n",
    "    RETURN pair.node1 AS node1,\n",
    "    pair.node2 AS node2,\n",
    "    gds.alpha.linkprediction.preferentialAttachment(p1, p2, {\n",
    "    relationshipQuery: \"LATER_COMPLAINTS\"}) AS prefAttachment\n",
    "    \"\"\"\n",
    "    pairs = [{\"node1\": int(row[0]),\"node2\": int(row[1])} for index, row in data.iterrows()]\n",
    "    features = graph.run(query, {\"pairs\": pairs}).to_data_frame()\n",
    "    return features.merge(data, on=['node1','node2'], how='right')"
   ]
  },
  {
   "cell_type": "code",
   "execution_count": 170,
   "id": "ca31ec5d-6c9f-4569-88ba-cce07d4e4d4f",
   "metadata": {},
   "outputs": [
    {
     "ename": "IndexError",
     "evalue": "index out of range",
     "output_type": "error",
     "traceback": [
      "\u001b[1;31m---------------------------------------------------------------------------\u001b[0m",
      "\u001b[1;31mIndexError\u001b[0m                                Traceback (most recent call last)",
      "\u001b[1;32m<ipython-input-170-e8e28d864bce>\u001b[0m in \u001b[0;36m<module>\u001b[1;34m\u001b[0m\n\u001b[1;32m----> 1\u001b[1;33m \u001b[0mtraining_data\u001b[0m \u001b[1;33m=\u001b[0m \u001b[0mapply_graphy_training_features\u001b[0m\u001b[1;33m(\u001b[0m\u001b[0mtraining_df\u001b[0m\u001b[1;33m)\u001b[0m\u001b[1;33m\u001b[0m\u001b[1;33m\u001b[0m\u001b[0m\n\u001b[0m\u001b[0;32m      2\u001b[0m \u001b[0mtraining_data\u001b[0m\u001b[1;33m.\u001b[0m\u001b[0mdrop_duplicates\u001b[0m\u001b[1;33m(\u001b[0m\u001b[0minplace\u001b[0m\u001b[1;33m=\u001b[0m\u001b[1;32mTrue\u001b[0m\u001b[1;33m)\u001b[0m\u001b[1;33m\u001b[0m\u001b[1;33m\u001b[0m\u001b[0m\n",
      "\u001b[1;32m<ipython-input-168-e656e87f9cc2>\u001b[0m in \u001b[0;36mapply_graphy_training_features\u001b[1;34m(data)\u001b[0m\n\u001b[0;32m     11\u001b[0m     \"\"\"\n\u001b[0;32m     12\u001b[0m     \u001b[0mpairs\u001b[0m \u001b[1;33m=\u001b[0m \u001b[1;33m[\u001b[0m\u001b[1;33m{\u001b[0m\u001b[1;34m\"node1\"\u001b[0m\u001b[1;33m:\u001b[0m \u001b[0mint\u001b[0m\u001b[1;33m(\u001b[0m\u001b[0mrow\u001b[0m\u001b[1;33m[\u001b[0m\u001b[1;36m0\u001b[0m\u001b[1;33m]\u001b[0m\u001b[1;33m)\u001b[0m\u001b[1;33m,\u001b[0m\u001b[1;34m\"node2\"\u001b[0m\u001b[1;33m:\u001b[0m \u001b[0mint\u001b[0m\u001b[1;33m(\u001b[0m\u001b[0mrow\u001b[0m\u001b[1;33m[\u001b[0m\u001b[1;36m1\u001b[0m\u001b[1;33m]\u001b[0m\u001b[1;33m)\u001b[0m\u001b[1;33m}\u001b[0m \u001b[1;32mfor\u001b[0m \u001b[0mindex\u001b[0m\u001b[1;33m,\u001b[0m \u001b[0mrow\u001b[0m \u001b[1;32min\u001b[0m \u001b[0mdata\u001b[0m\u001b[1;33m.\u001b[0m\u001b[0miterrows\u001b[0m\u001b[1;33m(\u001b[0m\u001b[1;33m)\u001b[0m\u001b[1;33m]\u001b[0m\u001b[1;33m\u001b[0m\u001b[1;33m\u001b[0m\u001b[0m\n\u001b[1;32m---> 13\u001b[1;33m     \u001b[0mfeatures\u001b[0m \u001b[1;33m=\u001b[0m \u001b[0mgraph\u001b[0m\u001b[1;33m.\u001b[0m\u001b[0mrun\u001b[0m\u001b[1;33m(\u001b[0m\u001b[0mquery\u001b[0m\u001b[1;33m,\u001b[0m \u001b[1;33m{\u001b[0m\u001b[1;34m\"pairs\"\u001b[0m\u001b[1;33m:\u001b[0m \u001b[0mpairs\u001b[0m\u001b[1;33m}\u001b[0m\u001b[1;33m)\u001b[0m\u001b[1;33m.\u001b[0m\u001b[0mto_data_frame\u001b[0m\u001b[1;33m(\u001b[0m\u001b[1;33m)\u001b[0m\u001b[1;33m\u001b[0m\u001b[1;33m\u001b[0m\u001b[0m\n\u001b[0m\u001b[0;32m     14\u001b[0m     \u001b[1;32mreturn\u001b[0m \u001b[0mfeatures\u001b[0m\u001b[1;33m.\u001b[0m\u001b[0mmerge\u001b[0m\u001b[1;33m(\u001b[0m\u001b[0mdata\u001b[0m\u001b[1;33m,\u001b[0m \u001b[0mon\u001b[0m\u001b[1;33m=\u001b[0m\u001b[1;33m[\u001b[0m\u001b[1;34m'node1'\u001b[0m\u001b[1;33m,\u001b[0m\u001b[1;34m'node2'\u001b[0m\u001b[1;33m]\u001b[0m\u001b[1;33m,\u001b[0m \u001b[0mhow\u001b[0m\u001b[1;33m=\u001b[0m\u001b[1;34m'right'\u001b[0m\u001b[1;33m)\u001b[0m\u001b[1;33m\u001b[0m\u001b[1;33m\u001b[0m\u001b[0m\n",
      "\u001b[1;32m~\\miniconda3\\envs\\dsba-6520\\lib\\site-packages\\py2neo\\database.py\u001b[0m in \u001b[0;36mrun\u001b[1;34m(self, cypher, parameters, **kwparameters)\u001b[0m\n\u001b[0;32m    403\u001b[0m         \u001b[1;33m:\u001b[0m\u001b[1;32mreturn\u001b[0m\u001b[1;33m:\u001b[0m\u001b[1;33m\u001b[0m\u001b[1;33m\u001b[0m\u001b[0m\n\u001b[0;32m    404\u001b[0m         \"\"\"\n\u001b[1;32m--> 405\u001b[1;33m         \u001b[1;32mreturn\u001b[0m \u001b[0mself\u001b[0m\u001b[1;33m.\u001b[0m\u001b[0mauto\u001b[0m\u001b[1;33m(\u001b[0m\u001b[1;33m)\u001b[0m\u001b[1;33m.\u001b[0m\u001b[0mrun\u001b[0m\u001b[1;33m(\u001b[0m\u001b[0mcypher\u001b[0m\u001b[1;33m,\u001b[0m \u001b[0mparameters\u001b[0m\u001b[1;33m,\u001b[0m \u001b[1;33m**\u001b[0m\u001b[0mkwparameters\u001b[0m\u001b[1;33m)\u001b[0m\u001b[1;33m\u001b[0m\u001b[1;33m\u001b[0m\u001b[0m\n\u001b[0m\u001b[0;32m    406\u001b[0m \u001b[1;33m\u001b[0m\u001b[0m\n\u001b[0;32m    407\u001b[0m     \u001b[1;32mdef\u001b[0m \u001b[0mevaluate\u001b[0m\u001b[1;33m(\u001b[0m\u001b[0mself\u001b[0m\u001b[1;33m,\u001b[0m \u001b[0mcypher\u001b[0m\u001b[1;33m,\u001b[0m \u001b[0mparameters\u001b[0m\u001b[1;33m=\u001b[0m\u001b[1;32mNone\u001b[0m\u001b[1;33m,\u001b[0m \u001b[1;33m**\u001b[0m\u001b[0mkwparameters\u001b[0m\u001b[1;33m)\u001b[0m\u001b[1;33m:\u001b[0m\u001b[1;33m\u001b[0m\u001b[1;33m\u001b[0m\u001b[0m\n",
      "\u001b[1;32m~\\miniconda3\\envs\\dsba-6520\\lib\\site-packages\\py2neo\\database.py\u001b[0m in \u001b[0;36mrun\u001b[1;34m(self, cypher, parameters, **kwparameters)\u001b[0m\n\u001b[0;32m    976\u001b[0m                 \u001b[0mresult\u001b[0m \u001b[1;33m=\u001b[0m \u001b[0mself\u001b[0m\u001b[1;33m.\u001b[0m\u001b[0m_connector\u001b[0m\u001b[1;33m.\u001b[0m\u001b[0mrun\u001b[0m\u001b[1;33m(\u001b[0m\u001b[0mself\u001b[0m\u001b[1;33m.\u001b[0m\u001b[0mref\u001b[0m\u001b[1;33m,\u001b[0m \u001b[0mcypher\u001b[0m\u001b[1;33m,\u001b[0m \u001b[0mparameters\u001b[0m\u001b[1;33m)\u001b[0m\u001b[1;33m\u001b[0m\u001b[1;33m\u001b[0m\u001b[0m\n\u001b[0;32m    977\u001b[0m             \u001b[1;32melse\u001b[0m\u001b[1;33m:\u001b[0m\u001b[1;33m\u001b[0m\u001b[1;33m\u001b[0m\u001b[0m\n\u001b[1;32m--> 978\u001b[1;33m                 result = self._connector.auto_run(cypher, parameters,\n\u001b[0m\u001b[0;32m    979\u001b[0m                                                   \u001b[0mgraph_name\u001b[0m\u001b[1;33m=\u001b[0m\u001b[0mself\u001b[0m\u001b[1;33m.\u001b[0m\u001b[0mgraph\u001b[0m\u001b[1;33m.\u001b[0m\u001b[0mname\u001b[0m\u001b[1;33m,\u001b[0m\u001b[1;33m\u001b[0m\u001b[1;33m\u001b[0m\u001b[0m\n\u001b[0;32m    980\u001b[0m                                                   readonly=self.readonly)\n",
      "\u001b[1;32m~\\miniconda3\\envs\\dsba-6520\\lib\\site-packages\\py2neo\\client\\__init__.py\u001b[0m in \u001b[0;36mauto_run\u001b[1;34m(self, cypher, parameters, pull, graph_name, readonly)\u001b[0m\n\u001b[0;32m   1341\u001b[0m             \u001b[1;32mif\u001b[0m \u001b[0mpull\u001b[0m \u001b[1;33m!=\u001b[0m \u001b[1;36m0\u001b[0m\u001b[1;33m:\u001b[0m\u001b[1;33m\u001b[0m\u001b[1;33m\u001b[0m\u001b[0m\n\u001b[0;32m   1342\u001b[0m                 \u001b[1;32mtry\u001b[0m\u001b[1;33m:\u001b[0m\u001b[1;33m\u001b[0m\u001b[1;33m\u001b[0m\u001b[0m\n\u001b[1;32m-> 1343\u001b[1;33m                     \u001b[0mcx\u001b[0m\u001b[1;33m.\u001b[0m\u001b[0mpull\u001b[0m\u001b[1;33m(\u001b[0m\u001b[0mresult\u001b[0m\u001b[1;33m,\u001b[0m \u001b[0mn\u001b[0m\u001b[1;33m=\u001b[0m\u001b[0mpull\u001b[0m\u001b[1;33m)\u001b[0m\u001b[1;33m\u001b[0m\u001b[1;33m\u001b[0m\u001b[0m\n\u001b[0m\u001b[0;32m   1344\u001b[0m                 \u001b[1;32mexcept\u001b[0m \u001b[0mTypeError\u001b[0m\u001b[1;33m:\u001b[0m\u001b[1;33m\u001b[0m\u001b[1;33m\u001b[0m\u001b[0m\n\u001b[0;32m   1345\u001b[0m                     \u001b[1;31m# If the RUN fails, so will the PULL, due to\u001b[0m\u001b[1;33m\u001b[0m\u001b[1;33m\u001b[0m\u001b[1;33m\u001b[0m\u001b[0m\n",
      "\u001b[1;32m~\\miniconda3\\envs\\dsba-6520\\lib\\site-packages\\py2neo\\client\\bolt.py\u001b[0m in \u001b[0;36mpull\u001b[1;34m(self, result, n, capacity)\u001b[0m\n\u001b[0;32m    941\u001b[0m         \u001b[0mresult\u001b[0m\u001b[1;33m.\u001b[0m\u001b[0mappend\u001b[0m\u001b[1;33m(\u001b[0m\u001b[0mresponse\u001b[0m\u001b[1;33m,\u001b[0m \u001b[0mfinal\u001b[0m\u001b[1;33m=\u001b[0m\u001b[1;33m(\u001b[0m\u001b[0mn\u001b[0m \u001b[1;33m==\u001b[0m \u001b[1;33m-\u001b[0m\u001b[1;36m1\u001b[0m\u001b[1;33m)\u001b[0m\u001b[1;33m)\u001b[0m\u001b[1;33m\u001b[0m\u001b[1;33m\u001b[0m\u001b[0m\n\u001b[0;32m    942\u001b[0m         \u001b[1;32mtry\u001b[0m\u001b[1;33m:\u001b[0m\u001b[1;33m\u001b[0m\u001b[1;33m\u001b[0m\u001b[0m\n\u001b[1;32m--> 943\u001b[1;33m             \u001b[0mself\u001b[0m\u001b[1;33m.\u001b[0m\u001b[0m_sync\u001b[0m\u001b[1;33m(\u001b[0m\u001b[0mresponse\u001b[0m\u001b[1;33m)\u001b[0m\u001b[1;33m\u001b[0m\u001b[1;33m\u001b[0m\u001b[0m\n\u001b[0m\u001b[0;32m    944\u001b[0m         \u001b[1;32mexcept\u001b[0m \u001b[0mBrokenWireError\u001b[0m \u001b[1;32mas\u001b[0m \u001b[0merror\u001b[0m\u001b[1;33m:\u001b[0m\u001b[1;33m\u001b[0m\u001b[1;33m\u001b[0m\u001b[0m\n\u001b[0;32m    945\u001b[0m             \u001b[0mresult\u001b[0m\u001b[1;33m.\u001b[0m\u001b[0mtransaction\u001b[0m\u001b[1;33m.\u001b[0m\u001b[0mmark_broken\u001b[0m\u001b[1;33m(\u001b[0m\u001b[1;33m)\u001b[0m\u001b[1;33m\u001b[0m\u001b[1;33m\u001b[0m\u001b[0m\n",
      "\u001b[1;32m~\\miniconda3\\envs\\dsba-6520\\lib\\site-packages\\py2neo\\client\\bolt.py\u001b[0m in \u001b[0;36m_sync\u001b[1;34m(self, *responses)\u001b[0m\n\u001b[0;32m    745\u001b[0m         \u001b[0mself\u001b[0m\u001b[1;33m.\u001b[0m\u001b[0msend\u001b[0m\u001b[1;33m(\u001b[0m\u001b[1;33m)\u001b[0m\u001b[1;33m\u001b[0m\u001b[1;33m\u001b[0m\u001b[0m\n\u001b[0;32m    746\u001b[0m         \u001b[1;32mfor\u001b[0m \u001b[0mresponse\u001b[0m \u001b[1;32min\u001b[0m \u001b[0mresponses\u001b[0m\u001b[1;33m:\u001b[0m\u001b[1;33m\u001b[0m\u001b[1;33m\u001b[0m\u001b[0m\n\u001b[1;32m--> 747\u001b[1;33m             \u001b[0mself\u001b[0m\u001b[1;33m.\u001b[0m\u001b[0m_wait\u001b[0m\u001b[1;33m(\u001b[0m\u001b[0mresponse\u001b[0m\u001b[1;33m)\u001b[0m\u001b[1;33m\u001b[0m\u001b[1;33m\u001b[0m\u001b[0m\n\u001b[0m\u001b[0;32m    748\u001b[0m \u001b[1;33m\u001b[0m\u001b[0m\n\u001b[0;32m    749\u001b[0m     \u001b[1;32mdef\u001b[0m \u001b[0m_audit\u001b[0m\u001b[1;33m(\u001b[0m\u001b[0mself\u001b[0m\u001b[1;33m,\u001b[0m \u001b[0mtask\u001b[0m\u001b[1;33m)\u001b[0m\u001b[1;33m:\u001b[0m\u001b[1;33m\u001b[0m\u001b[1;33m\u001b[0m\u001b[0m\n",
      "\u001b[1;32m~\\miniconda3\\envs\\dsba-6520\\lib\\site-packages\\py2neo\\client\\bolt.py\u001b[0m in \u001b[0;36m_wait\u001b[1;34m(self, response)\u001b[0m\n\u001b[0;32m    740\u001b[0m         \"\"\"\n\u001b[0;32m    741\u001b[0m         \u001b[1;32mwhile\u001b[0m \u001b[1;32mnot\u001b[0m \u001b[0mresponse\u001b[0m\u001b[1;33m.\u001b[0m\u001b[0mfull\u001b[0m\u001b[1;33m(\u001b[0m\u001b[1;33m)\u001b[0m \u001b[1;32mand\u001b[0m \u001b[1;32mnot\u001b[0m \u001b[0mresponse\u001b[0m\u001b[1;33m.\u001b[0m\u001b[0mdone\u001b[0m\u001b[1;33m(\u001b[0m\u001b[1;33m)\u001b[0m\u001b[1;33m:\u001b[0m\u001b[1;33m\u001b[0m\u001b[1;33m\u001b[0m\u001b[0m\n\u001b[1;32m--> 742\u001b[1;33m             \u001b[0mself\u001b[0m\u001b[1;33m.\u001b[0m\u001b[0m_fetch\u001b[0m\u001b[1;33m(\u001b[0m\u001b[1;33m)\u001b[0m\u001b[1;33m\u001b[0m\u001b[1;33m\u001b[0m\u001b[0m\n\u001b[0m\u001b[0;32m    743\u001b[0m \u001b[1;33m\u001b[0m\u001b[0m\n\u001b[0;32m    744\u001b[0m     \u001b[1;32mdef\u001b[0m \u001b[0m_sync\u001b[0m\u001b[1;33m(\u001b[0m\u001b[0mself\u001b[0m\u001b[1;33m,\u001b[0m \u001b[1;33m*\u001b[0m\u001b[0mresponses\u001b[0m\u001b[1;33m)\u001b[0m\u001b[1;33m:\u001b[0m\u001b[1;33m\u001b[0m\u001b[1;33m\u001b[0m\u001b[0m\n",
      "\u001b[1;32m~\\miniconda3\\envs\\dsba-6520\\lib\\site-packages\\py2neo\\client\\bolt.py\u001b[0m in \u001b[0;36m_fetch\u001b[1;34m(self)\u001b[0m\n\u001b[0;32m    715\u001b[0m         \u001b[0mfailed\u001b[0m \u001b[0mstate\u001b[0m \u001b[0minto\u001b[0m \u001b[0man\u001b[0m \u001b[0mexception\u001b[0m\u001b[1;33m.\u001b[0m\u001b[1;33m\u001b[0m\u001b[1;33m\u001b[0m\u001b[0m\n\u001b[0;32m    716\u001b[0m         \"\"\"\n\u001b[1;32m--> 717\u001b[1;33m         \u001b[0mtag\u001b[0m\u001b[1;33m,\u001b[0m \u001b[0mfields\u001b[0m \u001b[1;33m=\u001b[0m \u001b[0mself\u001b[0m\u001b[1;33m.\u001b[0m\u001b[0mread_message\u001b[0m\u001b[1;33m(\u001b[0m\u001b[1;33m)\u001b[0m\u001b[1;33m\u001b[0m\u001b[1;33m\u001b[0m\u001b[0m\n\u001b[0m\u001b[0;32m    718\u001b[0m         \u001b[1;32mif\u001b[0m \u001b[0mtag\u001b[0m \u001b[1;33m==\u001b[0m \u001b[1;36m0x70\u001b[0m\u001b[1;33m:\u001b[0m\u001b[1;33m\u001b[0m\u001b[1;33m\u001b[0m\u001b[0m\n\u001b[0;32m    719\u001b[0m             \u001b[0mself\u001b[0m\u001b[1;33m.\u001b[0m\u001b[0m_responses\u001b[0m\u001b[1;33m.\u001b[0m\u001b[0mpopleft\u001b[0m\u001b[1;33m(\u001b[0m\u001b[1;33m)\u001b[0m\u001b[1;33m.\u001b[0m\u001b[0mset_success\u001b[0m\u001b[1;33m(\u001b[0m\u001b[1;33m**\u001b[0m\u001b[0mfields\u001b[0m\u001b[1;33m[\u001b[0m\u001b[1;36m0\u001b[0m\u001b[1;33m]\u001b[0m\u001b[1;33m)\u001b[0m\u001b[1;33m\u001b[0m\u001b[1;33m\u001b[0m\u001b[0m\n",
      "\u001b[1;32m~\\miniconda3\\envs\\dsba-6520\\lib\\site-packages\\py2neo\\client\\bolt.py\u001b[0m in \u001b[0;36mread_message\u001b[1;34m(self)\u001b[0m\n\u001b[0;32m    642\u001b[0m \u001b[1;33m\u001b[0m\u001b[0m\n\u001b[0;32m    643\u001b[0m     \u001b[1;32mdef\u001b[0m \u001b[0mread_message\u001b[0m\u001b[1;33m(\u001b[0m\u001b[0mself\u001b[0m\u001b[1;33m)\u001b[0m\u001b[1;33m:\u001b[0m\u001b[1;33m\u001b[0m\u001b[1;33m\u001b[0m\u001b[0m\n\u001b[1;32m--> 644\u001b[1;33m         \u001b[0mtag\u001b[0m\u001b[1;33m,\u001b[0m \u001b[0mfields\u001b[0m \u001b[1;33m=\u001b[0m \u001b[0mself\u001b[0m\u001b[1;33m.\u001b[0m\u001b[0m_reader\u001b[0m\u001b[1;33m.\u001b[0m\u001b[0mread_message\u001b[0m\u001b[1;33m(\u001b[0m\u001b[1;33m)\u001b[0m\u001b[1;33m\u001b[0m\u001b[1;33m\u001b[0m\u001b[0m\n\u001b[0m\u001b[0;32m    645\u001b[0m         \u001b[1;32mif\u001b[0m \u001b[0mtag\u001b[0m \u001b[1;33m==\u001b[0m \u001b[1;36m0x71\u001b[0m\u001b[1;33m:\u001b[0m\u001b[1;33m\u001b[0m\u001b[1;33m\u001b[0m\u001b[0m\n\u001b[0;32m    646\u001b[0m             \u001b[1;31m# If a RECORD is received, check for more records\u001b[0m\u001b[1;33m\u001b[0m\u001b[1;33m\u001b[0m\u001b[1;33m\u001b[0m\u001b[0m\n",
      "\u001b[1;32m~\\miniconda3\\envs\\dsba-6520\\lib\\site-packages\\py2neo\\client\\bolt.py\u001b[0m in \u001b[0;36mread_message\u001b[1;34m(self)\u001b[0m\n\u001b[0;32m     94\u001b[0m                 \u001b[0mchunks\u001b[0m\u001b[1;33m.\u001b[0m\u001b[0mappend\u001b[0m\u001b[1;33m(\u001b[0m\u001b[0mself\u001b[0m\u001b[1;33m.\u001b[0m\u001b[0mwire\u001b[0m\u001b[1;33m.\u001b[0m\u001b[0mread\u001b[0m\u001b[1;33m(\u001b[0m\u001b[0msize\u001b[0m\u001b[1;33m)\u001b[0m\u001b[1;33m)\u001b[0m\u001b[1;33m\u001b[0m\u001b[1;33m\u001b[0m\u001b[0m\n\u001b[0;32m     95\u001b[0m         \u001b[0mmessage\u001b[0m \u001b[1;33m=\u001b[0m \u001b[1;34mb\"\"\u001b[0m\u001b[1;33m.\u001b[0m\u001b[0mjoin\u001b[0m\u001b[1;33m(\u001b[0m\u001b[0mchunks\u001b[0m\u001b[1;33m)\u001b[0m\u001b[1;33m\u001b[0m\u001b[1;33m\u001b[0m\u001b[0m\n\u001b[1;32m---> 96\u001b[1;33m         \u001b[0m_\u001b[0m\u001b[1;33m,\u001b[0m \u001b[0mn\u001b[0m \u001b[1;33m=\u001b[0m \u001b[0mdivmod\u001b[0m\u001b[1;33m(\u001b[0m\u001b[0mmessage\u001b[0m\u001b[1;33m[\u001b[0m\u001b[1;36m0\u001b[0m\u001b[1;33m]\u001b[0m\u001b[1;33m,\u001b[0m \u001b[1;36m0x10\u001b[0m\u001b[1;33m)\u001b[0m\u001b[1;33m\u001b[0m\u001b[1;33m\u001b[0m\u001b[0m\n\u001b[0m\u001b[0;32m     97\u001b[0m         \u001b[1;32mtry\u001b[0m\u001b[1;33m:\u001b[0m\u001b[1;33m\u001b[0m\u001b[1;33m\u001b[0m\u001b[0m\n\u001b[0;32m     98\u001b[0m             \u001b[0munpacker\u001b[0m \u001b[1;33m=\u001b[0m \u001b[0mUnpackStream\u001b[0m\u001b[1;33m(\u001b[0m\u001b[0mmessage\u001b[0m\u001b[1;33m,\u001b[0m \u001b[0moffset\u001b[0m\u001b[1;33m=\u001b[0m\u001b[1;36m2\u001b[0m\u001b[1;33m)\u001b[0m\u001b[1;33m\u001b[0m\u001b[1;33m\u001b[0m\u001b[0m\n",
      "\u001b[1;31mIndexError\u001b[0m: index out of range"
     ]
    }
   ],
   "source": [
    "training_data = apply_graphy_training_features(training_df)\n",
    "training_data.drop_duplicates(inplace=True)"
   ]
  },
  {
   "cell_type": "code",
   "execution_count": null,
   "id": "5184ce5c-b023-4a01-b3e8-f832767787be",
   "metadata": {},
   "outputs": [],
   "source": [
    "training_data.groupby('label').count()['node1']"
   ]
  },
  {
   "cell_type": "code",
   "execution_count": null,
   "id": "ce5fcb14-fffa-423c-a1c9-c4094a549402",
   "metadata": {},
   "outputs": [],
   "source": [
    "test_data = apply_graphy_test_features(test_df)\n",
    "test_data = test_data.drop_duplicates()"
   ]
  },
  {
   "cell_type": "code",
   "execution_count": null,
   "id": "5421adfe-6f41-4dcf-82e6-40434a9900b9",
   "metadata": {},
   "outputs": [],
   "source": [
    "test_data.groupby('label').count()['node1']"
   ]
  },
  {
   "cell_type": "code",
   "execution_count": 160,
   "id": "a3d0332d-a6bf-438f-aa6b-19ac11303155",
   "metadata": {},
   "outputs": [],
   "source": [
    "from sklearn.ensemble import RandomForestClassifier\n",
    "from sklearn.pipeline import Pipeline\n",
    "from sklearn.feature_extraction import DictVectorizer"
   ]
  },
  {
   "cell_type": "code",
   "execution_count": 161,
   "id": "a1a41a71-5b18-4486-87af-4971462b07bd",
   "metadata": {},
   "outputs": [
    {
     "data": {
      "text/html": [
       "<div>\n",
       "<style scoped>\n",
       "    .dataframe tbody tr th:only-of-type {\n",
       "        vertical-align: middle;\n",
       "    }\n",
       "\n",
       "    .dataframe tbody tr th {\n",
       "        vertical-align: top;\n",
       "    }\n",
       "\n",
       "    .dataframe thead th {\n",
       "        text-align: right;\n",
       "    }\n",
       "</style>\n",
       "<table border=\"1\" class=\"dataframe\">\n",
       "  <thead>\n",
       "    <tr style=\"text-align: right;\">\n",
       "      <th></th>\n",
       "      <th>node1</th>\n",
       "      <th>node2</th>\n",
       "      <th>prefAttachment</th>\n",
       "      <th>sameCommunity</th>\n",
       "      <th>label</th>\n",
       "    </tr>\n",
       "  </thead>\n",
       "  <tbody>\n",
       "    <tr>\n",
       "      <th>23847596</th>\n",
       "      <td>270298</td>\n",
       "      <td>653007</td>\n",
       "      <td>57.0</td>\n",
       "      <td>0.0</td>\n",
       "      <td>1</td>\n",
       "    </tr>\n",
       "    <tr>\n",
       "      <th>23847597</th>\n",
       "      <td>270298</td>\n",
       "      <td>660983</td>\n",
       "      <td>57.0</td>\n",
       "      <td>0.0</td>\n",
       "      <td>1</td>\n",
       "    </tr>\n",
       "    <tr>\n",
       "      <th>23847598</th>\n",
       "      <td>270298</td>\n",
       "      <td>664265</td>\n",
       "      <td>19.0</td>\n",
       "      <td>0.0</td>\n",
       "      <td>1</td>\n",
       "    </tr>\n",
       "    <tr>\n",
       "      <th>23847599</th>\n",
       "      <td>270298</td>\n",
       "      <td>655983</td>\n",
       "      <td>76.0</td>\n",
       "      <td>0.0</td>\n",
       "      <td>1</td>\n",
       "    </tr>\n",
       "    <tr>\n",
       "      <th>23847600</th>\n",
       "      <td>270298</td>\n",
       "      <td>650496</td>\n",
       "      <td>76.0</td>\n",
       "      <td>0.0</td>\n",
       "      <td>1</td>\n",
       "    </tr>\n",
       "    <tr>\n",
       "      <th>...</th>\n",
       "      <td>...</td>\n",
       "      <td>...</td>\n",
       "      <td>...</td>\n",
       "      <td>...</td>\n",
       "      <td>...</td>\n",
       "    </tr>\n",
       "    <tr>\n",
       "      <th>23881569</th>\n",
       "      <td>270322</td>\n",
       "      <td>655709</td>\n",
       "      <td>14.0</td>\n",
       "      <td>0.0</td>\n",
       "      <td>1</td>\n",
       "    </tr>\n",
       "    <tr>\n",
       "      <th>23881570</th>\n",
       "      <td>270322</td>\n",
       "      <td>645687</td>\n",
       "      <td>42.0</td>\n",
       "      <td>0.0</td>\n",
       "      <td>1</td>\n",
       "    </tr>\n",
       "    <tr>\n",
       "      <th>23881571</th>\n",
       "      <td>270322</td>\n",
       "      <td>640106</td>\n",
       "      <td>56.0</td>\n",
       "      <td>0.0</td>\n",
       "      <td>1</td>\n",
       "    </tr>\n",
       "    <tr>\n",
       "      <th>23881572</th>\n",
       "      <td>270324</td>\n",
       "      <td>641422</td>\n",
       "      <td>4.0</td>\n",
       "      <td>0.0</td>\n",
       "      <td>1</td>\n",
       "    </tr>\n",
       "    <tr>\n",
       "      <th>23881573</th>\n",
       "      <td>270325</td>\n",
       "      <td>656722</td>\n",
       "      <td>3.0</td>\n",
       "      <td>0.0</td>\n",
       "      <td>1</td>\n",
       "    </tr>\n",
       "  </tbody>\n",
       "</table>\n",
       "<p>33978 rows × 5 columns</p>\n",
       "</div>"
      ],
      "text/plain": [
       "           node1   node2  prefAttachment  sameCommunity label\n",
       "23847596  270298  653007            57.0            0.0     1\n",
       "23847597  270298  660983            57.0            0.0     1\n",
       "23847598  270298  664265            19.0            0.0     1\n",
       "23847599  270298  655983            76.0            0.0     1\n",
       "23847600  270298  650496            76.0            0.0     1\n",
       "...          ...     ...             ...            ...   ...\n",
       "23881569  270322  655709            14.0            0.0     1\n",
       "23881570  270322  645687            42.0            0.0     1\n",
       "23881571  270322  640106            56.0            0.0     1\n",
       "23881572  270324  641422             4.0            0.0     1\n",
       "23881573  270325  656722             3.0            0.0     1\n",
       "\n",
       "[33978 rows x 5 columns]"
      ]
     },
     "execution_count": 161,
     "metadata": {},
     "output_type": "execute_result"
    }
   ],
   "source": [
    "train_existing = training_data.loc[training_data['label'] == 1]\n",
    "train_existing"
   ]
  },
  {
   "cell_type": "code",
   "execution_count": 134,
   "id": "b0b8c7e1-1c1b-43eb-83b0-e0d6ee96cf14",
   "metadata": {},
   "outputs": [
    {
     "data": {
      "text/html": [
       "<div>\n",
       "<style scoped>\n",
       "    .dataframe tbody tr th:only-of-type {\n",
       "        vertical-align: middle;\n",
       "    }\n",
       "\n",
       "    .dataframe tbody tr th {\n",
       "        vertical-align: top;\n",
       "    }\n",
       "\n",
       "    .dataframe thead th {\n",
       "        text-align: right;\n",
       "    }\n",
       "</style>\n",
       "<table border=\"1\" class=\"dataframe\">\n",
       "  <thead>\n",
       "    <tr style=\"text-align: right;\">\n",
       "      <th></th>\n",
       "      <th>node1</th>\n",
       "      <th>node2</th>\n",
       "      <th>prefAttachment</th>\n",
       "      <th>label</th>\n",
       "    </tr>\n",
       "  </thead>\n",
       "  <tbody>\n",
       "    <tr>\n",
       "      <th>18689558</th>\n",
       "      <td>270308</td>\n",
       "      <td>270299</td>\n",
       "      <td>9.252880e+06</td>\n",
       "      <td>0</td>\n",
       "    </tr>\n",
       "    <tr>\n",
       "      <th>461859</th>\n",
       "      <td>270312</td>\n",
       "      <td>270299</td>\n",
       "      <td>2.384229e+08</td>\n",
       "      <td>0</td>\n",
       "    </tr>\n",
       "    <tr>\n",
       "      <th>180529</th>\n",
       "      <td>270310</td>\n",
       "      <td>270300</td>\n",
       "      <td>5.981905e+07</td>\n",
       "      <td>0</td>\n",
       "    </tr>\n",
       "    <tr>\n",
       "      <th>16124</th>\n",
       "      <td>270300</td>\n",
       "      <td>270303</td>\n",
       "      <td>-5.073985e+08</td>\n",
       "      <td>0</td>\n",
       "    </tr>\n",
       "    <tr>\n",
       "      <th>4112</th>\n",
       "      <td>270303</td>\n",
       "      <td>270306</td>\n",
       "      <td>1.308301e+09</td>\n",
       "      <td>0</td>\n",
       "    </tr>\n",
       "    <tr>\n",
       "      <th>...</th>\n",
       "      <td>...</td>\n",
       "      <td>...</td>\n",
       "      <td>...</td>\n",
       "      <td>...</td>\n",
       "    </tr>\n",
       "    <tr>\n",
       "      <th>1100588</th>\n",
       "      <td>270315</td>\n",
       "      <td>270302</td>\n",
       "      <td>4.652530e+06</td>\n",
       "      <td>0</td>\n",
       "    </tr>\n",
       "    <tr>\n",
       "      <th>8272719</th>\n",
       "      <td>270313</td>\n",
       "      <td>270304</td>\n",
       "      <td>7.251343e+06</td>\n",
       "      <td>0</td>\n",
       "    </tr>\n",
       "    <tr>\n",
       "      <th>1656066</th>\n",
       "      <td>270299</td>\n",
       "      <td>270308</td>\n",
       "      <td>9.252880e+06</td>\n",
       "      <td>0</td>\n",
       "    </tr>\n",
       "    <tr>\n",
       "      <th>1932348</th>\n",
       "      <td>270312</td>\n",
       "      <td>270308</td>\n",
       "      <td>3.395899e+07</td>\n",
       "      <td>0</td>\n",
       "    </tr>\n",
       "    <tr>\n",
       "      <th>1932348</th>\n",
       "      <td>270312</td>\n",
       "      <td>270308</td>\n",
       "      <td>3.395899e+07</td>\n",
       "      <td>0</td>\n",
       "    </tr>\n",
       "  </tbody>\n",
       "</table>\n",
       "<p>33978 rows × 4 columns</p>\n",
       "</div>"
      ],
      "text/plain": [
       "           node1   node2  prefAttachment label\n",
       "18689558  270308  270299    9.252880e+06     0\n",
       "461859    270312  270299    2.384229e+08     0\n",
       "180529    270310  270300    5.981905e+07     0\n",
       "16124     270300  270303   -5.073985e+08     0\n",
       "4112      270303  270306    1.308301e+09     0\n",
       "...          ...     ...             ...   ...\n",
       "1100588   270315  270302    4.652530e+06     0\n",
       "8272719   270313  270304    7.251343e+06     0\n",
       "1656066   270299  270308    9.252880e+06     0\n",
       "1932348   270312  270308    3.395899e+07     0\n",
       "1932348   270312  270308    3.395899e+07     0\n",
       "\n",
       "[33978 rows x 4 columns]"
      ]
     },
     "execution_count": 134,
     "metadata": {},
     "output_type": "execute_result"
    }
   ],
   "source": [
    "train_missing = training_data.loc[training_data['label'] == 0]\n",
    "train_missing = resample(train_missing,n_samples=33978)\n",
    "train_missing"
   ]
  },
  {
   "cell_type": "code",
   "execution_count": 135,
   "id": "6f7dcd59-13b7-442d-a372-297b102f503e",
   "metadata": {},
   "outputs": [],
   "source": [
    "training_data = train_missing.append(train_existing, ignore_index=True)"
   ]
  },
  {
   "cell_type": "code",
   "execution_count": 136,
   "id": "4984ab87-59e7-472a-a0d1-6b412e00946a",
   "metadata": {},
   "outputs": [
    {
     "data": {
      "text/plain": [
       "0"
      ]
     },
     "execution_count": 136,
     "metadata": {},
     "output_type": "execute_result"
    }
   ],
   "source": [
    "training_data.prefAttachment.isna().sum()"
   ]
  },
  {
   "cell_type": "code",
   "execution_count": 137,
   "id": "b345b366-6d28-43e6-8b58-239f1d9c2762",
   "metadata": {},
   "outputs": [
    {
     "data": {
      "text/plain": [
       "label\n",
       "0    33978\n",
       "1    33978\n",
       "Name: node1, dtype: int64"
      ]
     },
     "execution_count": 137,
     "metadata": {},
     "output_type": "execute_result"
    }
   ],
   "source": [
    "training_data.groupby('label').count()['node1']"
   ]
  },
  {
   "cell_type": "code",
   "execution_count": 138,
   "id": "9baccde5-0448-484a-83f2-52d4dc30a973",
   "metadata": {},
   "outputs": [
    {
     "data": {
      "text/html": [
       "<div>\n",
       "<style scoped>\n",
       "    .dataframe tbody tr th:only-of-type {\n",
       "        vertical-align: middle;\n",
       "    }\n",
       "\n",
       "    .dataframe tbody tr th {\n",
       "        vertical-align: top;\n",
       "    }\n",
       "\n",
       "    .dataframe thead th {\n",
       "        text-align: right;\n",
       "    }\n",
       "</style>\n",
       "<table border=\"1\" class=\"dataframe\">\n",
       "  <thead>\n",
       "    <tr style=\"text-align: right;\">\n",
       "      <th></th>\n",
       "      <th>node1</th>\n",
       "      <th>node2</th>\n",
       "      <th>prefAttachment</th>\n",
       "      <th>label</th>\n",
       "    </tr>\n",
       "  </thead>\n",
       "  <tbody>\n",
       "    <tr>\n",
       "      <th>3372328</th>\n",
       "      <td>270298</td>\n",
       "      <td>640355</td>\n",
       "      <td>118881.0</td>\n",
       "      <td>1</td>\n",
       "    </tr>\n",
       "    <tr>\n",
       "      <th>3372329</th>\n",
       "      <td>270298</td>\n",
       "      <td>692107</td>\n",
       "      <td>32634.0</td>\n",
       "      <td>1</td>\n",
       "    </tr>\n",
       "    <tr>\n",
       "      <th>3372330</th>\n",
       "      <td>270298</td>\n",
       "      <td>641273</td>\n",
       "      <td>232323.0</td>\n",
       "      <td>1</td>\n",
       "    </tr>\n",
       "    <tr>\n",
       "      <th>3372331</th>\n",
       "      <td>270298</td>\n",
       "      <td>684124</td>\n",
       "      <td>7770.0</td>\n",
       "      <td>1</td>\n",
       "    </tr>\n",
       "    <tr>\n",
       "      <th>3372332</th>\n",
       "      <td>270298</td>\n",
       "      <td>660442</td>\n",
       "      <td>94794.0</td>\n",
       "      <td>1</td>\n",
       "    </tr>\n",
       "    <tr>\n",
       "      <th>...</th>\n",
       "      <td>...</td>\n",
       "      <td>...</td>\n",
       "      <td>...</td>\n",
       "      <td>...</td>\n",
       "    </tr>\n",
       "    <tr>\n",
       "      <th>3386159</th>\n",
       "      <td>270318</td>\n",
       "      <td>643066</td>\n",
       "      <td>5016.0</td>\n",
       "      <td>1</td>\n",
       "    </tr>\n",
       "    <tr>\n",
       "      <th>3386160</th>\n",
       "      <td>270320</td>\n",
       "      <td>642610</td>\n",
       "      <td>8512.0</td>\n",
       "      <td>1</td>\n",
       "    </tr>\n",
       "    <tr>\n",
       "      <th>3386161</th>\n",
       "      <td>270320</td>\n",
       "      <td>644569</td>\n",
       "      <td>11144.0</td>\n",
       "      <td>1</td>\n",
       "    </tr>\n",
       "    <tr>\n",
       "      <th>3386162</th>\n",
       "      <td>270320</td>\n",
       "      <td>641273</td>\n",
       "      <td>16744.0</td>\n",
       "      <td>1</td>\n",
       "    </tr>\n",
       "    <tr>\n",
       "      <th>3386163</th>\n",
       "      <td>270322</td>\n",
       "      <td>668679</td>\n",
       "      <td>6723.0</td>\n",
       "      <td>1</td>\n",
       "    </tr>\n",
       "  </tbody>\n",
       "</table>\n",
       "<p>13836 rows × 4 columns</p>\n",
       "</div>"
      ],
      "text/plain": [
       "          node1   node2  prefAttachment label\n",
       "3372328  270298  640355        118881.0     1\n",
       "3372329  270298  692107         32634.0     1\n",
       "3372330  270298  641273        232323.0     1\n",
       "3372331  270298  684124          7770.0     1\n",
       "3372332  270298  660442         94794.0     1\n",
       "...         ...     ...             ...   ...\n",
       "3386159  270318  643066          5016.0     1\n",
       "3386160  270320  642610          8512.0     1\n",
       "3386161  270320  644569         11144.0     1\n",
       "3386162  270320  641273         16744.0     1\n",
       "3386163  270322  668679          6723.0     1\n",
       "\n",
       "[13836 rows x 4 columns]"
      ]
     },
     "execution_count": 138,
     "metadata": {},
     "output_type": "execute_result"
    }
   ],
   "source": [
    "test_existing = test_data.loc[test_data['label'] == 1]\n",
    "test_existing"
   ]
  },
  {
   "cell_type": "code",
   "execution_count": 139,
   "id": "f834958a-2854-4f39-9b5c-ccedd8ef6ac0",
   "metadata": {},
   "outputs": [
    {
     "data": {
      "text/html": [
       "<div>\n",
       "<style scoped>\n",
       "    .dataframe tbody tr th:only-of-type {\n",
       "        vertical-align: middle;\n",
       "    }\n",
       "\n",
       "    .dataframe tbody tr th {\n",
       "        vertical-align: top;\n",
       "    }\n",
       "\n",
       "    .dataframe thead th {\n",
       "        text-align: right;\n",
       "    }\n",
       "</style>\n",
       "<table border=\"1\" class=\"dataframe\">\n",
       "  <thead>\n",
       "    <tr style=\"text-align: right;\">\n",
       "      <th></th>\n",
       "      <th>node1</th>\n",
       "      <th>node2</th>\n",
       "      <th>prefAttachment</th>\n",
       "      <th>label</th>\n",
       "    </tr>\n",
       "  </thead>\n",
       "  <tbody>\n",
       "    <tr>\n",
       "      <th>10708</th>\n",
       "      <td>270307</td>\n",
       "      <td>270301</td>\n",
       "      <td>8.054219e+08</td>\n",
       "      <td>0</td>\n",
       "    </tr>\n",
       "    <tr>\n",
       "      <th>200745</th>\n",
       "      <td>270299</td>\n",
       "      <td>270306</td>\n",
       "      <td>9.889620e+07</td>\n",
       "      <td>0</td>\n",
       "    </tr>\n",
       "    <tr>\n",
       "      <th>13335</th>\n",
       "      <td>270307</td>\n",
       "      <td>270300</td>\n",
       "      <td>7.254658e+08</td>\n",
       "      <td>0</td>\n",
       "    </tr>\n",
       "    <tr>\n",
       "      <th>20458</th>\n",
       "      <td>270305</td>\n",
       "      <td>270299</td>\n",
       "      <td>4.370857e+08</td>\n",
       "      <td>0</td>\n",
       "    </tr>\n",
       "    <tr>\n",
       "      <th>697008</th>\n",
       "      <td>270311</td>\n",
       "      <td>270304</td>\n",
       "      <td>7.758052e+07</td>\n",
       "      <td>0</td>\n",
       "    </tr>\n",
       "    <tr>\n",
       "      <th>...</th>\n",
       "      <td>...</td>\n",
       "      <td>...</td>\n",
       "      <td>...</td>\n",
       "      <td>...</td>\n",
       "    </tr>\n",
       "    <tr>\n",
       "      <th>351335</th>\n",
       "      <td>270313</td>\n",
       "      <td>270304</td>\n",
       "      <td>7.251343e+06</td>\n",
       "      <td>0</td>\n",
       "    </tr>\n",
       "    <tr>\n",
       "      <th>0</th>\n",
       "      <td>270300</td>\n",
       "      <td>270309</td>\n",
       "      <td>1.169668e+09</td>\n",
       "      <td>0</td>\n",
       "    </tr>\n",
       "    <tr>\n",
       "      <th>624286</th>\n",
       "      <td>270298</td>\n",
       "      <td>270300</td>\n",
       "      <td>2.760059e+07</td>\n",
       "      <td>0</td>\n",
       "    </tr>\n",
       "    <tr>\n",
       "      <th>725209</th>\n",
       "      <td>270310</td>\n",
       "      <td>270309</td>\n",
       "      <td>5.545075e+07</td>\n",
       "      <td>0</td>\n",
       "    </tr>\n",
       "    <tr>\n",
       "      <th>324799</th>\n",
       "      <td>270299</td>\n",
       "      <td>270311</td>\n",
       "      <td>6.355310e+07</td>\n",
       "      <td>0</td>\n",
       "    </tr>\n",
       "  </tbody>\n",
       "</table>\n",
       "<p>13836 rows × 4 columns</p>\n",
       "</div>"
      ],
      "text/plain": [
       "         node1   node2  prefAttachment label\n",
       "10708   270307  270301    8.054219e+08     0\n",
       "200745  270299  270306    9.889620e+07     0\n",
       "13335   270307  270300    7.254658e+08     0\n",
       "20458   270305  270299    4.370857e+08     0\n",
       "697008  270311  270304    7.758052e+07     0\n",
       "...        ...     ...             ...   ...\n",
       "351335  270313  270304    7.251343e+06     0\n",
       "0       270300  270309    1.169668e+09     0\n",
       "624286  270298  270300    2.760059e+07     0\n",
       "725209  270310  270309    5.545075e+07     0\n",
       "324799  270299  270311    6.355310e+07     0\n",
       "\n",
       "[13836 rows x 4 columns]"
      ]
     },
     "execution_count": 139,
     "metadata": {},
     "output_type": "execute_result"
    }
   ],
   "source": [
    "test_missing = test_data.loc[test_data['label'] == 0]\n",
    "test_missing = resample(test_missing,n_samples=13836)\n",
    "test_missing"
   ]
  },
  {
   "cell_type": "code",
   "execution_count": 140,
   "id": "6e1c797d-8bc3-40b4-bb67-66730a011a8d",
   "metadata": {},
   "outputs": [],
   "source": [
    "test_data = test_missing.append(test_existing, ignore_index=True)"
   ]
  },
  {
   "cell_type": "code",
   "execution_count": 141,
   "id": "16a10ede-cf6a-4c7c-b465-d6852af26d36",
   "metadata": {},
   "outputs": [
    {
     "data": {
      "text/plain": [
       "0"
      ]
     },
     "execution_count": 141,
     "metadata": {},
     "output_type": "execute_result"
    }
   ],
   "source": [
    "test_data.prefAttachment.isna().sum()"
   ]
  },
  {
   "cell_type": "code",
   "execution_count": 142,
   "id": "7208e6ea-5284-4380-add4-24477828e0c5",
   "metadata": {},
   "outputs": [
    {
     "data": {
      "text/plain": [
       "label\n",
       "0    13836\n",
       "1    13836\n",
       "Name: node1, dtype: int64"
      ]
     },
     "execution_count": 142,
     "metadata": {},
     "output_type": "execute_result"
    }
   ],
   "source": [
    "test_data.groupby('label').count()['node1']"
   ]
  },
  {
   "cell_type": "code",
   "execution_count": 143,
   "id": "7fcbd150-7a91-4201-8395-a4ba7947d83d",
   "metadata": {},
   "outputs": [],
   "source": [
    "clf=RandomForestClassifier(n_estimators=30)"
   ]
  },
  {
   "cell_type": "code",
   "execution_count": 144,
   "id": "99abf513-ccce-4563-ba20-ce5b31701e96",
   "metadata": {},
   "outputs": [
    {
     "data": {
      "text/html": [
       "<div>\n",
       "<style scoped>\n",
       "    .dataframe tbody tr th:only-of-type {\n",
       "        vertical-align: middle;\n",
       "    }\n",
       "\n",
       "    .dataframe tbody tr th {\n",
       "        vertical-align: top;\n",
       "    }\n",
       "\n",
       "    .dataframe thead th {\n",
       "        text-align: right;\n",
       "    }\n",
       "</style>\n",
       "<table border=\"1\" class=\"dataframe\">\n",
       "  <thead>\n",
       "    <tr style=\"text-align: right;\">\n",
       "      <th></th>\n",
       "      <th>node1</th>\n",
       "      <th>node2</th>\n",
       "      <th>prefAttachment</th>\n",
       "    </tr>\n",
       "  </thead>\n",
       "  <tbody>\n",
       "    <tr>\n",
       "      <th>0</th>\n",
       "      <td>270308</td>\n",
       "      <td>270299</td>\n",
       "      <td>9.252880e+06</td>\n",
       "    </tr>\n",
       "    <tr>\n",
       "      <th>1</th>\n",
       "      <td>270312</td>\n",
       "      <td>270299</td>\n",
       "      <td>2.384229e+08</td>\n",
       "    </tr>\n",
       "    <tr>\n",
       "      <th>2</th>\n",
       "      <td>270310</td>\n",
       "      <td>270300</td>\n",
       "      <td>5.981905e+07</td>\n",
       "    </tr>\n",
       "    <tr>\n",
       "      <th>3</th>\n",
       "      <td>270300</td>\n",
       "      <td>270303</td>\n",
       "      <td>-5.073985e+08</td>\n",
       "    </tr>\n",
       "    <tr>\n",
       "      <th>4</th>\n",
       "      <td>270303</td>\n",
       "      <td>270306</td>\n",
       "      <td>1.308301e+09</td>\n",
       "    </tr>\n",
       "    <tr>\n",
       "      <th>...</th>\n",
       "      <td>...</td>\n",
       "      <td>...</td>\n",
       "      <td>...</td>\n",
       "    </tr>\n",
       "    <tr>\n",
       "      <th>67951</th>\n",
       "      <td>270322</td>\n",
       "      <td>655709</td>\n",
       "      <td>7.533000e+03</td>\n",
       "    </tr>\n",
       "    <tr>\n",
       "      <th>67952</th>\n",
       "      <td>270322</td>\n",
       "      <td>645687</td>\n",
       "      <td>1.433700e+04</td>\n",
       "    </tr>\n",
       "    <tr>\n",
       "      <th>67953</th>\n",
       "      <td>270322</td>\n",
       "      <td>640106</td>\n",
       "      <td>1.109700e+04</td>\n",
       "    </tr>\n",
       "    <tr>\n",
       "      <th>67954</th>\n",
       "      <td>270324</td>\n",
       "      <td>641422</td>\n",
       "      <td>2.943000e+03</td>\n",
       "    </tr>\n",
       "    <tr>\n",
       "      <th>67955</th>\n",
       "      <td>270325</td>\n",
       "      <td>656722</td>\n",
       "      <td>1.911000e+03</td>\n",
       "    </tr>\n",
       "  </tbody>\n",
       "</table>\n",
       "<p>67956 rows × 3 columns</p>\n",
       "</div>"
      ],
      "text/plain": [
       "        node1   node2  prefAttachment\n",
       "0      270308  270299    9.252880e+06\n",
       "1      270312  270299    2.384229e+08\n",
       "2      270310  270300    5.981905e+07\n",
       "3      270300  270303   -5.073985e+08\n",
       "4      270303  270306    1.308301e+09\n",
       "...       ...     ...             ...\n",
       "67951  270322  655709    7.533000e+03\n",
       "67952  270322  645687    1.433700e+04\n",
       "67953  270322  640106    1.109700e+04\n",
       "67954  270324  641422    2.943000e+03\n",
       "67955  270325  656722    1.911000e+03\n",
       "\n",
       "[67956 rows x 3 columns]"
      ]
     },
     "execution_count": 144,
     "metadata": {},
     "output_type": "execute_result"
    }
   ],
   "source": [
    "X_train = training_data[['node1','node2','prefAttachment']]\n",
    "X_train"
   ]
  },
  {
   "cell_type": "code",
   "execution_count": 145,
   "id": "7af7ffdd-4b9d-4bb7-a3bc-2521f6db0922",
   "metadata": {},
   "outputs": [
    {
     "data": {
      "text/plain": [
       "0        0\n",
       "1        0\n",
       "2        0\n",
       "3        0\n",
       "4        0\n",
       "        ..\n",
       "67951    1\n",
       "67952    1\n",
       "67953    1\n",
       "67954    1\n",
       "67955    1\n",
       "Name: label, Length: 67956, dtype: category\n",
       "Categories (2, int64): [0, 1]"
      ]
     },
     "execution_count": 145,
     "metadata": {},
     "output_type": "execute_result"
    }
   ],
   "source": [
    "y_train = training_data['label']\n",
    "y_train"
   ]
  },
  {
   "cell_type": "code",
   "execution_count": 146,
   "id": "71217d22-39b3-40d7-bcd2-a09b5f64c754",
   "metadata": {},
   "outputs": [
    {
     "data": {
      "text/plain": [
       "RandomForestClassifier(n_estimators=30)"
      ]
     },
     "execution_count": 146,
     "metadata": {},
     "output_type": "execute_result"
    }
   ],
   "source": [
    "clf.fit(X_train, y_train)"
   ]
  },
  {
   "cell_type": "code",
   "execution_count": 147,
   "id": "cb037a0d-6dd0-4813-9e77-ff7d9a5e228e",
   "metadata": {},
   "outputs": [
    {
     "data": {
      "text/html": [
       "<div>\n",
       "<style scoped>\n",
       "    .dataframe tbody tr th:only-of-type {\n",
       "        vertical-align: middle;\n",
       "    }\n",
       "\n",
       "    .dataframe tbody tr th {\n",
       "        vertical-align: top;\n",
       "    }\n",
       "\n",
       "    .dataframe thead th {\n",
       "        text-align: right;\n",
       "    }\n",
       "</style>\n",
       "<table border=\"1\" class=\"dataframe\">\n",
       "  <thead>\n",
       "    <tr style=\"text-align: right;\">\n",
       "      <th></th>\n",
       "      <th>node1</th>\n",
       "      <th>node2</th>\n",
       "      <th>prefAttachment</th>\n",
       "    </tr>\n",
       "  </thead>\n",
       "  <tbody>\n",
       "    <tr>\n",
       "      <th>0</th>\n",
       "      <td>270307</td>\n",
       "      <td>270301</td>\n",
       "      <td>805421851.0</td>\n",
       "    </tr>\n",
       "    <tr>\n",
       "      <th>1</th>\n",
       "      <td>270299</td>\n",
       "      <td>270306</td>\n",
       "      <td>98896200.0</td>\n",
       "    </tr>\n",
       "    <tr>\n",
       "      <th>2</th>\n",
       "      <td>270307</td>\n",
       "      <td>270300</td>\n",
       "      <td>725465806.0</td>\n",
       "    </tr>\n",
       "    <tr>\n",
       "      <th>3</th>\n",
       "      <td>270305</td>\n",
       "      <td>270299</td>\n",
       "      <td>437085740.0</td>\n",
       "    </tr>\n",
       "    <tr>\n",
       "      <th>4</th>\n",
       "      <td>270311</td>\n",
       "      <td>270304</td>\n",
       "      <td>77580515.0</td>\n",
       "    </tr>\n",
       "    <tr>\n",
       "      <th>...</th>\n",
       "      <td>...</td>\n",
       "      <td>...</td>\n",
       "      <td>...</td>\n",
       "    </tr>\n",
       "    <tr>\n",
       "      <th>27667</th>\n",
       "      <td>270318</td>\n",
       "      <td>643066</td>\n",
       "      <td>5016.0</td>\n",
       "    </tr>\n",
       "    <tr>\n",
       "      <th>27668</th>\n",
       "      <td>270320</td>\n",
       "      <td>642610</td>\n",
       "      <td>8512.0</td>\n",
       "    </tr>\n",
       "    <tr>\n",
       "      <th>27669</th>\n",
       "      <td>270320</td>\n",
       "      <td>644569</td>\n",
       "      <td>11144.0</td>\n",
       "    </tr>\n",
       "    <tr>\n",
       "      <th>27670</th>\n",
       "      <td>270320</td>\n",
       "      <td>641273</td>\n",
       "      <td>16744.0</td>\n",
       "    </tr>\n",
       "    <tr>\n",
       "      <th>27671</th>\n",
       "      <td>270322</td>\n",
       "      <td>668679</td>\n",
       "      <td>6723.0</td>\n",
       "    </tr>\n",
       "  </tbody>\n",
       "</table>\n",
       "<p>27672 rows × 3 columns</p>\n",
       "</div>"
      ],
      "text/plain": [
       "        node1   node2  prefAttachment\n",
       "0      270307  270301     805421851.0\n",
       "1      270299  270306      98896200.0\n",
       "2      270307  270300     725465806.0\n",
       "3      270305  270299     437085740.0\n",
       "4      270311  270304      77580515.0\n",
       "...       ...     ...             ...\n",
       "27667  270318  643066          5016.0\n",
       "27668  270320  642610          8512.0\n",
       "27669  270320  644569         11144.0\n",
       "27670  270320  641273         16744.0\n",
       "27671  270322  668679          6723.0\n",
       "\n",
       "[27672 rows x 3 columns]"
      ]
     },
     "execution_count": 147,
     "metadata": {},
     "output_type": "execute_result"
    }
   ],
   "source": [
    "X_test = test_data[['node1','node2','prefAttachment']]\n",
    "X_test"
   ]
  },
  {
   "cell_type": "code",
   "execution_count": 148,
   "id": "d49024af-443d-4e0b-b0cb-b5276034ffa9",
   "metadata": {},
   "outputs": [
    {
     "data": {
      "text/plain": [
       "0        0\n",
       "1        0\n",
       "2        0\n",
       "3        0\n",
       "4        0\n",
       "        ..\n",
       "27667    1\n",
       "27668    1\n",
       "27669    1\n",
       "27670    1\n",
       "27671    1\n",
       "Name: label, Length: 27672, dtype: category\n",
       "Categories (2, int64): [0, 1]"
      ]
     },
     "execution_count": 148,
     "metadata": {},
     "output_type": "execute_result"
    }
   ],
   "source": [
    "y_test = test_data['label']\n",
    "y_test"
   ]
  },
  {
   "cell_type": "code",
   "execution_count": 149,
   "id": "37bc14a9-2add-4537-bde6-66d42936a283",
   "metadata": {},
   "outputs": [],
   "source": [
    "y_pred = clf.predict(X_test)"
   ]
  },
  {
   "cell_type": "code",
   "execution_count": 150,
   "id": "e9f52e99-c247-489a-ad24-0c54868a64d3",
   "metadata": {},
   "outputs": [],
   "source": [
    "from sklearn import metrics"
   ]
  },
  {
   "cell_type": "code",
   "execution_count": 151,
   "id": "538ee517-0754-461f-9bed-2fe32544683b",
   "metadata": {},
   "outputs": [
    {
     "name": "stdout",
     "output_type": "stream",
     "text": [
      "Accuracy: 1.0\n"
     ]
    }
   ],
   "source": [
    "print(\"Accuracy:\",metrics.accuracy_score(y_test, y_pred))"
   ]
  },
  {
   "cell_type": "code",
   "execution_count": 152,
   "id": "5e506923-f1f9-433e-8f4a-8bf6fc95381f",
   "metadata": {},
   "outputs": [
    {
     "name": "stdout",
     "output_type": "stream",
     "text": [
      "Accuracy: [[13836     0]\n",
      " [    0 13836]]\n"
     ]
    }
   ],
   "source": [
    "print(\"Accuracy:\",metrics.confusion_matrix(y_test, y_pred))"
   ]
  },
  {
   "cell_type": "code",
   "execution_count": 153,
   "id": "ae968c7f-3bc2-43b1-a071-7a02e157406d",
   "metadata": {},
   "outputs": [
    {
     "data": {
      "text/plain": [
       "[1, 1, 0, 1, 1]"
      ]
     },
     "execution_count": 153,
     "metadata": {},
     "output_type": "execute_result"
    }
   ],
   "source": [
    "y = [0, 0, 1, 1, 1, 1, 1, 1, 1]\n",
    "resample(y, n_samples=5, replace=False,random_state=0)"
   ]
  },
  {
   "cell_type": "code",
   "execution_count": null,
   "id": "6a8a648a-f12b-4737-924f-5a700237c532",
   "metadata": {},
   "outputs": [],
   "source": []
  }
 ],
 "metadata": {
  "kernelspec": {
   "display_name": "Python 3",
   "language": "python",
   "name": "python3"
  },
  "language_info": {
   "codemirror_mode": {
    "name": "ipython",
    "version": 3
   },
   "file_extension": ".py",
   "mimetype": "text/x-python",
   "name": "python",
   "nbconvert_exporter": "python",
   "pygments_lexer": "ipython3",
   "version": "3.8.5"
  }
 },
 "nbformat": 4,
 "nbformat_minor": 5
}
