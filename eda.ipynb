{
 "cells": [
  {
   "cell_type": "code",
   "execution_count": 1,
   "metadata": {
    "tags": []
   },
   "outputs": [],
   "source": [
    "import pandas as pd"
   ]
  },
  {
   "cell_type": "code",
   "execution_count": 2,
   "metadata": {},
   "outputs": [],
   "source": [
    "pd.set_option('display.max_columns', None)"
   ]
  },
  {
   "cell_type": "code",
   "execution_count": 3,
   "metadata": {
    "collapsed": false,
    "jupyter": {
     "outputs_hidden": false
    },
    "pycharm": {
     "name": "#%%\n"
    }
   },
   "outputs": [],
   "source": [
    "# year to date data\n",
    "ytd = pd.read_csv('data/NYPD_Complaint_Data_Current__Year_To_Date_.csv')"
   ]
  },
  {
   "cell_type": "code",
   "execution_count": 4,
   "metadata": {
    "collapsed": false,
    "jupyter": {
     "outputs_hidden": false
    },
    "pycharm": {
     "name": "#%%\n"
    }
   },
   "outputs": [
    {
     "name": "stdout",
     "output_type": "stream",
     "text": [
      "<class 'pandas.core.frame.DataFrame'>\n",
      "RangeIndex: 96734 entries, 0 to 96733\n",
      "Data columns (total 36 columns):\n",
      " #   Column                    Non-Null Count  Dtype  \n",
      "---  ------                    --------------  -----  \n",
      " 0   CMPLNT_NUM                96734 non-null  int64  \n",
      " 1   ADDR_PCT_CD               96734 non-null  int64  \n",
      " 2   BORO_NM                   96632 non-null  object \n",
      " 3   CMPLNT_FR_DT              96734 non-null  object \n",
      " 4   CMPLNT_FR_TM              96734 non-null  object \n",
      " 5   CMPLNT_TO_DT              88039 non-null  object \n",
      " 6   CMPLNT_TO_TM              88067 non-null  object \n",
      " 7   CRM_ATPT_CPTD_CD          96682 non-null  object \n",
      " 8   HADEVELOPT                395 non-null    object \n",
      " 9   HOUSING_PSA               7868 non-null   float64\n",
      " 10  JURISDICTION_CODE         96646 non-null  float64\n",
      " 11  JURIS_DESC                96734 non-null  object \n",
      " 12  KY_CD                     96734 non-null  int64  \n",
      " 13  LAW_CAT_CD                96734 non-null  object \n",
      " 14  LOC_OF_OCCUR_DESC         81791 non-null  object \n",
      " 15  OFNS_DESC                 96731 non-null  object \n",
      " 16  PARKS_NM                  352 non-null    object \n",
      " 17  PATROL_BORO               96646 non-null  object \n",
      " 18  PD_CD                     96646 non-null  float64\n",
      " 19  PD_DESC                   96646 non-null  object \n",
      " 20  PREM_TYP_DESC             96462 non-null  object \n",
      " 21  RPT_DT                    96734 non-null  object \n",
      " 22  STATION_NAME              1939 non-null   object \n",
      " 23  SUSP_AGE_GROUP            76359 non-null  object \n",
      " 24  SUSP_RACE                 76359 non-null  object \n",
      " 25  SUSP_SEX                  76359 non-null  object \n",
      " 26  TRANSIT_DISTRICT          1939 non-null   float64\n",
      " 27  VIC_AGE_GROUP             96734 non-null  object \n",
      " 28  VIC_RACE                  96731 non-null  object \n",
      " 29  VIC_SEX                   96734 non-null  object \n",
      " 30  X_COORD_CD                96734 non-null  int64  \n",
      " 31  Y_COORD_CD                96734 non-null  int64  \n",
      " 32  Latitude                  96734 non-null  float64\n",
      " 33  Longitude                 96734 non-null  float64\n",
      " 34  Lat_Lon                   96734 non-null  object \n",
      " 35  New Georeferenced Column  96734 non-null  object \n",
      "dtypes: float64(6), int64(5), object(25)\n",
      "memory usage: 26.6+ MB\n"
     ]
    }
   ],
   "source": [
    "ytd.info()"
   ]
  },
  {
   "cell_type": "code",
   "execution_count": 5,
   "metadata": {},
   "outputs": [],
   "source": [
    "# remove this column because it isn't in the historical and is redundant\n",
    "ytd.drop(['New Georeferenced Column'], axis=1, inplace=True)"
   ]
  },
  {
   "cell_type": "code",
   "execution_count": 6,
   "metadata": {},
   "outputs": [],
   "source": [
    "# historical dataset\n",
    "hist = pd.read_csv('data/NYPD_Complaint_Data_Historic.csv')"
   ]
  },
  {
   "cell_type": "code",
   "execution_count": 7,
   "metadata": {},
   "outputs": [],
   "source": [
    "# combine two datasets\n",
    "complaints = pd.concat([ytd, hist])"
   ]
  },
  {
   "cell_type": "code",
   "execution_count": 8,
   "metadata": {},
   "outputs": [],
   "source": [
    "complaints['CMPLNT_DATE'] = pd.to_datetime(complaints['CMPLNT_FR_DT'], format='%m/%d/%Y')"
   ]
  },
  {
   "cell_type": "code",
   "execution_count": 9,
   "metadata": {},
   "outputs": [
    {
     "data": {
      "text/plain": [
       "(959169, 36)"
      ]
     },
     "execution_count": 9,
     "metadata": {},
     "output_type": "execute_result"
    }
   ],
   "source": [
    "complaints.shape"
   ]
  },
  {
   "cell_type": "code",
   "execution_count": 10,
   "metadata": {},
   "outputs": [
    {
     "data": {
      "text/html": [
       "<div>\n",
       "<style scoped>\n",
       "    .dataframe tbody tr th:only-of-type {\n",
       "        vertical-align: middle;\n",
       "    }\n",
       "\n",
       "    .dataframe tbody tr th {\n",
       "        vertical-align: top;\n",
       "    }\n",
       "\n",
       "    .dataframe thead th {\n",
       "        text-align: right;\n",
       "    }\n",
       "</style>\n",
       "<table border=\"1\" class=\"dataframe\">\n",
       "  <thead>\n",
       "    <tr style=\"text-align: right;\">\n",
       "      <th></th>\n",
       "      <th>CMPLNT_NUM</th>\n",
       "      <th>ADDR_PCT_CD</th>\n",
       "      <th>BORO_NM</th>\n",
       "      <th>CMPLNT_FR_DT</th>\n",
       "      <th>CMPLNT_FR_TM</th>\n",
       "      <th>CMPLNT_TO_DT</th>\n",
       "      <th>CMPLNT_TO_TM</th>\n",
       "      <th>CRM_ATPT_CPTD_CD</th>\n",
       "      <th>HADEVELOPT</th>\n",
       "      <th>HOUSING_PSA</th>\n",
       "      <th>JURISDICTION_CODE</th>\n",
       "      <th>JURIS_DESC</th>\n",
       "      <th>KY_CD</th>\n",
       "      <th>LAW_CAT_CD</th>\n",
       "      <th>LOC_OF_OCCUR_DESC</th>\n",
       "      <th>OFNS_DESC</th>\n",
       "      <th>PARKS_NM</th>\n",
       "      <th>PATROL_BORO</th>\n",
       "      <th>PD_CD</th>\n",
       "      <th>PD_DESC</th>\n",
       "      <th>PREM_TYP_DESC</th>\n",
       "      <th>RPT_DT</th>\n",
       "      <th>STATION_NAME</th>\n",
       "      <th>SUSP_AGE_GROUP</th>\n",
       "      <th>SUSP_RACE</th>\n",
       "      <th>SUSP_SEX</th>\n",
       "      <th>TRANSIT_DISTRICT</th>\n",
       "      <th>VIC_AGE_GROUP</th>\n",
       "      <th>VIC_RACE</th>\n",
       "      <th>VIC_SEX</th>\n",
       "      <th>X_COORD_CD</th>\n",
       "      <th>Y_COORD_CD</th>\n",
       "      <th>Latitude</th>\n",
       "      <th>Longitude</th>\n",
       "      <th>Lat_Lon</th>\n",
       "      <th>CMPLNT_DATE</th>\n",
       "    </tr>\n",
       "  </thead>\n",
       "  <tbody>\n",
       "    <tr>\n",
       "      <th>0</th>\n",
       "      <td>825041611</td>\n",
       "      <td>84</td>\n",
       "      <td>BROOKLYN</td>\n",
       "      <td>03/31/2021</td>\n",
       "      <td>15:08:00</td>\n",
       "      <td>03/31/2021</td>\n",
       "      <td>15:12:00</td>\n",
       "      <td>COMPLETED</td>\n",
       "      <td>NaN</td>\n",
       "      <td>NaN</td>\n",
       "      <td>0.0</td>\n",
       "      <td>N.Y. POLICE DEPT</td>\n",
       "      <td>675</td>\n",
       "      <td>VIOLATION</td>\n",
       "      <td>NaN</td>\n",
       "      <td>ADMINISTRATIVE CODE</td>\n",
       "      <td>NaN</td>\n",
       "      <td>PATROL BORO BKLYN NORTH</td>\n",
       "      <td>874.0</td>\n",
       "      <td>PEDDLING,UNLAWFUL</td>\n",
       "      <td>STREET</td>\n",
       "      <td>03/31/2021</td>\n",
       "      <td>NaN</td>\n",
       "      <td>25-44</td>\n",
       "      <td>BLACK</td>\n",
       "      <td>M</td>\n",
       "      <td>NaN</td>\n",
       "      <td>UNKNOWN</td>\n",
       "      <td>UNKNOWN</td>\n",
       "      <td>E</td>\n",
       "      <td>988041</td>\n",
       "      <td>191045</td>\n",
       "      <td>40.691059</td>\n",
       "      <td>-73.986331</td>\n",
       "      <td>(40.69105856700002, -73.98633121699999)</td>\n",
       "      <td>2021-03-31</td>\n",
       "    </tr>\n",
       "    <tr>\n",
       "      <th>1</th>\n",
       "      <td>206649900</td>\n",
       "      <td>7</td>\n",
       "      <td>NaN</td>\n",
       "      <td>03/27/2021</td>\n",
       "      <td>19:29:00</td>\n",
       "      <td>NaN</td>\n",
       "      <td>NaN</td>\n",
       "      <td>NaN</td>\n",
       "      <td>NaN</td>\n",
       "      <td>NaN</td>\n",
       "      <td>0.0</td>\n",
       "      <td>N.Y. POLICE DEPT</td>\n",
       "      <td>341</td>\n",
       "      <td>MISDEMEANOR</td>\n",
       "      <td>NaN</td>\n",
       "      <td>PETIT LARCENY</td>\n",
       "      <td>NaN</td>\n",
       "      <td>PATROL BORO MAN SOUTH</td>\n",
       "      <td>333.0</td>\n",
       "      <td>LARCENY,PETIT FROM STORE-SHOPL</td>\n",
       "      <td>NaN</td>\n",
       "      <td>03/28/2021</td>\n",
       "      <td>NaN</td>\n",
       "      <td>NaN</td>\n",
       "      <td>NaN</td>\n",
       "      <td>NaN</td>\n",
       "      <td>NaN</td>\n",
       "      <td>25-44</td>\n",
       "      <td>WHITE HISPANIC</td>\n",
       "      <td>D</td>\n",
       "      <td>987818</td>\n",
       "      <td>200162</td>\n",
       "      <td>40.716083</td>\n",
       "      <td>-73.987131</td>\n",
       "      <td>(40.71608268700004, -73.98713051799997)</td>\n",
       "      <td>2021-03-27</td>\n",
       "    </tr>\n",
       "    <tr>\n",
       "      <th>2</th>\n",
       "      <td>294801329</td>\n",
       "      <td>75</td>\n",
       "      <td>NaN</td>\n",
       "      <td>03/27/2021</td>\n",
       "      <td>13:00:00</td>\n",
       "      <td>NaN</td>\n",
       "      <td>NaN</td>\n",
       "      <td>COMPLETED</td>\n",
       "      <td>NaN</td>\n",
       "      <td>NaN</td>\n",
       "      <td>NaN</td>\n",
       "      <td>N.Y. POLICE DEPT</td>\n",
       "      <td>101</td>\n",
       "      <td>FELONY</td>\n",
       "      <td>OUTSIDE</td>\n",
       "      <td>MURDER &amp; NON-NEGL. MANSLAUGHTER</td>\n",
       "      <td>NaN</td>\n",
       "      <td>NaN</td>\n",
       "      <td>NaN</td>\n",
       "      <td>NaN</td>\n",
       "      <td>NaN</td>\n",
       "      <td>03/27/2021</td>\n",
       "      <td>NaN</td>\n",
       "      <td>25-44</td>\n",
       "      <td>BLACK</td>\n",
       "      <td>M</td>\n",
       "      <td>NaN</td>\n",
       "      <td>25-44</td>\n",
       "      <td>BLACK</td>\n",
       "      <td>M</td>\n",
       "      <td>1018889</td>\n",
       "      <td>182737</td>\n",
       "      <td>40.668188</td>\n",
       "      <td>-73.875137</td>\n",
       "      <td>(40.66818803900002, -73.87513706799997)</td>\n",
       "      <td>2021-03-27</td>\n",
       "    </tr>\n",
       "    <tr>\n",
       "      <th>3</th>\n",
       "      <td>270261096</td>\n",
       "      <td>14</td>\n",
       "      <td>MANHATTAN</td>\n",
       "      <td>03/26/2021</td>\n",
       "      <td>16:40:00</td>\n",
       "      <td>NaN</td>\n",
       "      <td>NaN</td>\n",
       "      <td>COMPLETED</td>\n",
       "      <td>NaN</td>\n",
       "      <td>NaN</td>\n",
       "      <td>0.0</td>\n",
       "      <td>N.Y. POLICE DEPT</td>\n",
       "      <td>341</td>\n",
       "      <td>MISDEMEANOR</td>\n",
       "      <td>INSIDE</td>\n",
       "      <td>PETIT LARCENY</td>\n",
       "      <td>NaN</td>\n",
       "      <td>PATROL BORO MAN SOUTH</td>\n",
       "      <td>333.0</td>\n",
       "      <td>LARCENY,PETIT FROM STORE-SHOPL</td>\n",
       "      <td>DEPARTMENT STORE</td>\n",
       "      <td>03/26/2021</td>\n",
       "      <td>NaN</td>\n",
       "      <td>NaN</td>\n",
       "      <td>NaN</td>\n",
       "      <td>NaN</td>\n",
       "      <td>NaN</td>\n",
       "      <td>UNKNOWN</td>\n",
       "      <td>UNKNOWN</td>\n",
       "      <td>D</td>\n",
       "      <td>987220</td>\n",
       "      <td>212676</td>\n",
       "      <td>40.750431</td>\n",
       "      <td>-73.989282</td>\n",
       "      <td>(40.75043076800005, -73.98928217599996)</td>\n",
       "      <td>2021-03-26</td>\n",
       "    </tr>\n",
       "    <tr>\n",
       "      <th>4</th>\n",
       "      <td>433883572</td>\n",
       "      <td>110</td>\n",
       "      <td>QUEENS</td>\n",
       "      <td>03/26/2021</td>\n",
       "      <td>13:09:00</td>\n",
       "      <td>03/26/2021</td>\n",
       "      <td>14:29:00</td>\n",
       "      <td>COMPLETED</td>\n",
       "      <td>NaN</td>\n",
       "      <td>NaN</td>\n",
       "      <td>0.0</td>\n",
       "      <td>N.Y. POLICE DEPT</td>\n",
       "      <td>113</td>\n",
       "      <td>FELONY</td>\n",
       "      <td>INSIDE</td>\n",
       "      <td>FORGERY</td>\n",
       "      <td>NaN</td>\n",
       "      <td>PATROL BORO QUEENS NORTH</td>\n",
       "      <td>729.0</td>\n",
       "      <td>FORGERY,ETC.,UNCLASSIFIED-FELO</td>\n",
       "      <td>SMALL MERCHANT</td>\n",
       "      <td>03/26/2021</td>\n",
       "      <td>NaN</td>\n",
       "      <td>NaN</td>\n",
       "      <td>NaN</td>\n",
       "      <td>NaN</td>\n",
       "      <td>NaN</td>\n",
       "      <td>UNKNOWN</td>\n",
       "      <td>UNKNOWN</td>\n",
       "      <td>D</td>\n",
       "      <td>1021552</td>\n",
       "      <td>212402</td>\n",
       "      <td>40.749601</td>\n",
       "      <td>-73.865373</td>\n",
       "      <td>(40.74960053300003, -73.86537333399998)</td>\n",
       "      <td>2021-03-26</td>\n",
       "    </tr>\n",
       "  </tbody>\n",
       "</table>\n",
       "</div>"
      ],
      "text/plain": [
       "   CMPLNT_NUM  ADDR_PCT_CD    BORO_NM CMPLNT_FR_DT CMPLNT_FR_TM CMPLNT_TO_DT  \\\n",
       "0   825041611           84   BROOKLYN   03/31/2021     15:08:00   03/31/2021   \n",
       "1   206649900            7        NaN   03/27/2021     19:29:00          NaN   \n",
       "2   294801329           75        NaN   03/27/2021     13:00:00          NaN   \n",
       "3   270261096           14  MANHATTAN   03/26/2021     16:40:00          NaN   \n",
       "4   433883572          110     QUEENS   03/26/2021     13:09:00   03/26/2021   \n",
       "\n",
       "  CMPLNT_TO_TM CRM_ATPT_CPTD_CD HADEVELOPT  HOUSING_PSA  JURISDICTION_CODE  \\\n",
       "0     15:12:00        COMPLETED        NaN          NaN                0.0   \n",
       "1          NaN              NaN        NaN          NaN                0.0   \n",
       "2          NaN        COMPLETED        NaN          NaN                NaN   \n",
       "3          NaN        COMPLETED        NaN          NaN                0.0   \n",
       "4     14:29:00        COMPLETED        NaN          NaN                0.0   \n",
       "\n",
       "         JURIS_DESC  KY_CD   LAW_CAT_CD LOC_OF_OCCUR_DESC  \\\n",
       "0  N.Y. POLICE DEPT    675    VIOLATION               NaN   \n",
       "1  N.Y. POLICE DEPT    341  MISDEMEANOR               NaN   \n",
       "2  N.Y. POLICE DEPT    101       FELONY           OUTSIDE   \n",
       "3  N.Y. POLICE DEPT    341  MISDEMEANOR            INSIDE   \n",
       "4  N.Y. POLICE DEPT    113       FELONY            INSIDE   \n",
       "\n",
       "                         OFNS_DESC PARKS_NM               PATROL_BORO  PD_CD  \\\n",
       "0              ADMINISTRATIVE CODE      NaN   PATROL BORO BKLYN NORTH  874.0   \n",
       "1                    PETIT LARCENY      NaN     PATROL BORO MAN SOUTH  333.0   \n",
       "2  MURDER & NON-NEGL. MANSLAUGHTER      NaN                       NaN    NaN   \n",
       "3                    PETIT LARCENY      NaN     PATROL BORO MAN SOUTH  333.0   \n",
       "4                          FORGERY      NaN  PATROL BORO QUEENS NORTH  729.0   \n",
       "\n",
       "                          PD_DESC     PREM_TYP_DESC      RPT_DT STATION_NAME  \\\n",
       "0               PEDDLING,UNLAWFUL            STREET  03/31/2021          NaN   \n",
       "1  LARCENY,PETIT FROM STORE-SHOPL               NaN  03/28/2021          NaN   \n",
       "2                             NaN               NaN  03/27/2021          NaN   \n",
       "3  LARCENY,PETIT FROM STORE-SHOPL  DEPARTMENT STORE  03/26/2021          NaN   \n",
       "4  FORGERY,ETC.,UNCLASSIFIED-FELO    SMALL MERCHANT  03/26/2021          NaN   \n",
       "\n",
       "  SUSP_AGE_GROUP SUSP_RACE SUSP_SEX  TRANSIT_DISTRICT VIC_AGE_GROUP  \\\n",
       "0          25-44     BLACK        M               NaN       UNKNOWN   \n",
       "1            NaN       NaN      NaN               NaN         25-44   \n",
       "2          25-44     BLACK        M               NaN         25-44   \n",
       "3            NaN       NaN      NaN               NaN       UNKNOWN   \n",
       "4            NaN       NaN      NaN               NaN       UNKNOWN   \n",
       "\n",
       "         VIC_RACE VIC_SEX X_COORD_CD Y_COORD_CD   Latitude  Longitude  \\\n",
       "0         UNKNOWN       E     988041     191045  40.691059 -73.986331   \n",
       "1  WHITE HISPANIC       D     987818     200162  40.716083 -73.987131   \n",
       "2           BLACK       M    1018889     182737  40.668188 -73.875137   \n",
       "3         UNKNOWN       D     987220     212676  40.750431 -73.989282   \n",
       "4         UNKNOWN       D    1021552     212402  40.749601 -73.865373   \n",
       "\n",
       "                                   Lat_Lon CMPLNT_DATE  \n",
       "0  (40.69105856700002, -73.98633121699999)  2021-03-31  \n",
       "1  (40.71608268700004, -73.98713051799997)  2021-03-27  \n",
       "2  (40.66818803900002, -73.87513706799997)  2021-03-27  \n",
       "3  (40.75043076800005, -73.98928217599996)  2021-03-26  \n",
       "4  (40.74960053300003, -73.86537333399998)  2021-03-26  "
      ]
     },
     "execution_count": 10,
     "metadata": {},
     "output_type": "execute_result"
    }
   ],
   "source": [
    "complaints.head()"
   ]
  },
  {
   "cell_type": "code",
   "execution_count": 11,
   "metadata": {},
   "outputs": [
    {
     "data": {
      "text/plain": [
       "array([ 84,   7,  75,  14, 110, 115,  52, 102,  43,  34,  44,  46,  47,\n",
       "       103,  49,  69,  70, 113,  67,  79,  48,  60,  42,  50,  25,  10,\n",
       "        45,  41,  28,  13, 105,  40,  71,  76,  81, 114, 122,  73,   5,\n",
       "       104,  77,  90, 112,  62,  17, 121, 120, 101,  23,  63, 106, 107,\n",
       "        20,  32,  30,   9,  66,  68,  83, 109,  18, 123,  19,  33,  94,\n",
       "        61,   6,  24,   1,  78, 108,  88,  72, 100, 111,  26,  22, -99],\n",
       "      dtype=int64)"
      ]
     },
     "execution_count": 11,
     "metadata": {},
     "output_type": "execute_result"
    }
   ],
   "source": [
    "complaints.ADDR_PCT_CD.unique()"
   ]
  },
  {
   "cell_type": "code",
   "execution_count": 12,
   "metadata": {
    "collapsed": false,
    "jupyter": {
     "outputs_hidden": false
    },
    "pycharm": {
     "name": "#%%\n"
    }
   },
   "outputs": [
    {
     "data": {
      "text/plain": [
       "array(['VIOLATION', 'MISDEMEANOR', 'FELONY'], dtype=object)"
      ]
     },
     "execution_count": 12,
     "metadata": {},
     "output_type": "execute_result"
    }
   ],
   "source": [
    "complaints.LAW_CAT_CD.unique()"
   ]
  },
  {
   "cell_type": "code",
   "execution_count": 13,
   "metadata": {
    "collapsed": false,
    "jupyter": {
     "outputs_hidden": false
    },
    "pycharm": {
     "name": "#%%\n"
    }
   },
   "outputs": [
    {
     "data": {
      "text/plain": [
       "65"
      ]
     },
     "execution_count": 13,
     "metadata": {},
     "output_type": "execute_result"
    }
   ],
   "source": [
    "complaints.OFNS_DESC.nunique()"
   ]
  },
  {
   "cell_type": "code",
   "execution_count": 14,
   "metadata": {},
   "outputs": [
    {
     "data": {
      "text/plain": [
       "369"
      ]
     },
     "execution_count": 14,
     "metadata": {},
     "output_type": "execute_result"
    }
   ],
   "source": [
    "complaints.PD_DESC.nunique()"
   ]
  },
  {
   "cell_type": "code",
   "execution_count": 15,
   "metadata": {},
   "outputs": [
    {
     "data": {
      "text/plain": [
       "155"
      ]
     },
     "execution_count": 15,
     "metadata": {},
     "output_type": "execute_result"
    }
   ],
   "source": [
    "complaints.loc[(pd.DatetimeIndex(complaints['CMPLNT_DATE']).year == 2020) & (pd.DatetimeIndex(complaints['CMPLNT_DATE']).month == 4) & (pd.DatetimeIndex(complaints['CMPLNT_DATE']).day.isin([1,2,3])) & (complaints['ADDR_PCT_CD'].isin([61,66,67,70,76]))]['CMPLNT_NUM'].count()"
   ]
  },
  {
   "cell_type": "code",
   "execution_count": 22,
   "metadata": {
    "tags": []
   },
   "outputs": [
    {
     "data": {
      "text/html": [
       "<div>\n",
       "<style scoped>\n",
       "    .dataframe tbody tr th:only-of-type {\n",
       "        vertical-align: middle;\n",
       "    }\n",
       "\n",
       "    .dataframe tbody tr th {\n",
       "        vertical-align: top;\n",
       "    }\n",
       "\n",
       "    .dataframe thead th {\n",
       "        text-align: right;\n",
       "    }\n",
       "</style>\n",
       "<table border=\"1\" class=\"dataframe\">\n",
       "  <thead>\n",
       "    <tr style=\"text-align: right;\">\n",
       "      <th></th>\n",
       "      <th></th>\n",
       "      <th>CMPLNT_NUM</th>\n",
       "    </tr>\n",
       "    <tr>\n",
       "      <th>ADDR_PCT_CD</th>\n",
       "      <th>CMPLNT_DATE</th>\n",
       "      <th></th>\n",
       "    </tr>\n",
       "  </thead>\n",
       "  <tbody>\n",
       "    <tr>\n",
       "      <th rowspan=\"5\" valign=\"top\">61</th>\n",
       "      <th>2020-04-01</th>\n",
       "      <td>15</td>\n",
       "    </tr>\n",
       "    <tr>\n",
       "      <th>2020-04-02</th>\n",
       "      <td>10</td>\n",
       "    </tr>\n",
       "    <tr>\n",
       "      <th>2020-04-03</th>\n",
       "      <td>5</td>\n",
       "    </tr>\n",
       "    <tr>\n",
       "      <th>2020-04-04</th>\n",
       "      <td>6</td>\n",
       "    </tr>\n",
       "    <tr>\n",
       "      <th>2020-04-05</th>\n",
       "      <td>14</td>\n",
       "    </tr>\n",
       "    <tr>\n",
       "      <th>...</th>\n",
       "      <th>...</th>\n",
       "      <td>...</td>\n",
       "    </tr>\n",
       "    <tr>\n",
       "      <th rowspan=\"5\" valign=\"top\">76</th>\n",
       "      <th>2020-06-26</th>\n",
       "      <td>1</td>\n",
       "    </tr>\n",
       "    <tr>\n",
       "      <th>2020-06-27</th>\n",
       "      <td>5</td>\n",
       "    </tr>\n",
       "    <tr>\n",
       "      <th>2020-06-28</th>\n",
       "      <td>4</td>\n",
       "    </tr>\n",
       "    <tr>\n",
       "      <th>2020-06-29</th>\n",
       "      <td>1</td>\n",
       "    </tr>\n",
       "    <tr>\n",
       "      <th>2020-06-30</th>\n",
       "      <td>6</td>\n",
       "    </tr>\n",
       "  </tbody>\n",
       "</table>\n",
       "<p>452 rows × 1 columns</p>\n",
       "</div>"
      ],
      "text/plain": [
       "                         CMPLNT_NUM\n",
       "ADDR_PCT_CD CMPLNT_DATE            \n",
       "61          2020-04-01           15\n",
       "            2020-04-02           10\n",
       "            2020-04-03            5\n",
       "            2020-04-04            6\n",
       "            2020-04-05           14\n",
       "...                             ...\n",
       "76          2020-06-26            1\n",
       "            2020-06-27            5\n",
       "            2020-06-28            4\n",
       "            2020-06-29            1\n",
       "            2020-06-30            6\n",
       "\n",
       "[452 rows x 1 columns]"
      ]
     },
     "execution_count": 22,
     "metadata": {},
     "output_type": "execute_result"
    }
   ],
   "source": [
    "complaints.loc[(pd.DatetimeIndex(complaints['CMPLNT_DATE']).year == 2020) & (pd.DatetimeIndex(complaints['CMPLNT_DATE']).month.isin([4,5,6])) & (complaints['ADDR_PCT_CD'].isin([61,66,67,70,76]))].groupby(['ADDR_PCT_CD','CMPLNT_DATE'])['CMPLNT_NUM'].count()"
   ]
  },
  {
   "cell_type": "code",
   "execution_count": 17,
   "metadata": {},
   "outputs": [],
   "source": [
    "# complaints.resample('M', on='CMPLNT_DATE').count()\n",
    "\n",
    "cmp_2020_456 = complaints.loc[(complaints['ADDR_PCT_CD'].isin([61,66,67,70,76])) & (pd.DatetimeIndex(complaints['CMPLNT_DATE']).year == 2020) & (pd.DatetimeIndex(complaints['CMPLNT_DATE']).month.isin([4,5,6]))]"
   ]
  },
  {
   "cell_type": "code",
   "execution_count": 18,
   "metadata": {},
   "outputs": [
    {
     "data": {
      "text/plain": [
       "CMPLNT_DATE\n",
       "2020-04-30    1456\n",
       "2020-05-31    1914\n",
       "2020-06-30    1897\n",
       "Freq: M, Name: CMPLNT_NUM, dtype: int64"
      ]
     },
     "execution_count": 18,
     "metadata": {},
     "output_type": "execute_result"
    }
   ],
   "source": [
    "cmp_2020_456.resample('m', on='CMPLNT_DATE').count()['CMPLNT_NUM']"
   ]
  },
  {
   "cell_type": "code",
   "execution_count": 23,
   "metadata": {},
   "outputs": [
    {
     "data": {
      "text/plain": [
       "ADDR_PCT_CD  CMPLNT_DATE\n",
       "61           2020-04-30     266\n",
       "             2020-05-31     374\n",
       "             2020-06-30     370\n",
       "66           2020-04-30     227\n",
       "             2020-05-31     291\n",
       "             2020-06-30     337\n",
       "67           2020-04-30     470\n",
       "             2020-05-31     576\n",
       "             2020-06-30     547\n",
       "70           2020-04-30     381\n",
       "             2020-05-31     501\n",
       "             2020-06-30     489\n",
       "76           2020-04-30     112\n",
       "             2020-05-31     172\n",
       "             2020-06-30     154\n",
       "Name: CMPLNT_NUM, dtype: int64"
      ]
     },
     "execution_count": 23,
     "metadata": {},
     "output_type": "execute_result"
    }
   ],
   "source": [
    "cmp_2020_456.groupby('ADDR_PCT_CD').resample('m', on='CMPLNT_DATE').count()['CMPLNT_NUM']"
   ]
  },
  {
   "cell_type": "code",
   "execution_count": 20,
   "metadata": {},
   "outputs": [
    {
     "data": {
      "text/html": [
       "<div>\n",
       "<style scoped>\n",
       "    .dataframe tbody tr th:only-of-type {\n",
       "        vertical-align: middle;\n",
       "    }\n",
       "\n",
       "    .dataframe tbody tr th {\n",
       "        vertical-align: top;\n",
       "    }\n",
       "\n",
       "    .dataframe thead th {\n",
       "        text-align: right;\n",
       "    }\n",
       "</style>\n",
       "<table border=\"1\" class=\"dataframe\">\n",
       "  <thead>\n",
       "    <tr style=\"text-align: right;\">\n",
       "      <th></th>\n",
       "      <th></th>\n",
       "      <th></th>\n",
       "      <th>CMPLNT_NUM</th>\n",
       "    </tr>\n",
       "    <tr>\n",
       "      <th>BORO_NM</th>\n",
       "      <th>Lat_Lon</th>\n",
       "      <th>OFNS_DESC</th>\n",
       "      <th></th>\n",
       "    </tr>\n",
       "  </thead>\n",
       "  <tbody>\n",
       "    <tr>\n",
       "      <th rowspan=\"12\" valign=\"top\">BRONX</th>\n",
       "      <th rowspan=\"4\" valign=\"top\">(40.91272339600005, -73.90252535799993)</th>\n",
       "      <th>THEFT-FRAUD</th>\n",
       "      <td>1</td>\n",
       "    </tr>\n",
       "    <tr>\n",
       "      <th>GRAND LARCENY</th>\n",
       "      <td>5</td>\n",
       "    </tr>\n",
       "    <tr>\n",
       "      <th>FORGERY</th>\n",
       "      <td>1</td>\n",
       "    </tr>\n",
       "    <tr>\n",
       "      <th>FELONY ASSAULT</th>\n",
       "      <td>2</td>\n",
       "    </tr>\n",
       "    <tr>\n",
       "      <th rowspan=\"2\" valign=\"top\">(40.91235130500007, -73.90069520599997)</th>\n",
       "      <th>GRAND LARCENY OF MOTOR VEHICLE</th>\n",
       "      <td>1</td>\n",
       "    </tr>\n",
       "    <tr>\n",
       "      <th>GRAND LARCENY</th>\n",
       "      <td>1</td>\n",
       "    </tr>\n",
       "    <tr>\n",
       "      <th rowspan=\"2\" valign=\"top\">(40.91130746300007, -73.90290369799999)</th>\n",
       "      <th>CRIMINAL MISCHIEF &amp; RELATED OF</th>\n",
       "      <td>1</td>\n",
       "    </tr>\n",
       "    <tr>\n",
       "      <th>BURGLARY</th>\n",
       "      <td>1</td>\n",
       "    </tr>\n",
       "    <tr>\n",
       "      <th>(40.911095343000056, -73.90198144099998)</th>\n",
       "      <th>GRAND LARCENY</th>\n",
       "      <td>1</td>\n",
       "    </tr>\n",
       "    <tr>\n",
       "      <th>(40.911095343000056, -73.90198144099996)</th>\n",
       "      <th>GRAND LARCENY</th>\n",
       "      <td>1</td>\n",
       "    </tr>\n",
       "    <tr>\n",
       "      <th rowspan=\"2\" valign=\"top\">(40.91095460600008, -73.90109164399996)</th>\n",
       "      <th>GRAND LARCENY</th>\n",
       "      <td>1</td>\n",
       "    </tr>\n",
       "    <tr>\n",
       "      <th>CRIMINAL MISCHIEF &amp; RELATED OF</th>\n",
       "      <td>1</td>\n",
       "    </tr>\n",
       "  </tbody>\n",
       "</table>\n",
       "</div>"
      ],
      "text/plain": [
       "                                                                                 CMPLNT_NUM\n",
       "BORO_NM Lat_Lon                                  OFNS_DESC                                 \n",
       "BRONX   (40.91272339600005, -73.90252535799993)  THEFT-FRAUD                              1\n",
       "                                                 GRAND LARCENY                            5\n",
       "                                                 FORGERY                                  1\n",
       "                                                 FELONY ASSAULT                           2\n",
       "        (40.91235130500007, -73.90069520599997)  GRAND LARCENY OF MOTOR VEHICLE           1\n",
       "                                                 GRAND LARCENY                            1\n",
       "        (40.91130746300007, -73.90290369799999)  CRIMINAL MISCHIEF & RELATED OF           1\n",
       "                                                 BURGLARY                                 1\n",
       "        (40.911095343000056, -73.90198144099998) GRAND LARCENY                            1\n",
       "        (40.911095343000056, -73.90198144099996) GRAND LARCENY                            1\n",
       "        (40.91095460600008, -73.90109164399996)  GRAND LARCENY                            1\n",
       "                                                 CRIMINAL MISCHIEF & RELATED OF           1"
      ]
     },
     "execution_count": 20,
     "metadata": {},
     "output_type": "execute_result"
    }
   ],
   "source": [
    "pd.DataFrame(complaints.loc[(complaints.BORO_NM == 'BRONX') & (complaints.LAW_CAT_CD == 'FELONY')].groupby(['BORO_NM','Lat_Lon', 'OFNS_DESC'])['CMPLNT_NUM'].count()).sort_values(by=['Lat_Lon'], ascending=False)[:12]"
   ]
  },
  {
   "cell_type": "code",
   "execution_count": null,
   "metadata": {},
   "outputs": [],
   "source": []
  }
 ],
 "metadata": {
  "kernelspec": {
   "display_name": "Python 3",
   "language": "python",
   "name": "python3"
  },
  "language_info": {
   "codemirror_mode": {
    "name": "ipython",
    "version": 3
   },
   "file_extension": ".py",
   "mimetype": "text/x-python",
   "name": "python",
   "nbconvert_exporter": "python",
   "pygments_lexer": "ipython3",
   "version": "3.8.5"
  }
 },
 "nbformat": 4,
 "nbformat_minor": 4
}
