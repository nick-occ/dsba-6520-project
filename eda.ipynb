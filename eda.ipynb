{
 "cells": [
  {
   "cell_type": "code",
   "execution_count": 1,
   "metadata": {
    "tags": []
   },
   "outputs": [],
   "source": [
    "import pandas as pd"
   ]
  },
  {
   "cell_type": "code",
   "execution_count": 2,
   "metadata": {},
   "outputs": [],
   "source": [
    "pd.set_option('display.max_columns', None)"
   ]
  },
  {
   "cell_type": "markdown",
   "metadata": {},
   "source": [
    "## Loading Data"
   ]
  },
  {
   "cell_type": "code",
   "execution_count": 3,
   "metadata": {
    "collapsed": false,
    "jupyter": {
     "outputs_hidden": false
    },
    "pycharm": {
     "name": "#%%\n"
    }
   },
   "outputs": [],
   "source": [
    "# year to date data\n",
    "ytd = pd.read_csv('data/NYPD_Complaint_Data_Current__Year_To_Date_.csv')"
   ]
  },
  {
   "cell_type": "code",
   "execution_count": 4,
   "metadata": {
    "collapsed": false,
    "jupyter": {
     "outputs_hidden": false
    },
    "pycharm": {
     "name": "#%%\n"
    }
   },
   "outputs": [
    {
     "name": "stdout",
     "output_type": "stream",
     "text": [
      "<class 'pandas.core.frame.DataFrame'>\n",
      "RangeIndex: 96734 entries, 0 to 96733\n",
      "Data columns (total 36 columns):\n",
      " #   Column                    Non-Null Count  Dtype  \n",
      "---  ------                    --------------  -----  \n",
      " 0   CMPLNT_NUM                96734 non-null  int64  \n",
      " 1   ADDR_PCT_CD               96734 non-null  int64  \n",
      " 2   BORO_NM                   96632 non-null  object \n",
      " 3   CMPLNT_FR_DT              96734 non-null  object \n",
      " 4   CMPLNT_FR_TM              96734 non-null  object \n",
      " 5   CMPLNT_TO_DT              88039 non-null  object \n",
      " 6   CMPLNT_TO_TM              88067 non-null  object \n",
      " 7   CRM_ATPT_CPTD_CD          96682 non-null  object \n",
      " 8   HADEVELOPT                395 non-null    object \n",
      " 9   HOUSING_PSA               7868 non-null   float64\n",
      " 10  JURISDICTION_CODE         96646 non-null  float64\n",
      " 11  JURIS_DESC                96734 non-null  object \n",
      " 12  KY_CD                     96734 non-null  int64  \n",
      " 13  LAW_CAT_CD                96734 non-null  object \n",
      " 14  LOC_OF_OCCUR_DESC         81791 non-null  object \n",
      " 15  OFNS_DESC                 96731 non-null  object \n",
      " 16  PARKS_NM                  352 non-null    object \n",
      " 17  PATROL_BORO               96646 non-null  object \n",
      " 18  PD_CD                     96646 non-null  float64\n",
      " 19  PD_DESC                   96646 non-null  object \n",
      " 20  PREM_TYP_DESC             96462 non-null  object \n",
      " 21  RPT_DT                    96734 non-null  object \n",
      " 22  STATION_NAME              1939 non-null   object \n",
      " 23  SUSP_AGE_GROUP            76359 non-null  object \n",
      " 24  SUSP_RACE                 76359 non-null  object \n",
      " 25  SUSP_SEX                  76359 non-null  object \n",
      " 26  TRANSIT_DISTRICT          1939 non-null   float64\n",
      " 27  VIC_AGE_GROUP             96734 non-null  object \n",
      " 28  VIC_RACE                  96731 non-null  object \n",
      " 29  VIC_SEX                   96734 non-null  object \n",
      " 30  X_COORD_CD                96734 non-null  int64  \n",
      " 31  Y_COORD_CD                96734 non-null  int64  \n",
      " 32  Latitude                  96734 non-null  float64\n",
      " 33  Longitude                 96734 non-null  float64\n",
      " 34  Lat_Lon                   96734 non-null  object \n",
      " 35  New Georeferenced Column  96734 non-null  object \n",
      "dtypes: float64(6), int64(5), object(25)\n",
      "memory usage: 26.6+ MB\n"
     ]
    }
   ],
   "source": [
    "ytd.info()"
   ]
  },
  {
   "cell_type": "code",
   "execution_count": 5,
   "metadata": {},
   "outputs": [],
   "source": [
    "# remove this column because it isn't in the historical and is redundant\n",
    "ytd.drop(['New Georeferenced Column'], axis=1, inplace=True)"
   ]
  },
  {
   "cell_type": "code",
   "execution_count": 6,
   "metadata": {},
   "outputs": [],
   "source": [
    "# historical dataset\n",
    "hist = pd.read_csv('data/NYPD_Complaint_Data_Historic.csv')"
   ]
  },
  {
   "cell_type": "code",
   "execution_count": 7,
   "metadata": {},
   "outputs": [
    {
     "name": "stdout",
     "output_type": "stream",
     "text": [
      "<class 'pandas.core.frame.DataFrame'>\n",
      "RangeIndex: 862435 entries, 0 to 862434\n",
      "Data columns (total 35 columns):\n",
      " #   Column             Non-Null Count   Dtype  \n",
      "---  ------             --------------   -----  \n",
      " 0   CMPLNT_NUM         862435 non-null  int64  \n",
      " 1   CMPLNT_FR_DT       862435 non-null  object \n",
      " 2   CMPLNT_FR_TM       862435 non-null  object \n",
      " 3   CMPLNT_TO_DT       767304 non-null  object \n",
      " 4   CMPLNT_TO_TM       767663 non-null  object \n",
      " 5   ADDR_PCT_CD        862435 non-null  int64  \n",
      " 6   RPT_DT             862435 non-null  object \n",
      " 7   KY_CD              862435 non-null  int64  \n",
      " 8   OFNS_DESC          862422 non-null  object \n",
      " 9   PD_CD              861693 non-null  float64\n",
      " 10  PD_DESC            861693 non-null  object \n",
      " 11  CRM_ATPT_CPTD_CD   862435 non-null  object \n",
      " 12  LAW_CAT_CD         862435 non-null  object \n",
      " 13  BORO_NM            861664 non-null  object \n",
      " 14  LOC_OF_OCCUR_DESC  714705 non-null  object \n",
      " 15  PREM_TYP_DESC      859502 non-null  object \n",
      " 16  JURIS_DESC         862435 non-null  object \n",
      " 17  JURISDICTION_CODE  861693 non-null  float64\n",
      " 18  PARKS_NM           6668 non-null    object \n",
      " 19  HADEVELOPT         22727 non-null   object \n",
      " 20  HOUSING_PSA        63310 non-null   float64\n",
      " 21  X_COORD_CD         862435 non-null  int64  \n",
      " 22  Y_COORD_CD         862435 non-null  int64  \n",
      " 23  SUSP_AGE_GROUP     662352 non-null  object \n",
      " 24  SUSP_RACE          662352 non-null  object \n",
      " 25  SUSP_SEX           662352 non-null  object \n",
      " 26  TRANSIT_DISTRICT   18957 non-null   float64\n",
      " 27  Latitude           862435 non-null  float64\n",
      " 28  Longitude          862435 non-null  float64\n",
      " 29  Lat_Lon            862435 non-null  object \n",
      " 30  PATROL_BORO        861693 non-null  object \n",
      " 31  STATION_NAME       18957 non-null   object \n",
      " 32  VIC_AGE_GROUP      862431 non-null  object \n",
      " 33  VIC_RACE           862431 non-null  object \n",
      " 34  VIC_SEX            862431 non-null  object \n",
      "dtypes: float64(6), int64(5), object(24)\n",
      "memory usage: 230.3+ MB\n"
     ]
    }
   ],
   "source": [
    "hist.info()"
   ]
  },
  {
   "cell_type": "code",
   "execution_count": 8,
   "metadata": {},
   "outputs": [],
   "source": [
    "# combine two datasets\n",
    "complaints = pd.concat([ytd, hist])"
   ]
  },
  {
   "cell_type": "code",
   "execution_count": 9,
   "metadata": {},
   "outputs": [],
   "source": [
    "complaints['complaint_date'] = pd.to_datetime(complaints['CMPLNT_FR_DT'], format='%m/%d/%Y')"
   ]
  },
  {
   "cell_type": "code",
   "execution_count": 10,
   "metadata": {},
   "outputs": [
    {
     "data": {
      "text/plain": [
       "(959169, 36)"
      ]
     },
     "execution_count": 10,
     "metadata": {},
     "output_type": "execute_result"
    }
   ],
   "source": [
    "complaints.shape"
   ]
  },
  {
   "cell_type": "code",
   "execution_count": 11,
   "metadata": {},
   "outputs": [
    {
     "data": {
      "text/html": [
       "<div>\n",
       "<style scoped>\n",
       "    .dataframe tbody tr th:only-of-type {\n",
       "        vertical-align: middle;\n",
       "    }\n",
       "\n",
       "    .dataframe tbody tr th {\n",
       "        vertical-align: top;\n",
       "    }\n",
       "\n",
       "    .dataframe thead th {\n",
       "        text-align: right;\n",
       "    }\n",
       "</style>\n",
       "<table border=\"1\" class=\"dataframe\">\n",
       "  <thead>\n",
       "    <tr style=\"text-align: right;\">\n",
       "      <th></th>\n",
       "      <th>CMPLNT_NUM</th>\n",
       "      <th>ADDR_PCT_CD</th>\n",
       "      <th>BORO_NM</th>\n",
       "      <th>CMPLNT_FR_DT</th>\n",
       "      <th>CMPLNT_FR_TM</th>\n",
       "      <th>CMPLNT_TO_DT</th>\n",
       "      <th>CMPLNT_TO_TM</th>\n",
       "      <th>CRM_ATPT_CPTD_CD</th>\n",
       "      <th>HADEVELOPT</th>\n",
       "      <th>HOUSING_PSA</th>\n",
       "      <th>JURISDICTION_CODE</th>\n",
       "      <th>JURIS_DESC</th>\n",
       "      <th>KY_CD</th>\n",
       "      <th>LAW_CAT_CD</th>\n",
       "      <th>LOC_OF_OCCUR_DESC</th>\n",
       "      <th>OFNS_DESC</th>\n",
       "      <th>PARKS_NM</th>\n",
       "      <th>PATROL_BORO</th>\n",
       "      <th>PD_CD</th>\n",
       "      <th>PD_DESC</th>\n",
       "      <th>PREM_TYP_DESC</th>\n",
       "      <th>RPT_DT</th>\n",
       "      <th>STATION_NAME</th>\n",
       "      <th>SUSP_AGE_GROUP</th>\n",
       "      <th>SUSP_RACE</th>\n",
       "      <th>SUSP_SEX</th>\n",
       "      <th>TRANSIT_DISTRICT</th>\n",
       "      <th>VIC_AGE_GROUP</th>\n",
       "      <th>VIC_RACE</th>\n",
       "      <th>VIC_SEX</th>\n",
       "      <th>X_COORD_CD</th>\n",
       "      <th>Y_COORD_CD</th>\n",
       "      <th>Latitude</th>\n",
       "      <th>Longitude</th>\n",
       "      <th>Lat_Lon</th>\n",
       "      <th>complaint_date</th>\n",
       "    </tr>\n",
       "  </thead>\n",
       "  <tbody>\n",
       "    <tr>\n",
       "      <th>0</th>\n",
       "      <td>825041611</td>\n",
       "      <td>84</td>\n",
       "      <td>BROOKLYN</td>\n",
       "      <td>03/31/2021</td>\n",
       "      <td>15:08:00</td>\n",
       "      <td>03/31/2021</td>\n",
       "      <td>15:12:00</td>\n",
       "      <td>COMPLETED</td>\n",
       "      <td>NaN</td>\n",
       "      <td>NaN</td>\n",
       "      <td>0.0</td>\n",
       "      <td>N.Y. POLICE DEPT</td>\n",
       "      <td>675</td>\n",
       "      <td>VIOLATION</td>\n",
       "      <td>NaN</td>\n",
       "      <td>ADMINISTRATIVE CODE</td>\n",
       "      <td>NaN</td>\n",
       "      <td>PATROL BORO BKLYN NORTH</td>\n",
       "      <td>874.0</td>\n",
       "      <td>PEDDLING,UNLAWFUL</td>\n",
       "      <td>STREET</td>\n",
       "      <td>03/31/2021</td>\n",
       "      <td>NaN</td>\n",
       "      <td>25-44</td>\n",
       "      <td>BLACK</td>\n",
       "      <td>M</td>\n",
       "      <td>NaN</td>\n",
       "      <td>UNKNOWN</td>\n",
       "      <td>UNKNOWN</td>\n",
       "      <td>E</td>\n",
       "      <td>988041</td>\n",
       "      <td>191045</td>\n",
       "      <td>40.691059</td>\n",
       "      <td>-73.986331</td>\n",
       "      <td>(40.69105856700002, -73.98633121699999)</td>\n",
       "      <td>2021-03-31</td>\n",
       "    </tr>\n",
       "    <tr>\n",
       "      <th>1</th>\n",
       "      <td>206649900</td>\n",
       "      <td>7</td>\n",
       "      <td>NaN</td>\n",
       "      <td>03/27/2021</td>\n",
       "      <td>19:29:00</td>\n",
       "      <td>NaN</td>\n",
       "      <td>NaN</td>\n",
       "      <td>NaN</td>\n",
       "      <td>NaN</td>\n",
       "      <td>NaN</td>\n",
       "      <td>0.0</td>\n",
       "      <td>N.Y. POLICE DEPT</td>\n",
       "      <td>341</td>\n",
       "      <td>MISDEMEANOR</td>\n",
       "      <td>NaN</td>\n",
       "      <td>PETIT LARCENY</td>\n",
       "      <td>NaN</td>\n",
       "      <td>PATROL BORO MAN SOUTH</td>\n",
       "      <td>333.0</td>\n",
       "      <td>LARCENY,PETIT FROM STORE-SHOPL</td>\n",
       "      <td>NaN</td>\n",
       "      <td>03/28/2021</td>\n",
       "      <td>NaN</td>\n",
       "      <td>NaN</td>\n",
       "      <td>NaN</td>\n",
       "      <td>NaN</td>\n",
       "      <td>NaN</td>\n",
       "      <td>25-44</td>\n",
       "      <td>WHITE HISPANIC</td>\n",
       "      <td>D</td>\n",
       "      <td>987818</td>\n",
       "      <td>200162</td>\n",
       "      <td>40.716083</td>\n",
       "      <td>-73.987131</td>\n",
       "      <td>(40.71608268700004, -73.98713051799997)</td>\n",
       "      <td>2021-03-27</td>\n",
       "    </tr>\n",
       "    <tr>\n",
       "      <th>2</th>\n",
       "      <td>294801329</td>\n",
       "      <td>75</td>\n",
       "      <td>NaN</td>\n",
       "      <td>03/27/2021</td>\n",
       "      <td>13:00:00</td>\n",
       "      <td>NaN</td>\n",
       "      <td>NaN</td>\n",
       "      <td>COMPLETED</td>\n",
       "      <td>NaN</td>\n",
       "      <td>NaN</td>\n",
       "      <td>NaN</td>\n",
       "      <td>N.Y. POLICE DEPT</td>\n",
       "      <td>101</td>\n",
       "      <td>FELONY</td>\n",
       "      <td>OUTSIDE</td>\n",
       "      <td>MURDER &amp; NON-NEGL. MANSLAUGHTER</td>\n",
       "      <td>NaN</td>\n",
       "      <td>NaN</td>\n",
       "      <td>NaN</td>\n",
       "      <td>NaN</td>\n",
       "      <td>NaN</td>\n",
       "      <td>03/27/2021</td>\n",
       "      <td>NaN</td>\n",
       "      <td>25-44</td>\n",
       "      <td>BLACK</td>\n",
       "      <td>M</td>\n",
       "      <td>NaN</td>\n",
       "      <td>25-44</td>\n",
       "      <td>BLACK</td>\n",
       "      <td>M</td>\n",
       "      <td>1018889</td>\n",
       "      <td>182737</td>\n",
       "      <td>40.668188</td>\n",
       "      <td>-73.875137</td>\n",
       "      <td>(40.66818803900002, -73.87513706799997)</td>\n",
       "      <td>2021-03-27</td>\n",
       "    </tr>\n",
       "    <tr>\n",
       "      <th>3</th>\n",
       "      <td>270261096</td>\n",
       "      <td>14</td>\n",
       "      <td>MANHATTAN</td>\n",
       "      <td>03/26/2021</td>\n",
       "      <td>16:40:00</td>\n",
       "      <td>NaN</td>\n",
       "      <td>NaN</td>\n",
       "      <td>COMPLETED</td>\n",
       "      <td>NaN</td>\n",
       "      <td>NaN</td>\n",
       "      <td>0.0</td>\n",
       "      <td>N.Y. POLICE DEPT</td>\n",
       "      <td>341</td>\n",
       "      <td>MISDEMEANOR</td>\n",
       "      <td>INSIDE</td>\n",
       "      <td>PETIT LARCENY</td>\n",
       "      <td>NaN</td>\n",
       "      <td>PATROL BORO MAN SOUTH</td>\n",
       "      <td>333.0</td>\n",
       "      <td>LARCENY,PETIT FROM STORE-SHOPL</td>\n",
       "      <td>DEPARTMENT STORE</td>\n",
       "      <td>03/26/2021</td>\n",
       "      <td>NaN</td>\n",
       "      <td>NaN</td>\n",
       "      <td>NaN</td>\n",
       "      <td>NaN</td>\n",
       "      <td>NaN</td>\n",
       "      <td>UNKNOWN</td>\n",
       "      <td>UNKNOWN</td>\n",
       "      <td>D</td>\n",
       "      <td>987220</td>\n",
       "      <td>212676</td>\n",
       "      <td>40.750431</td>\n",
       "      <td>-73.989282</td>\n",
       "      <td>(40.75043076800005, -73.98928217599996)</td>\n",
       "      <td>2021-03-26</td>\n",
       "    </tr>\n",
       "    <tr>\n",
       "      <th>4</th>\n",
       "      <td>433883572</td>\n",
       "      <td>110</td>\n",
       "      <td>QUEENS</td>\n",
       "      <td>03/26/2021</td>\n",
       "      <td>13:09:00</td>\n",
       "      <td>03/26/2021</td>\n",
       "      <td>14:29:00</td>\n",
       "      <td>COMPLETED</td>\n",
       "      <td>NaN</td>\n",
       "      <td>NaN</td>\n",
       "      <td>0.0</td>\n",
       "      <td>N.Y. POLICE DEPT</td>\n",
       "      <td>113</td>\n",
       "      <td>FELONY</td>\n",
       "      <td>INSIDE</td>\n",
       "      <td>FORGERY</td>\n",
       "      <td>NaN</td>\n",
       "      <td>PATROL BORO QUEENS NORTH</td>\n",
       "      <td>729.0</td>\n",
       "      <td>FORGERY,ETC.,UNCLASSIFIED-FELO</td>\n",
       "      <td>SMALL MERCHANT</td>\n",
       "      <td>03/26/2021</td>\n",
       "      <td>NaN</td>\n",
       "      <td>NaN</td>\n",
       "      <td>NaN</td>\n",
       "      <td>NaN</td>\n",
       "      <td>NaN</td>\n",
       "      <td>UNKNOWN</td>\n",
       "      <td>UNKNOWN</td>\n",
       "      <td>D</td>\n",
       "      <td>1021552</td>\n",
       "      <td>212402</td>\n",
       "      <td>40.749601</td>\n",
       "      <td>-73.865373</td>\n",
       "      <td>(40.74960053300003, -73.86537333399998)</td>\n",
       "      <td>2021-03-26</td>\n",
       "    </tr>\n",
       "  </tbody>\n",
       "</table>\n",
       "</div>"
      ],
      "text/plain": [
       "   CMPLNT_NUM  ADDR_PCT_CD    BORO_NM CMPLNT_FR_DT CMPLNT_FR_TM CMPLNT_TO_DT  \\\n",
       "0   825041611           84   BROOKLYN   03/31/2021     15:08:00   03/31/2021   \n",
       "1   206649900            7        NaN   03/27/2021     19:29:00          NaN   \n",
       "2   294801329           75        NaN   03/27/2021     13:00:00          NaN   \n",
       "3   270261096           14  MANHATTAN   03/26/2021     16:40:00          NaN   \n",
       "4   433883572          110     QUEENS   03/26/2021     13:09:00   03/26/2021   \n",
       "\n",
       "  CMPLNT_TO_TM CRM_ATPT_CPTD_CD HADEVELOPT  HOUSING_PSA  JURISDICTION_CODE  \\\n",
       "0     15:12:00        COMPLETED        NaN          NaN                0.0   \n",
       "1          NaN              NaN        NaN          NaN                0.0   \n",
       "2          NaN        COMPLETED        NaN          NaN                NaN   \n",
       "3          NaN        COMPLETED        NaN          NaN                0.0   \n",
       "4     14:29:00        COMPLETED        NaN          NaN                0.0   \n",
       "\n",
       "         JURIS_DESC  KY_CD   LAW_CAT_CD LOC_OF_OCCUR_DESC  \\\n",
       "0  N.Y. POLICE DEPT    675    VIOLATION               NaN   \n",
       "1  N.Y. POLICE DEPT    341  MISDEMEANOR               NaN   \n",
       "2  N.Y. POLICE DEPT    101       FELONY           OUTSIDE   \n",
       "3  N.Y. POLICE DEPT    341  MISDEMEANOR            INSIDE   \n",
       "4  N.Y. POLICE DEPT    113       FELONY            INSIDE   \n",
       "\n",
       "                         OFNS_DESC PARKS_NM               PATROL_BORO  PD_CD  \\\n",
       "0              ADMINISTRATIVE CODE      NaN   PATROL BORO BKLYN NORTH  874.0   \n",
       "1                    PETIT LARCENY      NaN     PATROL BORO MAN SOUTH  333.0   \n",
       "2  MURDER & NON-NEGL. MANSLAUGHTER      NaN                       NaN    NaN   \n",
       "3                    PETIT LARCENY      NaN     PATROL BORO MAN SOUTH  333.0   \n",
       "4                          FORGERY      NaN  PATROL BORO QUEENS NORTH  729.0   \n",
       "\n",
       "                          PD_DESC     PREM_TYP_DESC      RPT_DT STATION_NAME  \\\n",
       "0               PEDDLING,UNLAWFUL            STREET  03/31/2021          NaN   \n",
       "1  LARCENY,PETIT FROM STORE-SHOPL               NaN  03/28/2021          NaN   \n",
       "2                             NaN               NaN  03/27/2021          NaN   \n",
       "3  LARCENY,PETIT FROM STORE-SHOPL  DEPARTMENT STORE  03/26/2021          NaN   \n",
       "4  FORGERY,ETC.,UNCLASSIFIED-FELO    SMALL MERCHANT  03/26/2021          NaN   \n",
       "\n",
       "  SUSP_AGE_GROUP SUSP_RACE SUSP_SEX  TRANSIT_DISTRICT VIC_AGE_GROUP  \\\n",
       "0          25-44     BLACK        M               NaN       UNKNOWN   \n",
       "1            NaN       NaN      NaN               NaN         25-44   \n",
       "2          25-44     BLACK        M               NaN         25-44   \n",
       "3            NaN       NaN      NaN               NaN       UNKNOWN   \n",
       "4            NaN       NaN      NaN               NaN       UNKNOWN   \n",
       "\n",
       "         VIC_RACE VIC_SEX  X_COORD_CD  Y_COORD_CD   Latitude  Longitude  \\\n",
       "0         UNKNOWN       E      988041      191045  40.691059 -73.986331   \n",
       "1  WHITE HISPANIC       D      987818      200162  40.716083 -73.987131   \n",
       "2           BLACK       M     1018889      182737  40.668188 -73.875137   \n",
       "3         UNKNOWN       D      987220      212676  40.750431 -73.989282   \n",
       "4         UNKNOWN       D     1021552      212402  40.749601 -73.865373   \n",
       "\n",
       "                                   Lat_Lon complaint_date  \n",
       "0  (40.69105856700002, -73.98633121699999)     2021-03-31  \n",
       "1  (40.71608268700004, -73.98713051799997)     2021-03-27  \n",
       "2  (40.66818803900002, -73.87513706799997)     2021-03-27  \n",
       "3  (40.75043076800005, -73.98928217599996)     2021-03-26  \n",
       "4  (40.74960053300003, -73.86537333399998)     2021-03-26  "
      ]
     },
     "execution_count": 11,
     "metadata": {},
     "output_type": "execute_result"
    }
   ],
   "source": [
    "complaints.head()"
   ]
  },
  {
   "cell_type": "markdown",
   "metadata": {},
   "source": [
    "## Cleaning Data"
   ]
  },
  {
   "cell_type": "code",
   "execution_count": 12,
   "metadata": {},
   "outputs": [],
   "source": [
    "clean_df = complaints.loc[(complaints['LAW_CAT_CD'] == 'FELONY') & \n",
    "               (complaints['JURIS_DESC'] == 'N.Y. POLICE DEPT') &\n",
    "               ((complaints['complaint_date'] >= '2019-01-01') & (complaints['complaint_date'] <= '2021-07-01'))\n",
    "              ]"
   ]
  },
  {
   "cell_type": "code",
   "execution_count": 13,
   "metadata": {},
   "outputs": [
    {
     "name": "stdout",
     "output_type": "stream",
     "text": [
      "<class 'pandas.core.frame.DataFrame'>\n",
      "Int64Index: 270221 entries, 2 to 862434\n",
      "Data columns (total 36 columns):\n",
      " #   Column             Non-Null Count   Dtype         \n",
      "---  ------             --------------   -----         \n",
      " 0   CMPLNT_NUM         270221 non-null  int64         \n",
      " 1   ADDR_PCT_CD        270221 non-null  int64         \n",
      " 2   BORO_NM            269535 non-null  object        \n",
      " 3   CMPLNT_FR_DT       270221 non-null  object        \n",
      " 4   CMPLNT_FR_TM       270221 non-null  object        \n",
      " 5   CMPLNT_TO_DT       245268 non-null  object        \n",
      " 6   CMPLNT_TO_TM       245345 non-null  object        \n",
      " 7   CRM_ATPT_CPTD_CD   270221 non-null  object        \n",
      " 8   HADEVELOPT         240 non-null     object        \n",
      " 9   HOUSING_PSA        333 non-null     float64       \n",
      " 10  JURISDICTION_CODE  269537 non-null  float64       \n",
      " 11  JURIS_DESC         270221 non-null  object        \n",
      " 12  KY_CD              270221 non-null  int64         \n",
      " 13  LAW_CAT_CD         270221 non-null  object        \n",
      " 14  LOC_OF_OCCUR_DESC  225510 non-null  object        \n",
      " 15  OFNS_DESC          270209 non-null  object        \n",
      " 16  PARKS_NM           2589 non-null    object        \n",
      " 17  PATROL_BORO        269537 non-null  object        \n",
      " 18  PD_CD              269537 non-null  float64       \n",
      " 19  PD_DESC            269537 non-null  object        \n",
      " 20  PREM_TYP_DESC      268751 non-null  object        \n",
      " 21  RPT_DT             270221 non-null  object        \n",
      " 22  STATION_NAME       29 non-null      object        \n",
      " 23  SUSP_AGE_GROUP     195077 non-null  object        \n",
      " 24  SUSP_RACE          195077 non-null  object        \n",
      " 25  SUSP_SEX           195077 non-null  object        \n",
      " 26  TRANSIT_DISTRICT   29 non-null      float64       \n",
      " 27  VIC_AGE_GROUP      270221 non-null  object        \n",
      " 28  VIC_RACE           270221 non-null  object        \n",
      " 29  VIC_SEX            270221 non-null  object        \n",
      " 30  X_COORD_CD         270221 non-null  int64         \n",
      " 31  Y_COORD_CD         270221 non-null  int64         \n",
      " 32  Latitude           270221 non-null  float64       \n",
      " 33  Longitude          270221 non-null  float64       \n",
      " 34  Lat_Lon            270221 non-null  object        \n",
      " 35  complaint_date     270221 non-null  datetime64[ns]\n",
      "dtypes: datetime64[ns](1), float64(6), int64(5), object(24)\n",
      "memory usage: 76.3+ MB\n"
     ]
    }
   ],
   "source": [
    "clean_df.info()"
   ]
  },
  {
   "cell_type": "code",
   "execution_count": 14,
   "metadata": {},
   "outputs": [],
   "source": [
    "# remove columns that aren't needed\n",
    "try:\n",
    "    clean_df = clean_df.drop(columns=[\n",
    "        'CRM_ATPT_CPTD_CD',\n",
    "        'HADEVELOPT',\n",
    "        'HOUSING_PSA',\n",
    "        'JURISDICTION_CODE',\n",
    "        'JURIS_DESC',\n",
    "        'PARKS_NM',\n",
    "        'STATION_NAME',\n",
    "        'SUSP_AGE_GROUP',\n",
    "        'SUSP_RACE',\n",
    "        'SUSP_SEX',\n",
    "        'TRANSIT_DISTRICT',\n",
    "        'VIC_AGE_GROUP',\n",
    "        'VIC_RACE',\n",
    "        'VIC_SEX',\n",
    "        'LAW_CAT_CD',\n",
    "        'RPT_DT',\n",
    "        'X_COORD_CD',\n",
    "        'Y_COORD_CD',\n",
    "        'CMPLNT_FR_DT',\n",
    "        'CMPLNT_FR_TM',\n",
    "        'CMPLNT_TO_DT',\n",
    "        'CMPLNT_TO_TM',\n",
    "        'Lat_Lon',\n",
    "        'BORO_NM'\n",
    "    ], axis='columns')\n",
    "except:\n",
    "    pass"
   ]
  },
  {
   "cell_type": "code",
   "execution_count": 15,
   "metadata": {},
   "outputs": [],
   "source": [
    "# rename columns\n",
    "rename_dict = {\n",
    "    \"CMPLNT_NUM\": \"complaint_id\",\n",
    "    \"ADDR_PCT_CD\": \"precinct\",\n",
    "    \"CMPLNT_FR_DT\": \"complaint_from_date\",\n",
    "    \"CMPLNT_FR_TM\": \"complaint_from_time\",\n",
    "    \"CMPLNT_TO_DT\": \"complaint_to_date\",\n",
    "    \"CMPLNT_TO_TM\": \"complaint_to_time\",\n",
    "    \"KY_CD\": \"offense_id\",\n",
    "    \"LOC_OF_OCCUR_DESC\": \"location_of_complaint\",\n",
    "    \"OFNS_DESC\": \"offense\",\n",
    "    \"PATROL_BORO\": \"patrol_boro\",\n",
    "    \"PD_CD\": \"specific_offense_id\",\n",
    "    \"PD_DESC\": \"specific_offense\",\n",
    "    \"PREM_TYP_DESC\": \"premises_type\",\n",
    "    \"Latitude\": \"latitude\",\n",
    "    \"Longitude\": \"longitude\"\n",
    "}\n",
    "\n",
    "clean_df = clean_df.rename(rename_dict, axis=\"columns\")"
   ]
  },
  {
   "cell_type": "code",
   "execution_count": 16,
   "metadata": {},
   "outputs": [
    {
     "name": "stdout",
     "output_type": "stream",
     "text": [
      "<class 'pandas.core.frame.DataFrame'>\n",
      "Int64Index: 270221 entries, 2 to 862434\n",
      "Data columns (total 12 columns):\n",
      " #   Column                 Non-Null Count   Dtype         \n",
      "---  ------                 --------------   -----         \n",
      " 0   complaint_id           270221 non-null  int64         \n",
      " 1   precinct               270221 non-null  int64         \n",
      " 2   offense_id             270221 non-null  int64         \n",
      " 3   location_of_complaint  225510 non-null  object        \n",
      " 4   offense                270209 non-null  object        \n",
      " 5   patrol_boro            269537 non-null  object        \n",
      " 6   specific_offense_id    269537 non-null  float64       \n",
      " 7   specific_offense       269537 non-null  object        \n",
      " 8   premises_type          268751 non-null  object        \n",
      " 9   latitude               270221 non-null  float64       \n",
      " 10  longitude              270221 non-null  float64       \n",
      " 11  complaint_date         270221 non-null  datetime64[ns]\n",
      "dtypes: datetime64[ns](1), float64(3), int64(3), object(5)\n",
      "memory usage: 26.8+ MB\n"
     ]
    }
   ],
   "source": [
    "clean_df.info()"
   ]
  },
  {
   "cell_type": "markdown",
   "metadata": {},
   "source": [
    "### Functions"
   ]
  },
  {
   "cell_type": "code",
   "execution_count": 17,
   "metadata": {},
   "outputs": [],
   "source": [
    "# function to take missing data and lookup other the missing values from a common search field\n",
    "def fill_missing_data(search_fld_vals, search_fld, missing_fld):\n",
    "    l = list(clean_df.loc[(clean_df[search_fld] == search_fld_vals) &\n",
    "                                ~(clean_df[missing_fld].isna())][missing_fld].unique())\n",
    "    if len(l) == 1:\n",
    "        clean_df.loc[(clean_df[search_fld] == search_fld_vals) & \n",
    "                     (clean_df[missing_fld].isna()), missing_fld] = l[0]\n",
    "        return l[0]\n",
    "    clean_df.loc[(clean_df[search_fld] == search_fld_vals) & \n",
    "                 (clean_df[missing_fld].isna()), missing_fld] = 'UNKNOWN'\n",
    "    return 'UNKNOWN'"
   ]
  },
  {
   "cell_type": "markdown",
   "metadata": {},
   "source": [
    "### Complaints"
   ]
  },
  {
   "cell_type": "code",
   "execution_count": 18,
   "metadata": {},
   "outputs": [
    {
     "data": {
      "text/plain": [
       "True"
      ]
     },
     "execution_count": 18,
     "metadata": {},
     "output_type": "execute_result"
    }
   ],
   "source": [
    "# check for uniqueness since this is the id field\n",
    "clean_df.complaint_id.is_unique"
   ]
  },
  {
   "cell_type": "code",
   "execution_count": 19,
   "metadata": {},
   "outputs": [
    {
     "name": "stdout",
     "output_type": "stream",
     "text": [
      "Min: 2019-01-01 00:00:00 \n",
      "Max: 2021-03-31 00:00:00\n"
     ]
    }
   ],
   "source": [
    "# check min and max complaint date are within expected range\n",
    "print(f\"Min: {clean_df.complaint_date.min()} \\nMax: {clean_df.complaint_date.max()}\")"
   ]
  },
  {
   "cell_type": "code",
   "execution_count": 20,
   "metadata": {},
   "outputs": [
    {
     "data": {
      "text/plain": [
       "INSIDE         137226\n",
       "FRONT OF        74731\n",
       "NaN             44711\n",
       "OPPOSITE OF      7768\n",
       "REAR OF          5330\n",
       "OUTSIDE           455\n",
       "Name: location_of_complaint, dtype: int64"
      ]
     },
     "execution_count": 20,
     "metadata": {},
     "output_type": "execute_result"
    }
   ],
   "source": [
    "# check values\n",
    "clean_df.location_of_complaint.value_counts(dropna=False)"
   ]
  },
  {
   "cell_type": "code",
   "execution_count": 21,
   "metadata": {},
   "outputs": [],
   "source": [
    "# handle na\n",
    "clean_df.location_of_complaint.fillna('UNKNOWN', inplace=True)"
   ]
  },
  {
   "cell_type": "code",
   "execution_count": 22,
   "metadata": {},
   "outputs": [
    {
     "data": {
      "text/plain": [
       "array(['ABANDONED BUILDING', 'AIRPORT TERMINAL', 'ATM', 'BANK',\n",
       "       'BAR/NIGHT CLUB', 'BEAUTY & NAIL SALON', 'BOOK/CARD', 'BRIDGE',\n",
       "       'BUS (NYC TRANSIT)', 'BUS (OTHER)', 'BUS STOP', 'BUS TERMINAL',\n",
       "       'CANDY STORE', 'CEMETERY', 'CHAIN STORE', 'CHECK CASHING BUSINESS',\n",
       "       'CHURCH', 'CLOTHING/BOUTIQUE', 'COMMERCIAL BUILDING',\n",
       "       'CONSTRUCTION SITE', 'DAYCARE FACILITY', 'DEPARTMENT STORE',\n",
       "       'DOCTOR/DENTIST OFFICE', 'DRUG STORE', 'DRY CLEANER/LAUNDRY',\n",
       "       'FACTORY/WAREHOUSE', 'FAST FOOD', 'FERRY/FERRY TERMINAL',\n",
       "       'FOOD SUPERMARKET', 'GAS STATION', 'GROCERY/BODEGA',\n",
       "       'GYM/FITNESS FACILITY', 'HIGHWAY/PARKWAY', 'HOMELESS SHELTER',\n",
       "       'HOSPITAL', 'HOTEL/MOTEL', 'JEWELRY', 'LIQUOR STORE',\n",
       "       'LOAN COMPANY', 'MAILBOX INSIDE', 'MAILBOX OUTSIDE', 'MARINA/PIER',\n",
       "       'MOSQUE', 'OPEN AREAS (OPEN LOTS)', 'OTHER',\n",
       "       'OTHER HOUSE OF WORSHIP', 'PARK/PLAYGROUND',\n",
       "       'PARKING LOT/GARAGE (PRIVATE)', 'PARKING LOT/GARAGE (PUBLIC)',\n",
       "       'PHOTO/COPY', 'PRIVATE/PAROCHIAL SCHOOL', 'PUBLIC BUILDING',\n",
       "       'PUBLIC SCHOOL', 'RESIDENCE - APT. HOUSE',\n",
       "       'RESIDENCE - PUBLIC HOUSING', 'RESIDENCE-HOUSE',\n",
       "       'RESTAURANT/DINER', 'SHOE', 'SMALL MERCHANT', 'SOCIAL CLUB/POLICY',\n",
       "       'STORAGE FACILITY', 'STORE UNCLASSIFIED', 'STREET', 'SYNAGOGUE',\n",
       "       'TAXI (LIVERY LICENSED)', 'TAXI (YELLOW LICENSED)',\n",
       "       'TAXI/LIVERY (UNLICENSED)', 'TELECOMM. STORE',\n",
       "       'TRANSIT FACILITY (OTHER)', 'TUNNEL', 'VARIETY STORE',\n",
       "       'VIDEO STORE', nan], dtype=object)"
      ]
     },
     "execution_count": 22,
     "metadata": {},
     "output_type": "execute_result"
    }
   ],
   "source": [
    "# check values\n",
    "clean_df.premises_type.sort_values().unique()"
   ]
  },
  {
   "cell_type": "code",
   "execution_count": 23,
   "metadata": {},
   "outputs": [],
   "source": [
    "# handle na\n",
    "clean_df.premises_type.fillna('UNKNOWN', inplace=True)"
   ]
  },
  {
   "cell_type": "code",
   "execution_count": 24,
   "metadata": {},
   "outputs": [
    {
     "data": {
      "text/html": [
       "<div>\n",
       "<style scoped>\n",
       "    .dataframe tbody tr th:only-of-type {\n",
       "        vertical-align: middle;\n",
       "    }\n",
       "\n",
       "    .dataframe tbody tr th {\n",
       "        vertical-align: top;\n",
       "    }\n",
       "\n",
       "    .dataframe thead th {\n",
       "        text-align: right;\n",
       "    }\n",
       "</style>\n",
       "<table border=\"1\" class=\"dataframe\">\n",
       "  <thead>\n",
       "    <tr style=\"text-align: right;\">\n",
       "      <th></th>\n",
       "      <th>complaint_id</th>\n",
       "      <th>complaint_date</th>\n",
       "      <th>location_of_complaint</th>\n",
       "      <th>premises_type</th>\n",
       "    </tr>\n",
       "  </thead>\n",
       "  <tbody>\n",
       "    <tr>\n",
       "      <th>2</th>\n",
       "      <td>294801329</td>\n",
       "      <td>2021-03-27</td>\n",
       "      <td>OUTSIDE</td>\n",
       "      <td>UNKNOWN</td>\n",
       "    </tr>\n",
       "    <tr>\n",
       "      <th>4</th>\n",
       "      <td>433883572</td>\n",
       "      <td>2021-03-26</td>\n",
       "      <td>INSIDE</td>\n",
       "      <td>SMALL MERCHANT</td>\n",
       "    </tr>\n",
       "    <tr>\n",
       "      <th>6</th>\n",
       "      <td>730095503</td>\n",
       "      <td>2021-03-22</td>\n",
       "      <td>UNKNOWN</td>\n",
       "      <td>STREET</td>\n",
       "    </tr>\n",
       "    <tr>\n",
       "      <th>8</th>\n",
       "      <td>900168985</td>\n",
       "      <td>2021-03-22</td>\n",
       "      <td>INSIDE</td>\n",
       "      <td>RESIDENCE - APT. HOUSE</td>\n",
       "    </tr>\n",
       "    <tr>\n",
       "      <th>11</th>\n",
       "      <td>507241260</td>\n",
       "      <td>2020-02-15</td>\n",
       "      <td>INSIDE</td>\n",
       "      <td>RESIDENCE - APT. HOUSE</td>\n",
       "    </tr>\n",
       "  </tbody>\n",
       "</table>\n",
       "</div>"
      ],
      "text/plain": [
       "    complaint_id complaint_date location_of_complaint           premises_type\n",
       "2      294801329     2021-03-27               OUTSIDE                 UNKNOWN\n",
       "4      433883572     2021-03-26                INSIDE          SMALL MERCHANT\n",
       "6      730095503     2021-03-22               UNKNOWN                  STREET\n",
       "8      900168985     2021-03-22                INSIDE  RESIDENCE - APT. HOUSE\n",
       "11     507241260     2020-02-15                INSIDE  RESIDENCE - APT. HOUSE"
      ]
     },
     "execution_count": 24,
     "metadata": {},
     "output_type": "execute_result"
    }
   ],
   "source": [
    "# get the complaints specific fields that will be loaded into heo4j\n",
    "complaint_data = clean_df.loc[:,['complaint_id', 'complaint_date', 'location_of_complaint', 'premises_type']]\n",
    "complaint_data.head()"
   ]
  },
  {
   "cell_type": "code",
   "execution_count": 25,
   "metadata": {},
   "outputs": [],
   "source": [
    "# export to csv\n",
    "complaint_data.to_csv('./data/imports_neo4j/complaints.csv', index=None)"
   ]
  },
  {
   "cell_type": "markdown",
   "metadata": {},
   "source": [
    "### Precinct Names"
   ]
  },
  {
   "cell_type": "code",
   "execution_count": 26,
   "metadata": {},
   "outputs": [
    {
     "data": {
      "text/plain": [
       "array([  1,   5,   6,   7,   9,  10,  13,  14,  17,  18,  19,  20,  22,\n",
       "        23,  24,  25,  26,  28,  30,  32,  33,  34,  40,  41,  42,  43,\n",
       "        44,  45,  46,  47,  48,  49,  50,  52,  60,  61,  62,  63,  66,\n",
       "        67,  68,  69,  70,  71,  72,  73,  75,  76,  77,  78,  79,  81,\n",
       "        83,  84,  88,  90,  94, 100, 101, 102, 103, 104, 105, 106, 107,\n",
       "       108, 109, 110, 111, 112, 113, 114, 115, 120, 121, 122, 123],\n",
       "      dtype=int64)"
      ]
     },
     "execution_count": 26,
     "metadata": {},
     "output_type": "execute_result"
    }
   ],
   "source": [
    "# check precinct values\n",
    "clean_df.precinct.sort_values().unique()"
   ]
  },
  {
   "cell_type": "code",
   "execution_count": 27,
   "metadata": {},
   "outputs": [],
   "source": [
    "# convert precinct to string\n",
    "clean_df['precinct'] = clean_df.precinct.astype('str')"
   ]
  },
  {
   "cell_type": "code",
   "execution_count": 28,
   "metadata": {},
   "outputs": [],
   "source": [
    "# prepend 'Precinct ' to the precinct field\n",
    "clean_df['precinct'] = 'Precinct ' + clean_df.precinct"
   ]
  },
  {
   "cell_type": "code",
   "execution_count": 29,
   "metadata": {},
   "outputs": [
    {
     "data": {
      "text/plain": [
       "PATROL BORO BRONX            54831\n",
       "PATROL BORO BKLYN SOUTH      41188\n",
       "PATROL BORO BKLYN NORTH      40936\n",
       "PATROL BORO MAN SOUTH        33385\n",
       "PATROL BORO MAN NORTH        30006\n",
       "PATROL BORO QUEENS NORTH     29887\n",
       "PATROL BORO QUEENS SOUTH     29746\n",
       "PATROL BORO STATEN ISLAND     9558\n",
       "NaN                            684\n",
       "Name: patrol_boro, dtype: int64"
      ]
     },
     "execution_count": 29,
     "metadata": {},
     "output_type": "execute_result"
    }
   ],
   "source": [
    "# view patrol boro categories\n",
    "clean_df.patrol_boro.value_counts(dropna=False)"
   ]
  },
  {
   "cell_type": "code",
   "execution_count": 30,
   "metadata": {},
   "outputs": [],
   "source": [
    "# remove the PATROL BORO text\n",
    "clean_df['patrol_boro'] = clean_df.patrol_boro.str.replace('PATROL BORO ', '')"
   ]
  },
  {
   "cell_type": "code",
   "execution_count": 31,
   "metadata": {
    "tags": []
   },
   "outputs": [],
   "source": [
    "# check for any records missing the patrol boro\n",
    "missing_patrol_boro = list(clean_df[clean_df.patrol_boro.isna()].precinct.unique())"
   ]
  },
  {
   "cell_type": "code",
   "execution_count": 32,
   "metadata": {
    "tags": []
   },
   "outputs": [
    {
     "data": {
      "text/plain": [
       "['BKLYN NORTH',\n",
       " 'QUEENS SOUTH',\n",
       " 'BKLYN SOUTH',\n",
       " 'BKLYN SOUTH',\n",
       " 'QUEENS SOUTH',\n",
       " 'BKLYN SOUTH',\n",
       " 'BRONX',\n",
       " 'BRONX',\n",
       " 'BKLYN NORTH',\n",
       " 'STATEN ISLAND',\n",
       " 'STATEN ISLAND',\n",
       " 'BRONX',\n",
       " 'BKLYN NORTH',\n",
       " 'BKLYN SOUTH',\n",
       " 'MAN NORTH',\n",
       " 'MAN SOUTH',\n",
       " 'MAN NORTH',\n",
       " 'BKLYN NORTH',\n",
       " 'QUEENS SOUTH',\n",
       " 'QUEENS NORTH',\n",
       " 'BKLYN SOUTH',\n",
       " 'MAN NORTH',\n",
       " 'BRONX',\n",
       " 'BRONX',\n",
       " 'MAN SOUTH',\n",
       " 'MAN NORTH',\n",
       " 'BKLYN NORTH',\n",
       " 'BRONX',\n",
       " 'BKLYN SOUTH',\n",
       " 'BRONX',\n",
       " 'QUEENS SOUTH',\n",
       " 'BKLYN SOUTH',\n",
       " 'MAN SOUTH',\n",
       " 'BRONX',\n",
       " 'BRONX',\n",
       " 'STATEN ISLAND',\n",
       " 'BRONX',\n",
       " 'QUEENS NORTH',\n",
       " 'MAN NORTH',\n",
       " 'MAN NORTH',\n",
       " 'BKLYN SOUTH',\n",
       " 'QUEENS SOUTH',\n",
       " 'QUEENS NORTH',\n",
       " 'BRONX',\n",
       " 'QUEENS NORTH',\n",
       " 'STATEN ISLAND',\n",
       " 'BRONX',\n",
       " 'QUEENS NORTH',\n",
       " 'MAN NORTH',\n",
       " 'MAN NORTH',\n",
       " 'BKLYN NORTH',\n",
       " 'QUEENS SOUTH',\n",
       " 'BKLYN SOUTH',\n",
       " 'MAN NORTH',\n",
       " 'MAN NORTH',\n",
       " 'QUEENS SOUTH',\n",
       " 'BKLYN NORTH',\n",
       " 'BKLYN NORTH',\n",
       " 'MAN SOUTH',\n",
       " 'MAN NORTH',\n",
       " 'MAN SOUTH',\n",
       " 'QUEENS SOUTH',\n",
       " 'MAN NORTH',\n",
       " 'BKLYN SOUTH',\n",
       " 'BKLYN SOUTH',\n",
       " 'MAN SOUTH',\n",
       " 'BKLYN SOUTH',\n",
       " 'QUEENS NORTH',\n",
       " 'MAN SOUTH',\n",
       " 'MAN SOUTH',\n",
       " 'BKLYN SOUTH',\n",
       " 'BKLYN NORTH',\n",
       " 'QUEENS NORTH',\n",
       " 'MAN SOUTH']"
      ]
     },
     "execution_count": 32,
     "metadata": {},
     "output_type": "execute_result"
    }
   ],
   "source": [
    "# call fucntionto run through missing patrol boros and fill them in\n",
    "[fill_missing_data(precinct, 'precinct', 'patrol_boro') for precinct in missing_patrol_boro]"
   ]
  },
  {
   "cell_type": "code",
   "execution_count": 33,
   "metadata": {},
   "outputs": [
    {
     "data": {
      "text/html": [
       "<div>\n",
       "<style scoped>\n",
       "    .dataframe tbody tr th:only-of-type {\n",
       "        vertical-align: middle;\n",
       "    }\n",
       "\n",
       "    .dataframe tbody tr th {\n",
       "        vertical-align: top;\n",
       "    }\n",
       "\n",
       "    .dataframe thead th {\n",
       "        text-align: right;\n",
       "    }\n",
       "</style>\n",
       "<table border=\"1\" class=\"dataframe\">\n",
       "  <thead>\n",
       "    <tr style=\"text-align: right;\">\n",
       "      <th></th>\n",
       "      <th>complaint_id</th>\n",
       "      <th>precinct</th>\n",
       "      <th>patrol_boro</th>\n",
       "    </tr>\n",
       "  </thead>\n",
       "  <tbody>\n",
       "    <tr>\n",
       "      <th>2</th>\n",
       "      <td>294801329</td>\n",
       "      <td>Precinct 75</td>\n",
       "      <td>BKLYN NORTH</td>\n",
       "    </tr>\n",
       "    <tr>\n",
       "      <th>4</th>\n",
       "      <td>433883572</td>\n",
       "      <td>Precinct 110</td>\n",
       "      <td>QUEENS NORTH</td>\n",
       "    </tr>\n",
       "    <tr>\n",
       "      <th>6</th>\n",
       "      <td>730095503</td>\n",
       "      <td>Precinct 52</td>\n",
       "      <td>BRONX</td>\n",
       "    </tr>\n",
       "    <tr>\n",
       "      <th>8</th>\n",
       "      <td>900168985</td>\n",
       "      <td>Precinct 43</td>\n",
       "      <td>BRONX</td>\n",
       "    </tr>\n",
       "    <tr>\n",
       "      <th>11</th>\n",
       "      <td>507241260</td>\n",
       "      <td>Precinct 46</td>\n",
       "      <td>BRONX</td>\n",
       "    </tr>\n",
       "  </tbody>\n",
       "</table>\n",
       "</div>"
      ],
      "text/plain": [
       "    complaint_id      precinct   patrol_boro\n",
       "2      294801329   Precinct 75   BKLYN NORTH\n",
       "4      433883572  Precinct 110  QUEENS NORTH\n",
       "6      730095503   Precinct 52         BRONX\n",
       "8      900168985   Precinct 43         BRONX\n",
       "11     507241260   Precinct 46         BRONX"
      ]
     },
     "execution_count": 33,
     "metadata": {},
     "output_type": "execute_result"
    }
   ],
   "source": [
    "# get the precinct specific fields that will be loaded into heo4j\n",
    "precincts = clean_df.loc[:,['complaint_id', 'precinct', 'patrol_boro']]\n",
    "precincts.head()"
   ]
  },
  {
   "cell_type": "code",
   "execution_count": 36,
   "metadata": {},
   "outputs": [
    {
     "name": "stdout",
     "output_type": "stream",
     "text": [
      "<class 'pandas.core.frame.DataFrame'>\n",
      "RangeIndex: 77 entries, 0 to 76\n",
      "Data columns (total 2 columns):\n",
      " #   Column    Non-Null Count  Dtype \n",
      "---  ------    --------------  ----- \n",
      " 0   area      77 non-null     object\n",
      " 1   precinct  77 non-null     int64 \n",
      "dtypes: int64(1), object(1)\n",
      "memory usage: 1.3+ KB\n"
     ]
    }
   ],
   "source": [
    "# get precinct area from nypd precincts file\n",
    "precinct_area = pd.read_csv('./data/nypd_precincts.csv')\n",
    "precinct_area.info()"
   ]
  },
  {
   "cell_type": "code",
   "execution_count": 37,
   "metadata": {},
   "outputs": [],
   "source": [
    "# remove commas from area so it can be converted to float\n",
    "precinct_area['area'] = precinct_area.area.str.replace(',','')"
   ]
  },
  {
   "cell_type": "code",
   "execution_count": 38,
   "metadata": {},
   "outputs": [],
   "source": [
    "# convert area to float\n",
    "precinct_area['area'] = precinct_area.area.astype(float)"
   ]
  },
  {
   "cell_type": "code",
   "execution_count": 39,
   "metadata": {},
   "outputs": [
    {
     "data": {
      "text/html": [
       "<div>\n",
       "<style scoped>\n",
       "    .dataframe tbody tr th:only-of-type {\n",
       "        vertical-align: middle;\n",
       "    }\n",
       "\n",
       "    .dataframe tbody tr th {\n",
       "        vertical-align: top;\n",
       "    }\n",
       "\n",
       "    .dataframe thead th {\n",
       "        text-align: right;\n",
       "    }\n",
       "</style>\n",
       "<table border=\"1\" class=\"dataframe\">\n",
       "  <thead>\n",
       "    <tr style=\"text-align: right;\">\n",
       "      <th></th>\n",
       "      <th>area</th>\n",
       "      <th>precinct</th>\n",
       "    </tr>\n",
       "  </thead>\n",
       "  <tbody>\n",
       "    <tr>\n",
       "      <th>0</th>\n",
       "      <td>4.731589e+07</td>\n",
       "      <td>1</td>\n",
       "    </tr>\n",
       "    <tr>\n",
       "      <th>1</th>\n",
       "      <td>1.808880e+07</td>\n",
       "      <td>5</td>\n",
       "    </tr>\n",
       "    <tr>\n",
       "      <th>2</th>\n",
       "      <td>2.209819e+07</td>\n",
       "      <td>6</td>\n",
       "    </tr>\n",
       "    <tr>\n",
       "      <th>3</th>\n",
       "      <td>4.533179e+07</td>\n",
       "      <td>71</td>\n",
       "    </tr>\n",
       "    <tr>\n",
       "      <th>4</th>\n",
       "      <td>1.046213e+08</td>\n",
       "      <td>72</td>\n",
       "    </tr>\n",
       "    <tr>\n",
       "      <th>...</th>\n",
       "      <td>...</td>\n",
       "      <td>...</td>\n",
       "    </tr>\n",
       "    <tr>\n",
       "      <th>72</th>\n",
       "      <td>1.133427e+08</td>\n",
       "      <td>115</td>\n",
       "    </tr>\n",
       "    <tr>\n",
       "      <th>73</th>\n",
       "      <td>2.323947e+08</td>\n",
       "      <td>120</td>\n",
       "    </tr>\n",
       "    <tr>\n",
       "      <th>74</th>\n",
       "      <td>4.756087e+08</td>\n",
       "      <td>121</td>\n",
       "    </tr>\n",
       "    <tr>\n",
       "      <th>75</th>\n",
       "      <td>4.548033e+08</td>\n",
       "      <td>122</td>\n",
       "    </tr>\n",
       "    <tr>\n",
       "      <th>76</th>\n",
       "      <td>4.608700e+08</td>\n",
       "      <td>123</td>\n",
       "    </tr>\n",
       "  </tbody>\n",
       "</table>\n",
       "<p>77 rows × 2 columns</p>\n",
       "</div>"
      ],
      "text/plain": [
       "            area  precinct\n",
       "0   4.731589e+07         1\n",
       "1   1.808880e+07         5\n",
       "2   2.209819e+07         6\n",
       "3   4.533179e+07        71\n",
       "4   1.046213e+08        72\n",
       "..           ...       ...\n",
       "72  1.133427e+08       115\n",
       "73  2.323947e+08       120\n",
       "74  4.756087e+08       121\n",
       "75  4.548033e+08       122\n",
       "76  4.608700e+08       123\n",
       "\n",
       "[77 rows x 2 columns]"
      ]
     },
     "execution_count": 39,
     "metadata": {},
     "output_type": "execute_result"
    }
   ],
   "source": [
    "precinct_area"
   ]
  },
  {
   "cell_type": "code",
   "execution_count": 40,
   "metadata": {},
   "outputs": [],
   "source": [
    "# convert precinct to string\n",
    "precinct_area['precinct'] = precinct_area.precinct.astype('str')"
   ]
  },
  {
   "cell_type": "code",
   "execution_count": 41,
   "metadata": {},
   "outputs": [
    {
     "data": {
      "text/html": [
       "<div>\n",
       "<style scoped>\n",
       "    .dataframe tbody tr th:only-of-type {\n",
       "        vertical-align: middle;\n",
       "    }\n",
       "\n",
       "    .dataframe tbody tr th {\n",
       "        vertical-align: top;\n",
       "    }\n",
       "\n",
       "    .dataframe thead th {\n",
       "        text-align: right;\n",
       "    }\n",
       "</style>\n",
       "<table border=\"1\" class=\"dataframe\">\n",
       "  <thead>\n",
       "    <tr style=\"text-align: right;\">\n",
       "      <th></th>\n",
       "      <th>area</th>\n",
       "      <th>precinct</th>\n",
       "    </tr>\n",
       "  </thead>\n",
       "  <tbody>\n",
       "    <tr>\n",
       "      <th>0</th>\n",
       "      <td>4.731589e+07</td>\n",
       "      <td>Precinct 1</td>\n",
       "    </tr>\n",
       "    <tr>\n",
       "      <th>1</th>\n",
       "      <td>1.808880e+07</td>\n",
       "      <td>Precinct 5</td>\n",
       "    </tr>\n",
       "    <tr>\n",
       "      <th>2</th>\n",
       "      <td>2.209819e+07</td>\n",
       "      <td>Precinct 6</td>\n",
       "    </tr>\n",
       "    <tr>\n",
       "      <th>3</th>\n",
       "      <td>4.533179e+07</td>\n",
       "      <td>Precinct 71</td>\n",
       "    </tr>\n",
       "    <tr>\n",
       "      <th>4</th>\n",
       "      <td>1.046213e+08</td>\n",
       "      <td>Precinct 72</td>\n",
       "    </tr>\n",
       "    <tr>\n",
       "      <th>...</th>\n",
       "      <td>...</td>\n",
       "      <td>...</td>\n",
       "    </tr>\n",
       "    <tr>\n",
       "      <th>72</th>\n",
       "      <td>1.133427e+08</td>\n",
       "      <td>Precinct 115</td>\n",
       "    </tr>\n",
       "    <tr>\n",
       "      <th>73</th>\n",
       "      <td>2.323947e+08</td>\n",
       "      <td>Precinct 120</td>\n",
       "    </tr>\n",
       "    <tr>\n",
       "      <th>74</th>\n",
       "      <td>4.756087e+08</td>\n",
       "      <td>Precinct 121</td>\n",
       "    </tr>\n",
       "    <tr>\n",
       "      <th>75</th>\n",
       "      <td>4.548033e+08</td>\n",
       "      <td>Precinct 122</td>\n",
       "    </tr>\n",
       "    <tr>\n",
       "      <th>76</th>\n",
       "      <td>4.608700e+08</td>\n",
       "      <td>Precinct 123</td>\n",
       "    </tr>\n",
       "  </tbody>\n",
       "</table>\n",
       "<p>77 rows × 2 columns</p>\n",
       "</div>"
      ],
      "text/plain": [
       "            area      precinct\n",
       "0   4.731589e+07    Precinct 1\n",
       "1   1.808880e+07    Precinct 5\n",
       "2   2.209819e+07    Precinct 6\n",
       "3   4.533179e+07   Precinct 71\n",
       "4   1.046213e+08   Precinct 72\n",
       "..           ...           ...\n",
       "72  1.133427e+08  Precinct 115\n",
       "73  2.323947e+08  Precinct 120\n",
       "74  4.756087e+08  Precinct 121\n",
       "75  4.548033e+08  Precinct 122\n",
       "76  4.608700e+08  Precinct 123\n",
       "\n",
       "[77 rows x 2 columns]"
      ]
     },
     "execution_count": 41,
     "metadata": {},
     "output_type": "execute_result"
    }
   ],
   "source": [
    "# prepend 'Precinct ' to the precinct field\n",
    "precinct_area['precinct'] = 'Precinct ' + precinct_area.precinct\n",
    "precinct_area"
   ]
  },
  {
   "cell_type": "code",
   "execution_count": 42,
   "metadata": {},
   "outputs": [
    {
     "data": {
      "text/html": [
       "<div>\n",
       "<style scoped>\n",
       "    .dataframe tbody tr th:only-of-type {\n",
       "        vertical-align: middle;\n",
       "    }\n",
       "\n",
       "    .dataframe tbody tr th {\n",
       "        vertical-align: top;\n",
       "    }\n",
       "\n",
       "    .dataframe thead th {\n",
       "        text-align: right;\n",
       "    }\n",
       "</style>\n",
       "<table border=\"1\" class=\"dataframe\">\n",
       "  <thead>\n",
       "    <tr style=\"text-align: right;\">\n",
       "      <th></th>\n",
       "      <th>complaint_id</th>\n",
       "      <th>precinct</th>\n",
       "      <th>patrol_boro</th>\n",
       "      <th>area</th>\n",
       "    </tr>\n",
       "  </thead>\n",
       "  <tbody>\n",
       "    <tr>\n",
       "      <th>0</th>\n",
       "      <td>294801329</td>\n",
       "      <td>Precinct 75</td>\n",
       "      <td>BKLYN NORTH</td>\n",
       "      <td>1.803843e+08</td>\n",
       "    </tr>\n",
       "    <tr>\n",
       "      <th>1</th>\n",
       "      <td>444277080</td>\n",
       "      <td>Precinct 75</td>\n",
       "      <td>BKLYN NORTH</td>\n",
       "      <td>1.803843e+08</td>\n",
       "    </tr>\n",
       "    <tr>\n",
       "      <th>2</th>\n",
       "      <td>415582914</td>\n",
       "      <td>Precinct 75</td>\n",
       "      <td>BKLYN NORTH</td>\n",
       "      <td>1.803843e+08</td>\n",
       "    </tr>\n",
       "    <tr>\n",
       "      <th>3</th>\n",
       "      <td>896161140</td>\n",
       "      <td>Precinct 75</td>\n",
       "      <td>BKLYN NORTH</td>\n",
       "      <td>1.803843e+08</td>\n",
       "    </tr>\n",
       "    <tr>\n",
       "      <th>4</th>\n",
       "      <td>413986979</td>\n",
       "      <td>Precinct 75</td>\n",
       "      <td>BKLYN NORTH</td>\n",
       "      <td>1.803843e+08</td>\n",
       "    </tr>\n",
       "    <tr>\n",
       "      <th>...</th>\n",
       "      <td>...</td>\n",
       "      <td>...</td>\n",
       "      <td>...</td>\n",
       "      <td>...</td>\n",
       "    </tr>\n",
       "    <tr>\n",
       "      <th>270216</th>\n",
       "      <td>215729359</td>\n",
       "      <td>Precinct 78</td>\n",
       "      <td>BKLYN SOUTH</td>\n",
       "      <td>6.767711e+07</td>\n",
       "    </tr>\n",
       "    <tr>\n",
       "      <th>270217</th>\n",
       "      <td>731445070</td>\n",
       "      <td>Precinct 78</td>\n",
       "      <td>BKLYN SOUTH</td>\n",
       "      <td>6.767711e+07</td>\n",
       "    </tr>\n",
       "    <tr>\n",
       "      <th>270218</th>\n",
       "      <td>959502021</td>\n",
       "      <td>Precinct 78</td>\n",
       "      <td>BKLYN SOUTH</td>\n",
       "      <td>6.767711e+07</td>\n",
       "    </tr>\n",
       "    <tr>\n",
       "      <th>270219</th>\n",
       "      <td>520929376</td>\n",
       "      <td>Precinct 78</td>\n",
       "      <td>BKLYN SOUTH</td>\n",
       "      <td>6.767711e+07</td>\n",
       "    </tr>\n",
       "    <tr>\n",
       "      <th>270220</th>\n",
       "      <td>227897511</td>\n",
       "      <td>Precinct 78</td>\n",
       "      <td>BKLYN SOUTH</td>\n",
       "      <td>6.767711e+07</td>\n",
       "    </tr>\n",
       "  </tbody>\n",
       "</table>\n",
       "<p>270221 rows × 4 columns</p>\n",
       "</div>"
      ],
      "text/plain": [
       "        complaint_id     precinct  patrol_boro          area\n",
       "0          294801329  Precinct 75  BKLYN NORTH  1.803843e+08\n",
       "1          444277080  Precinct 75  BKLYN NORTH  1.803843e+08\n",
       "2          415582914  Precinct 75  BKLYN NORTH  1.803843e+08\n",
       "3          896161140  Precinct 75  BKLYN NORTH  1.803843e+08\n",
       "4          413986979  Precinct 75  BKLYN NORTH  1.803843e+08\n",
       "...              ...          ...          ...           ...\n",
       "270216     215729359  Precinct 78  BKLYN SOUTH  6.767711e+07\n",
       "270217     731445070  Precinct 78  BKLYN SOUTH  6.767711e+07\n",
       "270218     959502021  Precinct 78  BKLYN SOUTH  6.767711e+07\n",
       "270219     520929376  Precinct 78  BKLYN SOUTH  6.767711e+07\n",
       "270220     227897511  Precinct 78  BKLYN SOUTH  6.767711e+07\n",
       "\n",
       "[270221 rows x 4 columns]"
      ]
     },
     "execution_count": 42,
     "metadata": {},
     "output_type": "execute_result"
    }
   ],
   "source": [
    "# merged precincts and precincts area data frames\n",
    "precincts_merged = precincts.merge(precinct_area, how='outer', on='precinct')\n",
    "precincts_merged"
   ]
  },
  {
   "cell_type": "code",
   "execution_count": 43,
   "metadata": {},
   "outputs": [
    {
     "data": {
      "text/plain": [
       "0"
      ]
     },
     "execution_count": 43,
     "metadata": {},
     "output_type": "execute_result"
    }
   ],
   "source": [
    "# check that every precinct has an area\n",
    "precincts_merged.area.isna().sum()"
   ]
  },
  {
   "cell_type": "code",
   "execution_count": 44,
   "metadata": {},
   "outputs": [],
   "source": [
    "# export to csv\n",
    "precincts_merged.to_csv('./data/imports_neo4j/precincts.csv', index=None)"
   ]
  },
  {
   "cell_type": "markdown",
   "metadata": {},
   "source": [
    "### General Offenses"
   ]
  },
  {
   "cell_type": "code",
   "execution_count": 45,
   "metadata": {},
   "outputs": [
    {
     "data": {
      "text/plain": [
       "array(['ARSON', 'BURGLARY', 'CHILD ABANDONMENT/NON SUPPORT',\n",
       "       'CRIMINAL MISCHIEF & RELATED OF', 'DANGEROUS DRUGS',\n",
       "       'DANGEROUS WEAPONS', 'ENDAN WELFARE INCOMP', 'FELONY ASSAULT',\n",
       "       'FELONY SEX CRIMES', 'FORGERY', 'GAMBLING', 'GRAND LARCENY',\n",
       "       'GRAND LARCENY OF MOTOR VEHICLE', 'HOMICIDE-NEGLIGENT,UNCLASSIFIE',\n",
       "       'HOMICIDE-NEGLIGENT-VEHICLE', 'INTOXICATED/IMPAIRED DRIVING',\n",
       "       'KIDNAPPING', 'KIDNAPPING & RELATED OFFENSES',\n",
       "       'KIDNAPPING AND RELATED OFFENSES', 'MISCELLANEOUS PENAL LAW',\n",
       "       'MURDER & NON-NEGL. MANSLAUGHTER', 'NYS LAWS-UNCLASSIFIED FELONY',\n",
       "       'OTHER STATE LAWS (NON PENAL LA', 'POSSESSION OF STOLEN PROPERTY',\n",
       "       'PROSTITUTION & RELATED OFFENSES', 'RAPE', 'ROBBERY', 'SEX CRIMES',\n",
       "       'THEFT-FRAUD', nan], dtype=object)"
      ]
     },
     "execution_count": 45,
     "metadata": {},
     "output_type": "execute_result"
    }
   ],
   "source": [
    "clean_df.offense.sort_values().unique()"
   ]
  },
  {
   "cell_type": "code",
   "execution_count": 46,
   "metadata": {},
   "outputs": [],
   "source": [
    "# replace duplicate category\n",
    "clean_df.loc[clean_df.offense == \"KIDNAPPING AND RELATED OFFENSES\", 'offense'] = 'KIDNAPPING & RELATED OFFENSES'"
   ]
  },
  {
   "cell_type": "code",
   "execution_count": 47,
   "metadata": {},
   "outputs": [],
   "source": [
    "# convert offense id to string\n",
    "clean_df['offense_id'] = clean_df.offense_id.astype(str)"
   ]
  },
  {
   "cell_type": "code",
   "execution_count": 48,
   "metadata": {},
   "outputs": [
    {
     "data": {
      "text/plain": [
       "array(['101', '113', '105', '107', '104', '109', '118', '106', '117',\n",
       "       '110', '125', '126', '111', '112', '121', '114', '124', '116',\n",
       "       '122', '120', '119', '115', '102', '103', '361'], dtype=object)"
      ]
     },
     "execution_count": 48,
     "metadata": {},
     "output_type": "execute_result"
    }
   ],
   "source": [
    "clean_df.offense_id.unique()"
   ]
  },
  {
   "cell_type": "code",
   "execution_count": 49,
   "metadata": {},
   "outputs": [
    {
     "data": {
      "text/plain": [
       "['126', '361']"
      ]
     },
     "execution_count": 49,
     "metadata": {},
     "output_type": "execute_result"
    }
   ],
   "source": [
    "# check for any records missing the patrol boro\n",
    "missing_offense = list(clean_df[clean_df.offense.isna()].offense_id.unique())\n",
    "missing_offense"
   ]
  },
  {
   "cell_type": "code",
   "execution_count": 50,
   "metadata": {},
   "outputs": [
    {
     "data": {
      "text/plain": [
       "['MISCELLANEOUS PENAL LAW', 'UNKNOWN']"
      ]
     },
     "execution_count": 50,
     "metadata": {},
     "output_type": "execute_result"
    }
   ],
   "source": [
    "[fill_missing_data(o, 'offense_id', 'offense') for o in missing_offense]"
   ]
  },
  {
   "cell_type": "code",
   "execution_count": 51,
   "metadata": {},
   "outputs": [
    {
     "data": {
      "text/html": [
       "<div>\n",
       "<style scoped>\n",
       "    .dataframe tbody tr th:only-of-type {\n",
       "        vertical-align: middle;\n",
       "    }\n",
       "\n",
       "    .dataframe tbody tr th {\n",
       "        vertical-align: top;\n",
       "    }\n",
       "\n",
       "    .dataframe thead th {\n",
       "        text-align: right;\n",
       "    }\n",
       "</style>\n",
       "<table border=\"1\" class=\"dataframe\">\n",
       "  <thead>\n",
       "    <tr style=\"text-align: right;\">\n",
       "      <th></th>\n",
       "      <th>complaint_id</th>\n",
       "      <th>offense</th>\n",
       "      <th>offense_id</th>\n",
       "    </tr>\n",
       "  </thead>\n",
       "  <tbody>\n",
       "    <tr>\n",
       "      <th>2</th>\n",
       "      <td>294801329</td>\n",
       "      <td>MURDER &amp; NON-NEGL. MANSLAUGHTER</td>\n",
       "      <td>101</td>\n",
       "    </tr>\n",
       "    <tr>\n",
       "      <th>4</th>\n",
       "      <td>433883572</td>\n",
       "      <td>FORGERY</td>\n",
       "      <td>113</td>\n",
       "    </tr>\n",
       "    <tr>\n",
       "      <th>6</th>\n",
       "      <td>730095503</td>\n",
       "      <td>ROBBERY</td>\n",
       "      <td>105</td>\n",
       "    </tr>\n",
       "    <tr>\n",
       "      <th>8</th>\n",
       "      <td>900168985</td>\n",
       "      <td>BURGLARY</td>\n",
       "      <td>107</td>\n",
       "    </tr>\n",
       "    <tr>\n",
       "      <th>11</th>\n",
       "      <td>507241260</td>\n",
       "      <td>RAPE</td>\n",
       "      <td>104</td>\n",
       "    </tr>\n",
       "  </tbody>\n",
       "</table>\n",
       "</div>"
      ],
      "text/plain": [
       "    complaint_id                          offense offense_id\n",
       "2      294801329  MURDER & NON-NEGL. MANSLAUGHTER        101\n",
       "4      433883572                          FORGERY        113\n",
       "6      730095503                          ROBBERY        105\n",
       "8      900168985                         BURGLARY        107\n",
       "11     507241260                             RAPE        104"
      ]
     },
     "execution_count": 51,
     "metadata": {},
     "output_type": "execute_result"
    }
   ],
   "source": [
    "# get the general offense specific fields that will be loaded into heo4j\n",
    "general_offenses = clean_df.loc[:,['complaint_id', 'offense', 'offense_id']]\n",
    "general_offenses.head()"
   ]
  },
  {
   "cell_type": "code",
   "execution_count": 52,
   "metadata": {},
   "outputs": [],
   "source": [
    "# export to csv\n",
    "general_offenses.to_csv('./data/imports_neo4j/general_offenses.csv', index=None)"
   ]
  },
  {
   "cell_type": "markdown",
   "metadata": {},
   "source": [
    "### Specific Offenses"
   ]
  },
  {
   "cell_type": "code",
   "execution_count": 53,
   "metadata": {},
   "outputs": [
    {
     "data": {
      "text/plain": [
       "array([100., 102., 103., 104., 105., 106., 107., 108., 109., 110., 112.,\n",
       "       117., 122., 125., 153., 155., 157., 159., 164., 166., 168., 176.,\n",
       "       177., 179., 180., 183., 184., 185., 186., 187., 193., 197., 198.,\n",
       "       199., 204., 211., 213., 214., 221., 223., 224., 231., 233., 234.,\n",
       "       241., 243., 244., 261., 263., 264., 265., 266., 267., 268., 269.,\n",
       "       273., 285., 291., 293., 299., 360., 361., 363., 365., 366., 367.,\n",
       "       371., 373., 375., 377., 379., 380., 381., 382., 383., 384., 385.,\n",
       "       386., 387., 388., 389., 390., 391., 392., 393., 394., 395., 396.,\n",
       "       397., 398., 399., 401., 402., 403., 404., 405., 406., 407., 408.,\n",
       "       409., 410., 411., 412., 414., 415., 416., 417., 418., 419., 420.,\n",
       "       421., 422., 423., 424., 425., 426., 428., 430., 431., 432., 433.,\n",
       "       434., 435., 437., 438., 439., 440., 441., 442., 443., 445., 450.,\n",
       "       451., 455., 457., 458., 459., 461., 489., 493., 494., 500., 501.,\n",
       "       502., 503., 505., 507., 510., 512., 514., 515., 519., 520., 521.,\n",
       "       524., 529., 530., 531., 532., 553., 557., 568., 570., 584., 585.,\n",
       "       586., 587., 594., 596., 640., 641., 644., 648., 663., 664., 665.,\n",
       "       672., 674., 691., 694., 695., 696., 697., 698., 708., 711., 723.,\n",
       "       724., 725., 727., 729., 730., 739., 760., 761., 762., 764., 766.,\n",
       "       772., 775., 779., 780., 781., 792., 793., 808., 844., 847., 904.,\n",
       "        nan])"
      ]
     },
     "execution_count": 53,
     "metadata": {},
     "output_type": "execute_result"
    }
   ],
   "source": [
    "clean_df.specific_offense_id.sort_values().unique()"
   ]
  },
  {
   "cell_type": "code",
   "execution_count": 54,
   "metadata": {
    "tags": []
   },
   "outputs": [
    {
     "data": {
      "text/plain": [
       "array([nan, 'FORGERY,ETC.,UNCLASSIFIED-FELO',\n",
       "       'ROBBERY,PERSONAL ELECTRONIC DEVICE', 'BURGLARY,RESIDENCE,DAY',\n",
       "       'RAPE 2', 'LARCENY,GRAND FROM PERSON, BAG OPEN/DIP',\n",
       "       'WEAPONS POSSESSION 3', 'ASSAULT 2,1,UNCLASSIFIED',\n",
       "       'CONTROLLED SUBSTANCE,POSSESS.', 'BURGLARY,COMMERCIAL,DAY',\n",
       "       'LARCENY,GRAND OF BICYCLE', 'FORGERY,DRIVERS LICENSE',\n",
       "       'LARCENY,GRAND OF AUTO', 'NY STATE LAWS,UNCLASSIFIED FEL',\n",
       "       'FORGERY,M.V. REGISTRATION', 'LARCENY,GRAND FROM STORE-SHOPL',\n",
       "       'CRIMINAL CONTEMPT 1', 'RECKLESS ENDANGERMENT 1',\n",
       "       'BURGLARY,TRUCK DAY', 'ROBBERY,OPEN AREA UNCLASSIFIED',\n",
       "       'STOLEN PROPERTY 2,1,POSSESSION',\n",
       "       'LARCENY,GRAND BY OPEN CREDIT CARD (NEW ACCT)',\n",
       "       'LARCENY,GRAND FROM VEHICLE/MOTORCYCLE',\n",
       "       'LARCENY,GRAND FROM RETAIL STORE, UNATTENDED',\n",
       "       'ROBBERY,BEGIN AS SHOPLIFTING', 'LARCENY,GRAND PERSON,NECK CHAI',\n",
       "       'LARCENY,GRAND FROM PERSON,PICK', 'FRAUD,UNCLASSIFIED-FELONY',\n",
       "       'CRIMINAL MIS 2 & 3',\n",
       "       'LARCENY,GRAND OF VEHICULAR/MOTORCYCLE ACCESSORIES',\n",
       "       'MISCHIEF, CRIMINAL 3 & 2, OF M', 'LARCENY,GRAND FROM PERSON,UNCL',\n",
       "       'MISCHIEF,CRIMINAL,    UNCL 2ND',\n",
       "       'ROBBERY,COMMERCIAL UNCLASSIFIED',\n",
       "       'LARCENY,GRAND FROM EATERY, UNATTENDED',\n",
       "       'LARCENY,GRAND BY CREDIT CARD ACCT COMPROMISE-EXISTING ACCT',\n",
       "       'ROBBERY,DWELLING',\n",
       "       'LARCENY,GRAND BY BANK ACCT COMPROMISE-UNCLASSIFIED',\n",
       "       'LARCENY,GRAND BY DISHONEST EMP',\n",
       "       'LARCENY,GRAND FROM OPEN AREAS, UNATTENDED',\n",
       "       'MAKING TERRORISTIC THREAT', 'BURGLARY,TRUCK NIGHT',\n",
       "       'LARCENY,GRAND OF MOTORCYCLE',\n",
       "       'LARCENY,GRAND BY BANK ACCT COMPROMISE-ATM TRANSACTION',\n",
       "       'BURGLARY,COMMERCIAL,NIGHT',\n",
       "       'ASSAULT OTHER PUBLIC SERVICE EMPLOYEE', 'STRANGULATION 1ST',\n",
       "       'ARSON, MOTOR VEHICLE 1 2 3 & 4', 'WEAPONS POSSESSION 1 & 2',\n",
       "       'LARCENY,GRAND BY OPEN/COMPROMISE CELL PHONE ACCT',\n",
       "       'LARCENY,GRAND BY THEFT OF CREDIT CARD',\n",
       "       'LARCENY,GRAND FROM BUILDING (NON-RESIDENCE) UNATTENDED', 'RAPE 1',\n",
       "       'ROBBERY,BANK', 'BURGLARY,COMMERCIAL,UNKNOWN TI',\n",
       "       'LARCENY,GRAND FROM PERSON,LUSH WORKER(SLEEPING/UNCON VICTIM)',\n",
       "       'CONTROLLED SUBSTANCE,INTENT TO', 'ASSAULT POLICE/PEACE OFFICER',\n",
       "       'LARCENY,GRAND FROM RESIDENCE, UNATTENDED',\n",
       "       'LARCENY,GRAND FROM RESIDENCE/BUILDING,UNATTENDED, PACKAGE THEFT INSIDE',\n",
       "       'CONTROLLED SUBSTANCE, INTENT T', 'LARCENY,GRAND BY EXTORTION',\n",
       "       'CONTROLLED SUBSTANCE, SALE 5',\n",
       "       'LARCENY,GRAND BY FALSE PROMISE-NOT IN PERSON CONTACT',\n",
       "       'ROBBERY,BODEGA/CONVENIENCE STORE',\n",
       "       'LARCENY,GRAND FROM PERSON,PURS', 'BURGLARY,RESIDENCE,UNKNOWN TIM',\n",
       "       'BURGLARY,RESIDENCE,NIGHT', 'ROBBERY,POCKETBOOK/CARRIED BAG',\n",
       "       'ROBBERY,CLOTHING', 'CUSTODIAL INTERFERENCE 1',\n",
       "       'MARIJUANA, POSSESSION 1, 2 & 3', 'AGGRAVATED CRIMINAL CONTEMPT',\n",
       "       'ROBBERY,LICENSED FOR HIRE VEHICLE', 'ROBBERY,BICYCLE',\n",
       "       'CONTROLLED SUBSTANCE,SALE 3', 'ROBBERY,ATM LOCATION',\n",
       "       'ROBBERY,PUBLIC PLACE INSIDE', 'LARCENY,GRAND BY OPEN BANK ACCT',\n",
       "       'ROBBERY,NECKCHAIN/JEWELRY', 'ARSON 2,3,4', 'ROBBERY, CHAIN STORE',\n",
       "       'MENACING 1ST DEGREE (VICT PEAC', 'ROBBERY,HOME INVASION',\n",
       "       'RAPE 3', 'UNAUTHORIZED USE VEHICLE 2',\n",
       "       'LARCENY,GRAND FROM PERSON,PERSONAL ELECTRONIC DEVICE(SNATCH)',\n",
       "       'CONTROLLED SUBSTANCE, POSSESSI', 'ROBBERY,BAR/RESTAURANT',\n",
       "       'AGGRAVATED HARASSMENT 1', 'LARCENY, GRAND OF MOPED',\n",
       "       'BURGLARY,UNCLASSIFIED,NIGHT', 'SEXUAL ABUSE',\n",
       "       'LARCENY,GRAND BY IDENTITY THEFT-UNCLASSIFIED',\n",
       "       'LARCENY,GRAND BY FALSE PROMISE-IN PERSON CONTACT',\n",
       "       'LARCENY,GRAND BY ACQUIRING LOST CREDIT CARD',\n",
       "       'ROBBERY,CAR JACKING', 'CONTROLLED SUBSTANCE,SALE 1',\n",
       "       'CONTROLLED SUBSTANCE,SALE 2', 'SODOMY 1',\n",
       "       'LARCENY,GRAND BY BANK ACCT COMPROMISE-REPRODUCED CHECK',\n",
       "       'LARCENY,GRAND FROM RESIDENCE/BUILDING,UNATTENDED, PACKAGE THEFT OUTSIDE',\n",
       "       'LARCENY,GRAND BY BANK ACCT COMPROMISE-UNAUTHORIZED PURCHASE',\n",
       "       'ROBBERY,DELIVERY PERSON', 'ROBBERY,RESIDENTIAL COMMON AREA',\n",
       "       'FORGERY-ILLEGAL POSSESSION,VEH', 'CRIMINAL DISPOSAL FIREARM 1 &',\n",
       "       'RAPE 1,ATTEMPT', 'BURGLARY, TRUCK UNKNOWN TIME',\n",
       "       'MENACING 1ST DEGREE (VICT NOT', 'LARCENY,GRAND BY ACQUIRING LOS',\n",
       "       'SODOMY 3', 'KIDNAPPING 1',\n",
       "       'LARCENY,GRAND BY BANK ACCT COMPROMISE-TELLER',\n",
       "       'MISCHIEF, CRIMINAL 3&2, BY FIR', 'BURGLARY,UNCLASSIFIED,DAY',\n",
       "       'OBSCENE MATERIAL - UNDER 17 YE', 'PUBLIC ADMINISTRATION,UNCLASSI',\n",
       "       'THEFT,RELATED OFFENSES,UNCLASS', 'OBSCENITY 1',\n",
       "       'LARCENY,GRAND FROM TRUCK, UNATTENDED',\n",
       "       'BURGLARY,UNCLASSIFIED,UNKNOWN', 'IMPERSONATION 1, POLICE OFFICE',\n",
       "       'LARCENY,GRAND OF TRUCK', 'GAMBLING 1,PROMOTING,BOOKMAKIN',\n",
       "       'TRESPASS 1,CRIMINAL', 'LARCENY,GRAND FROM PIER, UNATTENDED',\n",
       "       'STOLEN PROPERTY-MOTOR VEH 2ND,', 'COERCION 1',\n",
       "       'LARCENY,GRAND FROM NIGHT CLUB, UNATTENDED',\n",
       "       'AGGRAVATED SEXUAL ASBUSE', 'BRIBERY,PUBLIC ADMINISTRATION',\n",
       "       'FALSE REPORT 1,FIRE', 'BRIBERY, POLICE OFFICER',\n",
       "       'ASSAULT TRAFFIC AGENT', 'CAUSE SPI/KILL ANIMAL',\n",
       "       'IMPRISONMENT 1,UNLAWFUL', 'STALKING COMMIT SEX OFFENSE',\n",
       "       'ROBBERY,ON BUS/ OR BUS DRIVER', 'ROBBERY,LICENSED MEDALLION CAB',\n",
       "       'SALE SCHOOL GROUNDS 4', 'MARIJUANA, SALE 1, 2 & 3',\n",
       "       'KIDNAPPING 2', 'TAMPERING WITH A WITNESS',\n",
       "       'LARCENY, GRAND OF AUTO - ATTEM', 'CONTROLLED SUBSTANCE, SALE 4',\n",
       "       'ROBBERY,GAS STATION', 'ROBBERY,CHECK CASHING BUSINESS',\n",
       "       'FACILITATION 3,2,1, CRIMINAL', 'TERRORISM PROVIDE SUPPORT',\n",
       "       'LARCENY,GRAND OF BOAT', 'CONSPIRACY 4, 3', 'ROBBERY,PHARMACY',\n",
       "       'VEHICULAR ASSAULT (INTOX DRIVE', 'CHILD ABANDONMENT',\n",
       "       'INTOXICATED DRIVING,ALCOHOL', 'COMPUTER TAMPER/TRESSPASS',\n",
       "       'GAMBLING 1,PROMOTING,POLICY', 'USE OF A CHILD IN A SEXUAL PER',\n",
       "       'SEX TRAFFICKING', 'LARCENY,GRAND FROM BOAT, UNATTENDED',\n",
       "       'INCOMPETENT PERSON,KNOWINGLY ENDANGERING',\n",
       "       'COURSE OF SEXUAL CONDUCT AGAIN',\n",
       "       'END WELFARE VULNERABLE ELDERLY PERSON', 'ROBBERY,LIQUOR STORE',\n",
       "       'ROBBERY,UNLICENSED FOR HIRE VEHICLE', 'CONSPIRACY 2, 1',\n",
       "       'FORGERY,PRESCRIPTION', 'TAMPERING 1,CRIMINAL', 'ROBBERY, PAYROLL',\n",
       "       'PROMOTING A SEXUAL PERFORMANCE', 'TAX LAW',\n",
       "       'DRUG PARAPHERNALIA,   POSSESSE', 'HOMICIDE, NEGLIGENT, VEHICLE,',\n",
       "       'SODOMY 2', 'LURING A CHILD', 'ESCAPE 2,1', 'SUPP. ACT TERR 2ND',\n",
       "       'ARSON 1', 'SOLICITATION 3,2,1, CRIMINAL',\n",
       "       'ROBBERY,OF TRUCK DRIVER', 'ASSAULT SCHOOL SAFETY AGENT',\n",
       "       'ROBBERY,DOCTOR/DENTIST OFFICE', 'BAIL JUMPING 1 & 2',\n",
       "       'PROSTITUTION 3,PROMOTING BUSIN', 'RIOT 1',\n",
       "       'PROSTITUTION 2, COMPULSORY', 'PERJURY 2,1,ETC',\n",
       "       'LABOR TRAFFICKING', 'HOMICIDE,NEGLIGENT,UNCLASSIFIE',\n",
       "       'DRUG, INJECTION OF', 'NUISANCE, CRIMINAL', 'INCEST 3',\n",
       "       'SALES OF PRESCRIPTION', 'EAVESDROPPING', 'HEALTHCARE/RENT.REG.',\n",
       "       'MONEY LAUNDERING 1 & 2', 'PROSTITUTION 3, PROMOTING UNDE',\n",
       "       'MISCHIEF 1,CRIMINAL,EXPLOSIVE', 'PLACE FALSE BOMB',\n",
       "       'CONTROLLED SUBSTANCE,POSSESS.-', 'BIGAMY', 'ROBBERY,HIJACKING',\n",
       "       'MANUFACTURE UNAUTHORIZED RECOR', 'SEX CRIMES',\n",
       "       'AGGRAVATED GRAND LARCENY OF ATM'], dtype=object)"
      ]
     },
     "execution_count": 54,
     "metadata": {},
     "output_type": "execute_result"
    }
   ],
   "source": [
    "clean_df.specific_offense.unique()"
   ]
  },
  {
   "cell_type": "code",
   "execution_count": 55,
   "metadata": {},
   "outputs": [
    {
     "data": {
      "text/plain": [
       "684"
      ]
     },
     "execution_count": 55,
     "metadata": {},
     "output_type": "execute_result"
    }
   ],
   "source": [
    "clean_df.specific_offense_id.isna().sum()"
   ]
  },
  {
   "cell_type": "code",
   "execution_count": 56,
   "metadata": {},
   "outputs": [
    {
     "data": {
      "text/plain": [
       "684"
      ]
     },
     "execution_count": 56,
     "metadata": {},
     "output_type": "execute_result"
    }
   ],
   "source": [
    "clean_df.specific_offense.isna().sum()"
   ]
  },
  {
   "cell_type": "code",
   "execution_count": 57,
   "metadata": {},
   "outputs": [],
   "source": [
    "clean_df.loc[clean_df.specific_offense_id.isna(), 'specific_offense_id'] = 0.0"
   ]
  },
  {
   "cell_type": "code",
   "execution_count": 58,
   "metadata": {},
   "outputs": [],
   "source": [
    "clean_df.loc[clean_df.specific_offense.isna(), 'specific_offense'] = 'UNKNOWN'"
   ]
  },
  {
   "cell_type": "code",
   "execution_count": 59,
   "metadata": {},
   "outputs": [],
   "source": [
    "# convert specific offense id to string\n",
    "clean_df['specific_offense_id'] = clean_df.specific_offense_id.astype(int)\n",
    "clean_df['specific_offense_id'] = clean_df.specific_offense_id.astype(str)"
   ]
  },
  {
   "cell_type": "code",
   "execution_count": 60,
   "metadata": {},
   "outputs": [
    {
     "data": {
      "text/html": [
       "<div>\n",
       "<style scoped>\n",
       "    .dataframe tbody tr th:only-of-type {\n",
       "        vertical-align: middle;\n",
       "    }\n",
       "\n",
       "    .dataframe tbody tr th {\n",
       "        vertical-align: top;\n",
       "    }\n",
       "\n",
       "    .dataframe thead th {\n",
       "        text-align: right;\n",
       "    }\n",
       "</style>\n",
       "<table border=\"1\" class=\"dataframe\">\n",
       "  <thead>\n",
       "    <tr style=\"text-align: right;\">\n",
       "      <th></th>\n",
       "      <th>offense_id</th>\n",
       "      <th>specific_offense</th>\n",
       "      <th>specific_offense_id</th>\n",
       "    </tr>\n",
       "  </thead>\n",
       "  <tbody>\n",
       "    <tr>\n",
       "      <th>2</th>\n",
       "      <td>101</td>\n",
       "      <td>UNKNOWN</td>\n",
       "      <td>0</td>\n",
       "    </tr>\n",
       "    <tr>\n",
       "      <th>4</th>\n",
       "      <td>113</td>\n",
       "      <td>FORGERY,ETC.,UNCLASSIFIED-FELO</td>\n",
       "      <td>729</td>\n",
       "    </tr>\n",
       "    <tr>\n",
       "      <th>6</th>\n",
       "      <td>105</td>\n",
       "      <td>ROBBERY,PERSONAL ELECTRONIC DEVICE</td>\n",
       "      <td>386</td>\n",
       "    </tr>\n",
       "    <tr>\n",
       "      <th>8</th>\n",
       "      <td>107</td>\n",
       "      <td>BURGLARY,RESIDENCE,DAY</td>\n",
       "      <td>221</td>\n",
       "    </tr>\n",
       "    <tr>\n",
       "      <th>11</th>\n",
       "      <td>104</td>\n",
       "      <td>RAPE 2</td>\n",
       "      <td>155</td>\n",
       "    </tr>\n",
       "  </tbody>\n",
       "</table>\n",
       "</div>"
      ],
      "text/plain": [
       "   offense_id                    specific_offense specific_offense_id\n",
       "2         101                             UNKNOWN                   0\n",
       "4         113      FORGERY,ETC.,UNCLASSIFIED-FELO                 729\n",
       "6         105  ROBBERY,PERSONAL ELECTRONIC DEVICE                 386\n",
       "8         107              BURGLARY,RESIDENCE,DAY                 221\n",
       "11        104                              RAPE 2                 155"
      ]
     },
     "execution_count": 60,
     "metadata": {},
     "output_type": "execute_result"
    }
   ],
   "source": [
    "# get the general offense specific fields that will be loaded into heo4j\n",
    "specific_offenses = clean_df.loc[:,['offense_id', 'specific_offense', 'specific_offense_id']]\n",
    "specific_offenses.head()"
   ]
  },
  {
   "cell_type": "code",
   "execution_count": 61,
   "metadata": {},
   "outputs": [],
   "source": [
    "# export to csv\n",
    "specific_offenses.to_csv('./data/imports_neo4j/specific_offenses.csv', index=None)"
   ]
  },
  {
   "cell_type": "markdown",
   "metadata": {},
   "source": [
    "### Location"
   ]
  },
  {
   "cell_type": "code",
   "execution_count": 62,
   "metadata": {},
   "outputs": [
    {
     "data": {
      "text/html": [
       "<div>\n",
       "<style scoped>\n",
       "    .dataframe tbody tr th:only-of-type {\n",
       "        vertical-align: middle;\n",
       "    }\n",
       "\n",
       "    .dataframe tbody tr th {\n",
       "        vertical-align: top;\n",
       "    }\n",
       "\n",
       "    .dataframe thead th {\n",
       "        text-align: right;\n",
       "    }\n",
       "</style>\n",
       "<table border=\"1\" class=\"dataframe\">\n",
       "  <thead>\n",
       "    <tr style=\"text-align: right;\">\n",
       "      <th></th>\n",
       "      <th>complaint_id</th>\n",
       "      <th>latitude</th>\n",
       "      <th>longitude</th>\n",
       "    </tr>\n",
       "  </thead>\n",
       "  <tbody>\n",
       "    <tr>\n",
       "      <th>2</th>\n",
       "      <td>294801329</td>\n",
       "      <td>40.668188</td>\n",
       "      <td>-73.875137</td>\n",
       "    </tr>\n",
       "    <tr>\n",
       "      <th>4</th>\n",
       "      <td>433883572</td>\n",
       "      <td>40.749601</td>\n",
       "      <td>-73.865373</td>\n",
       "    </tr>\n",
       "    <tr>\n",
       "      <th>6</th>\n",
       "      <td>730095503</td>\n",
       "      <td>40.863658</td>\n",
       "      <td>-73.891791</td>\n",
       "    </tr>\n",
       "    <tr>\n",
       "      <th>8</th>\n",
       "      <td>900168985</td>\n",
       "      <td>40.824941</td>\n",
       "      <td>-73.878322</td>\n",
       "    </tr>\n",
       "    <tr>\n",
       "      <th>11</th>\n",
       "      <td>507241260</td>\n",
       "      <td>40.853960</td>\n",
       "      <td>-73.900121</td>\n",
       "    </tr>\n",
       "  </tbody>\n",
       "</table>\n",
       "</div>"
      ],
      "text/plain": [
       "    complaint_id   latitude  longitude\n",
       "2      294801329  40.668188 -73.875137\n",
       "4      433883572  40.749601 -73.865373\n",
       "6      730095503  40.863658 -73.891791\n",
       "8      900168985  40.824941 -73.878322\n",
       "11     507241260  40.853960 -73.900121"
      ]
     },
     "execution_count": 62,
     "metadata": {},
     "output_type": "execute_result"
    }
   ],
   "source": [
    "# get the location specific fields that will be loaded into heo4j\n",
    "locations = clean_df.loc[:,['complaint_id', 'latitude', 'longitude']]\n",
    "locations.head()"
   ]
  },
  {
   "cell_type": "code",
   "execution_count": 63,
   "metadata": {},
   "outputs": [
    {
     "data": {
      "text/html": [
       "<div>\n",
       "<style scoped>\n",
       "    .dataframe tbody tr th:only-of-type {\n",
       "        vertical-align: middle;\n",
       "    }\n",
       "\n",
       "    .dataframe tbody tr th {\n",
       "        vertical-align: top;\n",
       "    }\n",
       "\n",
       "    .dataframe thead th {\n",
       "        text-align: right;\n",
       "    }\n",
       "</style>\n",
       "<table border=\"1\" class=\"dataframe\">\n",
       "  <thead>\n",
       "    <tr style=\"text-align: right;\">\n",
       "      <th></th>\n",
       "      <th></th>\n",
       "    </tr>\n",
       "    <tr>\n",
       "      <th>latitude</th>\n",
       "      <th>longitude</th>\n",
       "    </tr>\n",
       "  </thead>\n",
       "  <tbody>\n",
       "    <tr>\n",
       "      <th>40.499948</th>\n",
       "      <th>-74.238006</th>\n",
       "    </tr>\n",
       "    <tr>\n",
       "      <th>40.500216</th>\n",
       "      <th>-74.244795</th>\n",
       "    </tr>\n",
       "    <tr>\n",
       "      <th>40.500563</th>\n",
       "      <th>-74.243049</th>\n",
       "    </tr>\n",
       "    <tr>\n",
       "      <th>40.500629</th>\n",
       "      <th>-74.236556</th>\n",
       "    </tr>\n",
       "    <tr>\n",
       "      <th>40.500918</th>\n",
       "      <th>-74.241253</th>\n",
       "    </tr>\n",
       "    <tr>\n",
       "      <th>...</th>\n",
       "      <th>...</th>\n",
       "    </tr>\n",
       "    <tr>\n",
       "      <th>40.910955</th>\n",
       "      <th>-73.901092</th>\n",
       "    </tr>\n",
       "    <tr>\n",
       "      <th>40.911095</th>\n",
       "      <th>-73.901981</th>\n",
       "    </tr>\n",
       "    <tr>\n",
       "      <th>40.911307</th>\n",
       "      <th>-73.902904</th>\n",
       "    </tr>\n",
       "    <tr>\n",
       "      <th>40.912351</th>\n",
       "      <th>-73.900695</th>\n",
       "    </tr>\n",
       "    <tr>\n",
       "      <th>40.912723</th>\n",
       "      <th>-73.902525</th>\n",
       "    </tr>\n",
       "  </tbody>\n",
       "</table>\n",
       "<p>61514 rows × 0 columns</p>\n",
       "</div>"
      ],
      "text/plain": [
       "Empty DataFrame\n",
       "Columns: []\n",
       "Index: [(40.49994754300008, -74.23800586399994), (40.50021597600005, -74.24479548499993), (40.50056279200004, -74.24304923999993), (40.50062851400003, -74.23655561999993), (40.50091792200004, -74.24125266599998), (40.50110098000005, -74.24034719999997), (40.50128128000005, -74.23944531599993), (40.50146433200007, -74.238536244), (40.50198223800004, -74.24927511099996), (40.50216256200008, -74.24839481199997), (40.50218101600007, -74.23707531199994), (40.50234289300005, -74.24750731899996), (40.50238448800008, -74.23152410599994), (40.50278363800004, -74.25183113799993), (40.50288124800005, -74.24477647599997), (40.50294512300008, -74.22844081999993), (40.503230831000046, -74.243019383), (40.50323929100006, -74.23094813399997), (40.503413911000045, -74.24211029499997), (40.50353091300008, -74.23866947199997), (40.50377453100003, -74.24030646799997), (40.50392314300007, -74.23880391999995), (40.50394891600007, -74.24609288499995), (40.50408402300008, -74.237995417), (40.50423760300004, -74.25094123199995), (40.50447881300004, -74.24345183399998), (40.50474481700007, -74.23965549499997), (40.50496628700006, -74.22376940099997), (40.50503842000006, -74.24745975999997), (40.505069682000055, -74.24050170899994), (40.505202877000045, -74.23981176399997), (40.50539366500004, -74.24564151399994), (40.50591259300006, -74.25314826999994), (40.506109397000046, -74.24208049899994), (40.506195693000045, -74.23489597899999), (40.50627688700007, -74.25225064499993), (40.50630801500005, -74.22957786299997), (40.50656863500007, -74.25437700099997), (40.50657754000007, -74.24652329599996), (40.50672934200002, -74.23162905299995), (40.50689884700005, -74.24899137199996), (40.50721881500005, -74.23523760399996), (40.507261965000055, -74.23156616999995), (40.50726350600007, -74.25294121699994), (40.50727773300008, -74.23728397499997), (40.50742831200006, -74.23614095599999), (40.50764896500005, -74.24736153999999), (40.50785944300002, -74.24649206199997), (40.50788943400005, -74.24272345499998), (40.50796627100004, -74.23347094899998), (40.508075381000026, -74.24563338599995), (40.50812386100006, -74.23019184199995), (40.50815649000003, -74.24103784599998), (40.50825426200005, -74.25175105199997), (40.50852713400008, -74.24871334199997), (40.508574742000064, -74.23923049399998), (40.50866053900006, -74.22947446099994), (40.50876769000007, -74.24790150499997), (40.50882155600004, -74.23801587699995), (40.50887387000005, -74.22848265399993), (40.50896934700007, -74.23287389299998), (40.50900541400005, -74.24966450799997), (40.50917972600007, -74.24648254499994), (40.50927124900005, -74.24859024299997), (40.50932382600007, -74.24196986799996), (40.50936760300005, -74.24718808899996), (40.509532971000056, -74.22413351599994), (40.50981556200002, -74.24436672199994), (40.509952748000046, -74.24822955899998), (40.50999274900005, -74.23974263399998), (40.51010447400005, -74.24787769199997), (40.51022162500004, -74.25206054299997), (40.51036775100005, -74.23627360999996), (40.51036957600007, -74.24967319799998), (40.51050579200007, -74.23721631499996), (40.51066996600008, -74.24785101899994), (40.51075546000004, -74.25145119099993), (40.51082522200005, -74.24198249399994), (40.51087836800008, -74.23355304399996), (40.51088012600008, -74.24456840799998), (40.51116155600005, -74.24128603399998), (40.51133327100007, -74.23659349599995), (40.51137594900008, -74.22492368499996), (40.511379428000055, -74.25104356099996), (40.51143694000008, -74.24345918999995), (40.51146119600002, -74.23844244499998), (40.51158633800003, -74.24930372699998), (40.51170186000007, -74.23217853499993), (40.51174378700006, -74.21043539499993), (40.51175382000008, -74.24288133799998), (40.51180433500008, -74.25003459199996), (40.51181207600007, -74.23997932299993), (40.51185120700006, -74.23297743499995), (40.51186186600006, -74.23582215899995), (40.51203825400006, -74.249754952), (40.51208953700007, -74.24762252099998), (40.512460100000055, -74.25014853099998), (40.51260995400003, -74.23374969899999), (40.51262117300007, -74.19705971799993), (40.51278415300004, -74.24626566599994), ...]\n",
       "\n",
       "[61514 rows x 0 columns]"
      ]
     },
     "execution_count": 63,
     "metadata": {},
     "output_type": "execute_result"
    }
   ],
   "source": [
    "# get unique lat long for GIS analysis\n",
    "unique_locs = clean_df.loc[:,['latitude','longitude']].groupby(['latitude', 'longitude']).count()\n",
    "unique_locs"
   ]
  },
  {
   "cell_type": "code",
   "execution_count": 64,
   "metadata": {},
   "outputs": [],
   "source": [
    "# reset index twice to push index to column as unique identifier\n",
    "unique_locs.reset_index(inplace=True)\n",
    "unique_locs.reset_index(inplace=True)"
   ]
  },
  {
   "cell_type": "code",
   "execution_count": 65,
   "metadata": {},
   "outputs": [],
   "source": [
    "unique_locs.rename({'index':'location_id'}, axis='columns', inplace=True)"
   ]
  },
  {
   "cell_type": "code",
   "execution_count": 66,
   "metadata": {},
   "outputs": [
    {
     "data": {
      "text/html": [
       "<div>\n",
       "<style scoped>\n",
       "    .dataframe tbody tr th:only-of-type {\n",
       "        vertical-align: middle;\n",
       "    }\n",
       "\n",
       "    .dataframe tbody tr th {\n",
       "        vertical-align: top;\n",
       "    }\n",
       "\n",
       "    .dataframe thead th {\n",
       "        text-align: right;\n",
       "    }\n",
       "</style>\n",
       "<table border=\"1\" class=\"dataframe\">\n",
       "  <thead>\n",
       "    <tr style=\"text-align: right;\">\n",
       "      <th></th>\n",
       "      <th>location_id</th>\n",
       "      <th>latitude</th>\n",
       "      <th>longitude</th>\n",
       "    </tr>\n",
       "  </thead>\n",
       "  <tbody>\n",
       "    <tr>\n",
       "      <th>0</th>\n",
       "      <td>0</td>\n",
       "      <td>40.499948</td>\n",
       "      <td>-74.238006</td>\n",
       "    </tr>\n",
       "    <tr>\n",
       "      <th>1</th>\n",
       "      <td>1</td>\n",
       "      <td>40.500216</td>\n",
       "      <td>-74.244795</td>\n",
       "    </tr>\n",
       "    <tr>\n",
       "      <th>2</th>\n",
       "      <td>2</td>\n",
       "      <td>40.500563</td>\n",
       "      <td>-74.243049</td>\n",
       "    </tr>\n",
       "    <tr>\n",
       "      <th>3</th>\n",
       "      <td>3</td>\n",
       "      <td>40.500629</td>\n",
       "      <td>-74.236556</td>\n",
       "    </tr>\n",
       "    <tr>\n",
       "      <th>4</th>\n",
       "      <td>4</td>\n",
       "      <td>40.500918</td>\n",
       "      <td>-74.241253</td>\n",
       "    </tr>\n",
       "    <tr>\n",
       "      <th>...</th>\n",
       "      <td>...</td>\n",
       "      <td>...</td>\n",
       "      <td>...</td>\n",
       "    </tr>\n",
       "    <tr>\n",
       "      <th>61509</th>\n",
       "      <td>61509</td>\n",
       "      <td>40.910955</td>\n",
       "      <td>-73.901092</td>\n",
       "    </tr>\n",
       "    <tr>\n",
       "      <th>61510</th>\n",
       "      <td>61510</td>\n",
       "      <td>40.911095</td>\n",
       "      <td>-73.901981</td>\n",
       "    </tr>\n",
       "    <tr>\n",
       "      <th>61511</th>\n",
       "      <td>61511</td>\n",
       "      <td>40.911307</td>\n",
       "      <td>-73.902904</td>\n",
       "    </tr>\n",
       "    <tr>\n",
       "      <th>61512</th>\n",
       "      <td>61512</td>\n",
       "      <td>40.912351</td>\n",
       "      <td>-73.900695</td>\n",
       "    </tr>\n",
       "    <tr>\n",
       "      <th>61513</th>\n",
       "      <td>61513</td>\n",
       "      <td>40.912723</td>\n",
       "      <td>-73.902525</td>\n",
       "    </tr>\n",
       "  </tbody>\n",
       "</table>\n",
       "<p>61514 rows × 3 columns</p>\n",
       "</div>"
      ],
      "text/plain": [
       "       location_id   latitude  longitude\n",
       "0                0  40.499948 -74.238006\n",
       "1                1  40.500216 -74.244795\n",
       "2                2  40.500563 -74.243049\n",
       "3                3  40.500629 -74.236556\n",
       "4                4  40.500918 -74.241253\n",
       "...            ...        ...        ...\n",
       "61509        61509  40.910955 -73.901092\n",
       "61510        61510  40.911095 -73.901981\n",
       "61511        61511  40.911307 -73.902904\n",
       "61512        61512  40.912351 -73.900695\n",
       "61513        61513  40.912723 -73.902525\n",
       "\n",
       "[61514 rows x 3 columns]"
      ]
     },
     "execution_count": 66,
     "metadata": {},
     "output_type": "execute_result"
    }
   ],
   "source": [
    "unique_locs"
   ]
  },
  {
   "cell_type": "code",
   "execution_count": 67,
   "metadata": {},
   "outputs": [],
   "source": [
    "unique_locs.to_csv('./data/gis/locations_for_gis.csv', index=False)"
   ]
  },
  {
   "cell_type": "code",
   "execution_count": 69,
   "metadata": {},
   "outputs": [],
   "source": [
    "# run boro analysis model in gis and load results\n",
    "unique_locs_boro = pd.read_csv('./data/gis/output/location_for_gis_with_boro.csv',usecols=['location_id','boro_name'])"
   ]
  },
  {
   "cell_type": "code",
   "execution_count": 71,
   "metadata": {},
   "outputs": [
    {
     "data": {
      "text/html": [
       "<div>\n",
       "<style scoped>\n",
       "    .dataframe tbody tr th:only-of-type {\n",
       "        vertical-align: middle;\n",
       "    }\n",
       "\n",
       "    .dataframe tbody tr th {\n",
       "        vertical-align: top;\n",
       "    }\n",
       "\n",
       "    .dataframe thead th {\n",
       "        text-align: right;\n",
       "    }\n",
       "</style>\n",
       "<table border=\"1\" class=\"dataframe\">\n",
       "  <thead>\n",
       "    <tr style=\"text-align: right;\">\n",
       "      <th></th>\n",
       "      <th>location_id</th>\n",
       "      <th>boro_name</th>\n",
       "    </tr>\n",
       "  </thead>\n",
       "  <tbody>\n",
       "    <tr>\n",
       "      <th>0</th>\n",
       "      <td>0</td>\n",
       "      <td>Staten Island</td>\n",
       "    </tr>\n",
       "    <tr>\n",
       "      <th>1</th>\n",
       "      <td>1</td>\n",
       "      <td>Staten Island</td>\n",
       "    </tr>\n",
       "    <tr>\n",
       "      <th>2</th>\n",
       "      <td>2</td>\n",
       "      <td>Staten Island</td>\n",
       "    </tr>\n",
       "    <tr>\n",
       "      <th>3</th>\n",
       "      <td>3</td>\n",
       "      <td>Staten Island</td>\n",
       "    </tr>\n",
       "    <tr>\n",
       "      <th>4</th>\n",
       "      <td>4</td>\n",
       "      <td>Staten Island</td>\n",
       "    </tr>\n",
       "    <tr>\n",
       "      <th>...</th>\n",
       "      <td>...</td>\n",
       "      <td>...</td>\n",
       "    </tr>\n",
       "    <tr>\n",
       "      <th>61509</th>\n",
       "      <td>61509</td>\n",
       "      <td>Bronx</td>\n",
       "    </tr>\n",
       "    <tr>\n",
       "      <th>61510</th>\n",
       "      <td>61510</td>\n",
       "      <td>Bronx</td>\n",
       "    </tr>\n",
       "    <tr>\n",
       "      <th>61511</th>\n",
       "      <td>61511</td>\n",
       "      <td>Bronx</td>\n",
       "    </tr>\n",
       "    <tr>\n",
       "      <th>61512</th>\n",
       "      <td>61512</td>\n",
       "      <td>Bronx</td>\n",
       "    </tr>\n",
       "    <tr>\n",
       "      <th>61513</th>\n",
       "      <td>61513</td>\n",
       "      <td>Bronx</td>\n",
       "    </tr>\n",
       "  </tbody>\n",
       "</table>\n",
       "<p>61514 rows × 2 columns</p>\n",
       "</div>"
      ],
      "text/plain": [
       "       location_id      boro_name\n",
       "0                0  Staten Island\n",
       "1                1  Staten Island\n",
       "2                2  Staten Island\n",
       "3                3  Staten Island\n",
       "4                4  Staten Island\n",
       "...            ...            ...\n",
       "61509        61509          Bronx\n",
       "61510        61510          Bronx\n",
       "61511        61511          Bronx\n",
       "61512        61512          Bronx\n",
       "61513        61513          Bronx\n",
       "\n",
       "[61514 rows x 2 columns]"
      ]
     },
     "execution_count": 71,
     "metadata": {},
     "output_type": "execute_result"
    }
   ],
   "source": [
    "unique_locs_boro"
   ]
  },
  {
   "cell_type": "code",
   "execution_count": 72,
   "metadata": {},
   "outputs": [],
   "source": [
    "unique_locs_with_boro = unique_locs.join(unique_locs_boro, on='location_id', lsuffix='_loc')"
   ]
  },
  {
   "cell_type": "code",
   "execution_count": 73,
   "metadata": {},
   "outputs": [],
   "source": [
    "unique_locs_with_boro.drop(['location_id_loc'], axis='columns', inplace=True)"
   ]
  },
  {
   "cell_type": "code",
   "execution_count": 74,
   "metadata": {},
   "outputs": [
    {
     "data": {
      "text/html": [
       "<div>\n",
       "<style scoped>\n",
       "    .dataframe tbody tr th:only-of-type {\n",
       "        vertical-align: middle;\n",
       "    }\n",
       "\n",
       "    .dataframe tbody tr th {\n",
       "        vertical-align: top;\n",
       "    }\n",
       "\n",
       "    .dataframe thead th {\n",
       "        text-align: right;\n",
       "    }\n",
       "</style>\n",
       "<table border=\"1\" class=\"dataframe\">\n",
       "  <thead>\n",
       "    <tr style=\"text-align: right;\">\n",
       "      <th></th>\n",
       "      <th>latitude</th>\n",
       "      <th>longitude</th>\n",
       "      <th>location_id</th>\n",
       "      <th>boro_name</th>\n",
       "    </tr>\n",
       "  </thead>\n",
       "  <tbody>\n",
       "    <tr>\n",
       "      <th>0</th>\n",
       "      <td>40.499948</td>\n",
       "      <td>-74.238006</td>\n",
       "      <td>0</td>\n",
       "      <td>Staten Island</td>\n",
       "    </tr>\n",
       "    <tr>\n",
       "      <th>1</th>\n",
       "      <td>40.500216</td>\n",
       "      <td>-74.244795</td>\n",
       "      <td>1</td>\n",
       "      <td>Staten Island</td>\n",
       "    </tr>\n",
       "    <tr>\n",
       "      <th>2</th>\n",
       "      <td>40.500563</td>\n",
       "      <td>-74.243049</td>\n",
       "      <td>2</td>\n",
       "      <td>Staten Island</td>\n",
       "    </tr>\n",
       "    <tr>\n",
       "      <th>3</th>\n",
       "      <td>40.500629</td>\n",
       "      <td>-74.236556</td>\n",
       "      <td>3</td>\n",
       "      <td>Staten Island</td>\n",
       "    </tr>\n",
       "    <tr>\n",
       "      <th>4</th>\n",
       "      <td>40.500918</td>\n",
       "      <td>-74.241253</td>\n",
       "      <td>4</td>\n",
       "      <td>Staten Island</td>\n",
       "    </tr>\n",
       "    <tr>\n",
       "      <th>...</th>\n",
       "      <td>...</td>\n",
       "      <td>...</td>\n",
       "      <td>...</td>\n",
       "      <td>...</td>\n",
       "    </tr>\n",
       "    <tr>\n",
       "      <th>61509</th>\n",
       "      <td>40.910955</td>\n",
       "      <td>-73.901092</td>\n",
       "      <td>61509</td>\n",
       "      <td>Bronx</td>\n",
       "    </tr>\n",
       "    <tr>\n",
       "      <th>61510</th>\n",
       "      <td>40.911095</td>\n",
       "      <td>-73.901981</td>\n",
       "      <td>61510</td>\n",
       "      <td>Bronx</td>\n",
       "    </tr>\n",
       "    <tr>\n",
       "      <th>61511</th>\n",
       "      <td>40.911307</td>\n",
       "      <td>-73.902904</td>\n",
       "      <td>61511</td>\n",
       "      <td>Bronx</td>\n",
       "    </tr>\n",
       "    <tr>\n",
       "      <th>61512</th>\n",
       "      <td>40.912351</td>\n",
       "      <td>-73.900695</td>\n",
       "      <td>61512</td>\n",
       "      <td>Bronx</td>\n",
       "    </tr>\n",
       "    <tr>\n",
       "      <th>61513</th>\n",
       "      <td>40.912723</td>\n",
       "      <td>-73.902525</td>\n",
       "      <td>61513</td>\n",
       "      <td>Bronx</td>\n",
       "    </tr>\n",
       "  </tbody>\n",
       "</table>\n",
       "<p>61514 rows × 4 columns</p>\n",
       "</div>"
      ],
      "text/plain": [
       "        latitude  longitude  location_id      boro_name\n",
       "0      40.499948 -74.238006            0  Staten Island\n",
       "1      40.500216 -74.244795            1  Staten Island\n",
       "2      40.500563 -74.243049            2  Staten Island\n",
       "3      40.500629 -74.236556            3  Staten Island\n",
       "4      40.500918 -74.241253            4  Staten Island\n",
       "...          ...        ...          ...            ...\n",
       "61509  40.910955 -73.901092        61509          Bronx\n",
       "61510  40.911095 -73.901981        61510          Bronx\n",
       "61511  40.911307 -73.902904        61511          Bronx\n",
       "61512  40.912351 -73.900695        61512          Bronx\n",
       "61513  40.912723 -73.902525        61513          Bronx\n",
       "\n",
       "[61514 rows x 4 columns]"
      ]
     },
     "execution_count": 74,
     "metadata": {},
     "output_type": "execute_result"
    }
   ],
   "source": [
    "unique_locs_with_boro"
   ]
  },
  {
   "cell_type": "code",
   "execution_count": 75,
   "metadata": {},
   "outputs": [
    {
     "data": {
      "text/plain": [
       "0"
      ]
     },
     "execution_count": 75,
     "metadata": {},
     "output_type": "execute_result"
    }
   ],
   "source": [
    "unique_locs_boro.boro_name.isna().sum()"
   ]
  },
  {
   "cell_type": "code",
   "execution_count": 76,
   "metadata": {},
   "outputs": [],
   "source": [
    "locations_merged = locations.merge(unique_locs_with_boro, how='outer', on=['latitude','longitude'])"
   ]
  },
  {
   "cell_type": "code",
   "execution_count": 77,
   "metadata": {},
   "outputs": [
    {
     "data": {
      "text/html": [
       "<div>\n",
       "<style scoped>\n",
       "    .dataframe tbody tr th:only-of-type {\n",
       "        vertical-align: middle;\n",
       "    }\n",
       "\n",
       "    .dataframe tbody tr th {\n",
       "        vertical-align: top;\n",
       "    }\n",
       "\n",
       "    .dataframe thead th {\n",
       "        text-align: right;\n",
       "    }\n",
       "</style>\n",
       "<table border=\"1\" class=\"dataframe\">\n",
       "  <thead>\n",
       "    <tr style=\"text-align: right;\">\n",
       "      <th></th>\n",
       "      <th>complaint_id</th>\n",
       "      <th>latitude</th>\n",
       "      <th>longitude</th>\n",
       "      <th>location_id</th>\n",
       "      <th>boro_name</th>\n",
       "    </tr>\n",
       "  </thead>\n",
       "  <tbody>\n",
       "    <tr>\n",
       "      <th>0</th>\n",
       "      <td>294801329</td>\n",
       "      <td>40.668188</td>\n",
       "      <td>-73.875137</td>\n",
       "      <td>17588</td>\n",
       "      <td>Brooklyn</td>\n",
       "    </tr>\n",
       "    <tr>\n",
       "      <th>1</th>\n",
       "      <td>984985109</td>\n",
       "      <td>40.668188</td>\n",
       "      <td>-73.875137</td>\n",
       "      <td>17588</td>\n",
       "      <td>Brooklyn</td>\n",
       "    </tr>\n",
       "    <tr>\n",
       "      <th>2</th>\n",
       "      <td>236124378</td>\n",
       "      <td>40.668188</td>\n",
       "      <td>-73.875137</td>\n",
       "      <td>17588</td>\n",
       "      <td>Brooklyn</td>\n",
       "    </tr>\n",
       "    <tr>\n",
       "      <th>3</th>\n",
       "      <td>403601885</td>\n",
       "      <td>40.668188</td>\n",
       "      <td>-73.875137</td>\n",
       "      <td>17588</td>\n",
       "      <td>Brooklyn</td>\n",
       "    </tr>\n",
       "    <tr>\n",
       "      <th>4</th>\n",
       "      <td>210506500</td>\n",
       "      <td>40.668188</td>\n",
       "      <td>-73.875137</td>\n",
       "      <td>17588</td>\n",
       "      <td>Brooklyn</td>\n",
       "    </tr>\n",
       "    <tr>\n",
       "      <th>...</th>\n",
       "      <td>...</td>\n",
       "      <td>...</td>\n",
       "      <td>...</td>\n",
       "      <td>...</td>\n",
       "      <td>...</td>\n",
       "    </tr>\n",
       "    <tr>\n",
       "      <th>270216</th>\n",
       "      <td>618850936</td>\n",
       "      <td>40.787229</td>\n",
       "      <td>-73.811050</td>\n",
       "      <td>48269</td>\n",
       "      <td>Queens</td>\n",
       "    </tr>\n",
       "    <tr>\n",
       "      <th>270217</th>\n",
       "      <td>461353346</td>\n",
       "      <td>40.769837</td>\n",
       "      <td>-73.769712</td>\n",
       "      <td>46159</td>\n",
       "      <td>Queens</td>\n",
       "    </tr>\n",
       "    <tr>\n",
       "      <th>270218</th>\n",
       "      <td>177906577</td>\n",
       "      <td>40.692858</td>\n",
       "      <td>-73.903543</td>\n",
       "      <td>26082</td>\n",
       "      <td>Brooklyn</td>\n",
       "    </tr>\n",
       "    <tr>\n",
       "      <th>270219</th>\n",
       "      <td>877569272</td>\n",
       "      <td>40.662082</td>\n",
       "      <td>-73.861913</td>\n",
       "      <td>15968</td>\n",
       "      <td>Brooklyn</td>\n",
       "    </tr>\n",
       "    <tr>\n",
       "      <th>270220</th>\n",
       "      <td>463193037</td>\n",
       "      <td>40.692865</td>\n",
       "      <td>-73.796835</td>\n",
       "      <td>26084</td>\n",
       "      <td>Queens</td>\n",
       "    </tr>\n",
       "  </tbody>\n",
       "</table>\n",
       "<p>270221 rows × 5 columns</p>\n",
       "</div>"
      ],
      "text/plain": [
       "        complaint_id   latitude  longitude  location_id boro_name\n",
       "0          294801329  40.668188 -73.875137        17588  Brooklyn\n",
       "1          984985109  40.668188 -73.875137        17588  Brooklyn\n",
       "2          236124378  40.668188 -73.875137        17588  Brooklyn\n",
       "3          403601885  40.668188 -73.875137        17588  Brooklyn\n",
       "4          210506500  40.668188 -73.875137        17588  Brooklyn\n",
       "...              ...        ...        ...          ...       ...\n",
       "270216     618850936  40.787229 -73.811050        48269    Queens\n",
       "270217     461353346  40.769837 -73.769712        46159    Queens\n",
       "270218     177906577  40.692858 -73.903543        26082  Brooklyn\n",
       "270219     877569272  40.662082 -73.861913        15968  Brooklyn\n",
       "270220     463193037  40.692865 -73.796835        26084    Queens\n",
       "\n",
       "[270221 rows x 5 columns]"
      ]
     },
     "execution_count": 77,
     "metadata": {},
     "output_type": "execute_result"
    }
   ],
   "source": [
    "locations_merged"
   ]
  },
  {
   "cell_type": "code",
   "execution_count": 78,
   "metadata": {},
   "outputs": [],
   "source": [
    "# export to csv\n",
    "locations_merged.to_csv('./data/imports_neo4j/locations.csv', index=None)"
   ]
  },
  {
   "cell_type": "code",
   "execution_count": 80,
   "metadata": {},
   "outputs": [],
   "source": [
    "locations_near = pd.read_csv('./data/gis/output/locations_near.csv', usecols=['in_location_id','near_location_id','NEAR_DIST','NEAR_RANK'])"
   ]
  },
  {
   "cell_type": "code",
   "execution_count": 81,
   "metadata": {},
   "outputs": [],
   "source": [
    "locations_near.rename({\n",
    "    \"NEAR_DIST\": \"near_dist\",\n",
    "    \"NEAR_RANK\": \"near_rank\"\n",
    "}, axis='columns', inplace=True)"
   ]
  },
  {
   "cell_type": "code",
   "execution_count": 82,
   "metadata": {},
   "outputs": [
    {
     "data": {
      "text/html": [
       "<div>\n",
       "<style scoped>\n",
       "    .dataframe tbody tr th:only-of-type {\n",
       "        vertical-align: middle;\n",
       "    }\n",
       "\n",
       "    .dataframe tbody tr th {\n",
       "        vertical-align: top;\n",
       "    }\n",
       "\n",
       "    .dataframe thead th {\n",
       "        text-align: right;\n",
       "    }\n",
       "</style>\n",
       "<table border=\"1\" class=\"dataframe\">\n",
       "  <thead>\n",
       "    <tr style=\"text-align: right;\">\n",
       "      <th></th>\n",
       "      <th>near_dist</th>\n",
       "      <th>near_rank</th>\n",
       "      <th>in_location_id</th>\n",
       "      <th>near_location_id</th>\n",
       "    </tr>\n",
       "  </thead>\n",
       "  <tbody>\n",
       "    <tr>\n",
       "      <th>0</th>\n",
       "      <td>473.523635</td>\n",
       "      <td>1</td>\n",
       "      <td>0</td>\n",
       "      <td>3</td>\n",
       "    </tr>\n",
       "    <tr>\n",
       "      <th>1</th>\n",
       "      <td>571.947999</td>\n",
       "      <td>2</td>\n",
       "      <td>0</td>\n",
       "      <td>7</td>\n",
       "    </tr>\n",
       "    <tr>\n",
       "      <th>2</th>\n",
       "      <td>629.578843</td>\n",
       "      <td>3</td>\n",
       "      <td>0</td>\n",
       "      <td>6</td>\n",
       "    </tr>\n",
       "    <tr>\n",
       "      <th>3</th>\n",
       "      <td>774.973099</td>\n",
       "      <td>4</td>\n",
       "      <td>0</td>\n",
       "      <td>5</td>\n",
       "    </tr>\n",
       "    <tr>\n",
       "      <th>4</th>\n",
       "      <td>853.867313</td>\n",
       "      <td>5</td>\n",
       "      <td>0</td>\n",
       "      <td>10</td>\n",
       "    </tr>\n",
       "    <tr>\n",
       "      <th>...</th>\n",
       "      <td>...</td>\n",
       "      <td>...</td>\n",
       "      <td>...</td>\n",
       "      <td>...</td>\n",
       "    </tr>\n",
       "    <tr>\n",
       "      <th>2339983</th>\n",
       "      <td>523.699329</td>\n",
       "      <td>1</td>\n",
       "      <td>61513</td>\n",
       "      <td>61512</td>\n",
       "    </tr>\n",
       "    <tr>\n",
       "      <th>2339984</th>\n",
       "      <td>526.376203</td>\n",
       "      <td>2</td>\n",
       "      <td>61513</td>\n",
       "      <td>61511</td>\n",
       "    </tr>\n",
       "    <tr>\n",
       "      <th>2339985</th>\n",
       "      <td>611.923327</td>\n",
       "      <td>3</td>\n",
       "      <td>61513</td>\n",
       "      <td>61510</td>\n",
       "    </tr>\n",
       "    <tr>\n",
       "      <th>2339986</th>\n",
       "      <td>756.534984</td>\n",
       "      <td>4</td>\n",
       "      <td>61513</td>\n",
       "      <td>61509</td>\n",
       "    </tr>\n",
       "    <tr>\n",
       "      <th>2339987</th>\n",
       "      <td>976.969304</td>\n",
       "      <td>5</td>\n",
       "      <td>61513</td>\n",
       "      <td>61502</td>\n",
       "    </tr>\n",
       "  </tbody>\n",
       "</table>\n",
       "<p>2339988 rows × 4 columns</p>\n",
       "</div>"
      ],
      "text/plain": [
       "          near_dist  near_rank  in_location_id  near_location_id\n",
       "0        473.523635          1               0                 3\n",
       "1        571.947999          2               0                 7\n",
       "2        629.578843          3               0                 6\n",
       "3        774.973099          4               0                 5\n",
       "4        853.867313          5               0                10\n",
       "...             ...        ...             ...               ...\n",
       "2339983  523.699329          1           61513             61512\n",
       "2339984  526.376203          2           61513             61511\n",
       "2339985  611.923327          3           61513             61510\n",
       "2339986  756.534984          4           61513             61509\n",
       "2339987  976.969304          5           61513             61502\n",
       "\n",
       "[2339988 rows x 4 columns]"
      ]
     },
     "execution_count": 82,
     "metadata": {},
     "output_type": "execute_result"
    }
   ],
   "source": [
    "locations_near"
   ]
  },
  {
   "cell_type": "code",
   "execution_count": 83,
   "metadata": {},
   "outputs": [],
   "source": [
    "# export to csv\n",
    "locations_near.to_csv('./data/imports_neo4j/locations_near.csv', index=None)"
   ]
  },
  {
   "cell_type": "code",
   "execution_count": null,
   "metadata": {},
   "outputs": [],
   "source": []
  }
 ],
 "metadata": {
  "kernelspec": {
   "display_name": "Python 3",
   "language": "python",
   "name": "python3"
  },
  "language_info": {
   "codemirror_mode": {
    "name": "ipython",
    "version": 3
   },
   "file_extension": ".py",
   "mimetype": "text/x-python",
   "name": "python",
   "nbconvert_exporter": "python",
   "pygments_lexer": "ipython3",
   "version": "3.8.5"
  }
 },
 "nbformat": 4,
 "nbformat_minor": 4
}
